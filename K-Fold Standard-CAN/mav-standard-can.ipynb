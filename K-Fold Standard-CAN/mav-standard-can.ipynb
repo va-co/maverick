{
 "cells": [
  {
   "cell_type": "code",
   "execution_count": 1,
   "metadata": {},
   "outputs": [
    {
     "name": "stderr",
     "output_type": "stream",
     "text": [
      "2025-01-19 23:19:37.755205: I tensorflow/tsl/cuda/cudart_stub.cc:28] Could not find cuda drivers on your machine, GPU will not be used.\n",
      "2025-01-19 23:19:37.823124: I tensorflow/tsl/cuda/cudart_stub.cc:28] Could not find cuda drivers on your machine, GPU will not be used.\n",
      "2025-01-19 23:19:37.824964: I tensorflow/core/platform/cpu_feature_guard.cc:182] This TensorFlow binary is optimized to use available CPU instructions in performance-critical operations.\n",
      "To enable the following instructions: AVX2 FMA, in other operations, rebuild TensorFlow with the appropriate compiler flags.\n",
      "2025-01-19 23:19:38.833003: W tensorflow/compiler/tf2tensorrt/utils/py_utils.cc:38] TF-TRT Warning: Could not find TensorRT\n"
     ]
    }
   ],
   "source": [
    "import os\n",
    "import sys\n",
    "import vote\n",
    "import time\n",
    "import pickle\n",
    "import random\n",
    "import warnings\n",
    "import numpy as np\n",
    "import pandas as pd\n",
    "from tqdm import tqdm\n",
    "import plotly.io as pio\n",
    "from maverick import Maverick\n",
    "import plotly.graph_objs as go\n",
    "import matplotlib.pyplot as plt\n",
    "np.set_printoptions(suppress=True)\n",
    "warnings.filterwarnings(\"ignore\")\n",
    "from IPython.display import clear_output\n",
    "from sklearn.metrics import accuracy_score, matthews_corrcoef, f1_score\n",
    "from sklearn.metrics import roc_curve, auc, RocCurveDisplay, confusion_matrix, roc_auc_score"
   ]
  },
  {
   "cell_type": "code",
   "execution_count": 2,
   "metadata": {},
   "outputs": [],
   "source": [
    "%load_ext memory_profiler"
   ]
  },
  {
   "cell_type": "code",
   "execution_count": 3,
   "metadata": {},
   "outputs": [],
   "source": [
    "repo_dir = \"cic-iov-2024\"\n",
    "if not os.path.exists(\"../cic-iov-2024\"):\n",
    "    !git clone https://github.com/val-co/cic-iov-2024.git\n",
    "\n",
    "DATASET_DIRECTORY = '/home/ubuntu/Maverick/' + repo_dir + '/'"
   ]
  },
  {
   "cell_type": "code",
   "execution_count": 4,
   "metadata": {},
   "outputs": [
    {
     "name": "stdout",
     "output_type": "stream",
     "text": [
      "DataFrame 'decimal_spoofing-GAS'\n",
      "DataFrame 'decimal_spoofing-SPEED'\n",
      "DataFrame 'decimal_spoofing-RPM'\n",
      "DataFrame 'decimal_spoofing-STEERING_WHEEL'\n",
      "DataFrame 'decimal_DoS'\n",
      "DataFrame 'decimal_benign'\n"
     ]
    }
   ],
   "source": [
    "# Dictionary to store dataframes\n",
    "dataframes = {}\n",
    "\n",
    "# Loop through all files in the directory\n",
    "for filename in os.listdir(DATASET_DIRECTORY):\n",
    "    \n",
    "    # Check if the file is a CSV\n",
    "    if filename.endswith('.csv'):\n",
    "        \n",
    "        # Generate the variable name from the filename (remove '.csv')\n",
    "        var_name = os.path.splitext(filename)[0]\n",
    "        \n",
    "        # Read the CSV file into a DataFrame\n",
    "        file_path = os.path.join(DATASET_DIRECTORY, filename)\n",
    "        dataframes[var_name] = pd.read_csv(file_path)\n",
    "        \n",
    "        # Drop the last 2 columns\n",
    "        dataframes[var_name] = dataframes[var_name].iloc[:, :-2]\n",
    "        \n",
    "        # Identify the third last column\n",
    "        third_last_col = dataframes[var_name].columns[-1]\n",
    "        \n",
    "        # Replace values in the third last column\n",
    "        dataframes[var_name][third_last_col] = dataframes[var_name][third_last_col].replace({'ATTACK': 1, 'BENIGN': 0})\n",
    "\n",
    "# Optionally, print the variables to verify\n",
    "for var_name, df in dataframes.items():\n",
    "    print(f\"DataFrame '{var_name}'\")"
   ]
  },
  {
   "cell_type": "code",
   "execution_count": 5,
   "metadata": {},
   "outputs": [],
   "source": [
    "from sklearn.model_selection import train_test_split\n",
    "import pandas as pd\n",
    "\n",
    "# Combine all DataFrames into a single X (features) and y (labels)\n",
    "X = pd.concat([df.iloc[:, :-1] for df in dataframes.values()], axis=0, ignore_index=True)\n",
    "y = pd.concat([df.iloc[:, -1] for df in dataframes.values()], axis=0, ignore_index=True)\n",
    "\n",
    "def create_5folds(X, y, random_state=42):\n",
    "    X_folds, y_folds = {}, {}\n",
    "    X_train, X_surrogate, X_test = {}, {}, {}\n",
    "    y_train, y_surrogate, y_test = {}, {}, {}\n",
    "    \n",
    "    # First split: 80/20\n",
    "    X_80, X_folds[0], y_80, y_folds[0] = train_test_split(X, y, \n",
    "        test_size=0.2, random_state=random_state, shuffle=True,)\n",
    "    \n",
    "    # Split 80 into 40/40\n",
    "    X_40_1, X_40_2, y_40_1, y_40_2 = train_test_split(X_80, y_80, \n",
    "        test_size=0.5, random_state=random_state, shuffle=True,)\n",
    "    \n",
    "    # Split first 40 into 20/20\n",
    "    X_folds[1], X_folds[2], y_folds[1], y_folds[2] = train_test_split(X_40_1, y_40_1, \n",
    "        test_size=0.5, random_state=random_state, shuffle=True,)\n",
    "    \n",
    "    # Split second 40 into 20/20\n",
    "    X_folds[3], X_folds[4], y_folds[3], y_folds[4] = train_test_split(X_40_2, y_40_2, \n",
    "        test_size=0.5, random_state=random_state, shuffle=True,)\n",
    "    \n",
    "    fold_indices = {0, 1, 2, 3, 4}\n",
    "    for fold in range(5):\n",
    "        test_fold = fold\n",
    "        surrogate_fold = (fold + 1) % 5\n",
    "        train_fold = fold_indices - {surrogate_fold, test_fold}\n",
    "        X_test[fold], y_test[fold] = X_folds[test_fold], y_folds[test_fold]\n",
    "        X_surrogate[fold], y_surrogate[fold] = X_folds[surrogate_fold], y_folds[surrogate_fold]\n",
    "        X_train[fold], y_train[fold] = pd.concat([X_folds[i] for i in train_fold]), pd.concat([y_folds[i] for i in train_fold])\n",
    "\n",
    "    del X_folds, y_folds\n",
    "    return X_train, y_train, X_surrogate, y_surrogate, X_test, y_test"
   ]
  },
  {
   "cell_type": "code",
   "execution_count": 6,
   "metadata": {},
   "outputs": [],
   "source": [
    "X_train, y_train, X_surrogate, y_surrogate, X_test, y_test = create_5folds(X, y)"
   ]
  },
  {
   "cell_type": "markdown",
   "metadata": {},
   "source": [
    "##### Then we train a Random Forest or XGBoost Classifier"
   ]
  },
  {
   "cell_type": "code",
   "execution_count": 7,
   "metadata": {},
   "outputs": [
    {
     "name": "stdout",
     "output_type": "stream",
     "text": [
      "Loaded Models\n"
     ]
    }
   ],
   "source": [
    "import joblib\n",
    "from pathlib import Path\n",
    "from xgboost import XGBClassifier\n",
    "from sklearn.ensemble import RandomForestClassifier\n",
    "\n",
    "Path(\"models\").mkdir(exist_ok=True)\n",
    "\n",
    "if not Path(\"models/rf_model_fold_0.joblib\").exists():\n",
    "    model0 = RandomForestClassifier(n_estimators=254, max_depth=10, random_state=42)\n",
    "    model0.fit(X_train[0], y_train[0])\n",
    "    print(\"Model-0 Trained\")\n",
    "    joblib.dump(model0, \"models/rf_model_fold_0.joblib\")\n",
    "\n",
    "if not Path(\"models/rf_model_fold_1.joblib\").exists():\n",
    "    model1 = RandomForestClassifier(n_estimators=254, max_depth=10, random_state=42)\n",
    "    model1.fit(X_train[1], y_train[1])\n",
    "    print(\"Model-1 Trained\")\n",
    "    joblib.dump(model1, \"models/rf_model_fold_1.joblib\")\n",
    "\n",
    "if not Path(\"models/rf_model_fold_2.joblib\").exists():\n",
    "    model2 = RandomForestClassifier(n_estimators=254, max_depth=10, random_state=42)\n",
    "    model2.fit(X_train[2], y_train[2])\n",
    "    print(\"Model-2 Trained\")\n",
    "    joblib.dump(model2, \"models/rf_model_fold_2.joblib\")\n",
    "\n",
    "if not Path(\"models/rf_model_fold_3.joblib\").exists():\n",
    "    model3 = RandomForestClassifier(n_estimators=254, max_depth=10, random_state=42)\n",
    "    model3.fit(X_train[3], y_train[3])\n",
    "    print(\"Model-3 Trained\")\n",
    "    joblib.dump(model3, \"models/rf_model_fold_3.joblib\")\n",
    "\n",
    "if not Path(\"models/rf_model_fold_4.joblib\").exists():\n",
    "    model4 = RandomForestClassifier(n_estimators=254, max_depth=10, random_state=42)\n",
    "    model4.fit(X_train[4], y_train[4])\n",
    "    print(\"Model-4 Trained\")\n",
    "    joblib.dump(model4, \"models/rf_model_fold_4.joblib\")\n",
    "\n",
    "model0 = joblib.load(\"models/rf_model_fold_0.joblib\")\n",
    "model1 = joblib.load(\"models/rf_model_fold_1.joblib\")\n",
    "model2 = joblib.load(\"models/rf_model_fold_2.joblib\")\n",
    "model3 = joblib.load(\"models/rf_model_fold_3.joblib\")\n",
    "model4 = joblib.load(\"models/rf_model_fold_4.joblib\")\n",
    "print(\"Loaded Models\")"
   ]
  },
  {
   "cell_type": "markdown",
   "metadata": {},
   "source": [
    "Ensuring that the maximum number of leaves per tree is less than 255 (needed by OC-Score)"
   ]
  },
  {
   "cell_type": "code",
   "execution_count": 8,
   "metadata": {},
   "outputs": [
    {
     "name": "stdout",
     "output_type": "stream",
     "text": [
      "Maximum number of leaves (Model-0): 30\n",
      "Maximum number of leaves (Model-1): 30\n",
      "Maximum number of leaves (Model-2): 30\n",
      "Maximum number of leaves (Model-3): 30\n",
      "Maximum number of leaves (Model-4): 30\n"
     ]
    }
   ],
   "source": [
    "if hasattr(model0, 'estimators_'):  # Confirm that the model has trained estimators\n",
    "    max_leaves = max(estimator.get_n_leaves() for estimator in model0.estimators_)\n",
    "    print(f\"Maximum number of leaves (Model-0): {max_leaves}\")\n",
    "\n",
    "if hasattr(model1, 'estimators_'):  # Confirm that the model has trained estimators\n",
    "    max_leaves = max(estimator.get_n_leaves() for estimator in model1.estimators_)\n",
    "    print(f\"Maximum number of leaves (Model-1): {max_leaves}\")\n",
    "\n",
    "if hasattr(model2, 'estimators_'):  # Confirm that the model has trained estimators\n",
    "    max_leaves = max(estimator.get_n_leaves() for estimator in model2.estimators_)\n",
    "    print(f\"Maximum number of leaves (Model-2): {max_leaves}\")\n",
    "\n",
    "if hasattr(model3, 'estimators_'):  # Confirm that the model has trained estimators\n",
    "    max_leaves = max(estimator.get_n_leaves() for estimator in model3.estimators_)\n",
    "    print(f\"Maximum number of leaves (Model-3): {max_leaves}\")\n",
    "\n",
    "if hasattr(model4, 'estimators_'):  # Confirm that the model has trained estimators\n",
    "    max_leaves = max(estimator.get_n_leaves() for estimator in model4.estimators_)\n",
    "    print(f\"Maximum number of leaves (Model-4): {max_leaves}\")"
   ]
  },
  {
   "cell_type": "code",
   "execution_count": 9,
   "metadata": {},
   "outputs": [
    {
     "name": "stdout",
     "output_type": "stream",
     "text": [
      "\n",
      "Model Performance Metrics:\n",
      "================================================================================\n",
      "  Model Accuracy   TPR   TNR   FPR   FNR\n",
      "Model-0    1.000 1.000 1.000 0.000 0.000\n",
      "Model-1    1.000 1.000 1.000 0.000 0.000\n",
      "Model-2    1.000 1.000 1.000 0.000 0.000\n",
      "Model-3    1.000 1.000 1.000 0.000 0.000\n",
      "Model-4    1.000 1.000 1.000 0.000 0.000\n",
      "================================================================================\n"
     ]
    }
   ],
   "source": [
    "from sklearn.metrics import accuracy_score, confusion_matrix\n",
    "import pandas as pd\n",
    "\n",
    "# Create lists to store metrics for each model\n",
    "metrics = []\n",
    "\n",
    "# Calculate metrics for each model\n",
    "for i in range(5):\n",
    "    model = eval(f\"model{i}\")\n",
    "    ypred = model.predict(X_test[i])\n",
    "    \n",
    "    # Calculate accuracy\n",
    "    acc = accuracy_score(ypred, y_test[i])\n",
    "    \n",
    "    # Calculate confusion matrix metrics\n",
    "    tn, fp, fn, tp = confusion_matrix(ypred, y_test[i]).ravel()\n",
    "    tpr = tp / (tp + fn)  # True positive rate\n",
    "    tnr = tn / (tn + fp)  # True negative rate\n",
    "    fpr = fp / (fp + tn)  # False positive rate\n",
    "    fnr = fn / (fn + tp)  # False negative rate\n",
    "    \n",
    "    # Store metrics\n",
    "    metrics.append({\n",
    "        'Model': f'Model-{i}',\n",
    "        'Accuracy': f'{acc:.3f}',\n",
    "        'TPR': f'{tpr:.3f}',\n",
    "        'TNR': f'{tnr:.3f}',\n",
    "        'FPR': f'{fpr:.3f}',\n",
    "        'FNR': f'{fnr:.3f}'\n",
    "    })\n",
    "\n",
    "# Create DataFrame and display\n",
    "df_metrics = pd.DataFrame(metrics)\n",
    "print(\"\\nModel Performance Metrics:\")\n",
    "print(\"=\" * 80)\n",
    "print(df_metrics.to_string(index=False))\n",
    "print(\"=\" * 80)"
   ]
  },
  {
   "cell_type": "markdown",
   "metadata": {},
   "source": [
    "##### Then we train a surrogate model"
   ]
  },
  {
   "cell_type": "code",
   "execution_count": 10,
   "metadata": {},
   "outputs": [
    {
     "name": "stdout",
     "output_type": "stream",
     "text": [
      "Loaded Surrogates\n"
     ]
    }
   ],
   "source": [
    "import joblib\n",
    "from pathlib import Path\n",
    "from xgboost import XGBClassifier\n",
    "from sklearn.ensemble import RandomForestClassifier\n",
    "\n",
    "Path(\"surrogates\").mkdir(exist_ok=True)\n",
    "\n",
    "if not Path(\"surrogates/rf_surrogate_fold_0.joblib\").exists():\n",
    "    surrogate0 = RandomForestClassifier(n_estimators=254, max_depth=10, random_state=42)\n",
    "    surrogate0.fit(X_surrogate[0], y_surrogate[0])\n",
    "    print(\"Surrogate-0 Trained\")\n",
    "    joblib.dump(surrogate0, \"surrogates/rf_surrogate_fold_0.joblib\")\n",
    "\n",
    "if not Path(\"surrogates/rf_surrogate_fold_1.joblib\").exists():\n",
    "    surrogate1 = RandomForestClassifier(n_estimators=254, max_depth=10, random_state=42)\n",
    "    surrogate1.fit(X_surrogate[1], y_surrogate[1])\n",
    "    print(\"Surrogate-1 Trained\")\n",
    "    joblib.dump(surrogate1, \"surrogates/rf_surrogate_fold_1.joblib\")\n",
    "\n",
    "if not Path(\"surrogates/rf_surrogate_fold_2.joblib\").exists():\n",
    "    surrogate2 = RandomForestClassifier(n_estimators=254, max_depth=10, random_state=42)\n",
    "    surrogate2.fit(X_surrogate[2], y_surrogate[2])\n",
    "    print(\"Surrogate-2 Trained\")\n",
    "    joblib.dump(surrogate2, \"surrogates/rf_surrogate_fold_2.joblib\")\n",
    "\n",
    "if not Path(\"surrogates/rf_surrogate_fold_3.joblib\").exists():\n",
    "    surrogate3 = RandomForestClassifier(n_estimators=254, max_depth=10, random_state=42)\n",
    "    surrogate3.fit(X_surrogate[3], y_surrogate[3])\n",
    "    print(\"Surrogate-3 Trained\")\n",
    "    joblib.dump(surrogate3, \"surrogates/rf_surrogate_fold_3.joblib\")\n",
    "\n",
    "if not Path(\"surrogates/rf_surrogate_fold_4.joblib\").exists():\n",
    "    surrogate4 = RandomForestClassifier(n_estimators=254, max_depth=10, random_state=42)\n",
    "    surrogate4.fit(X_surrogate[4], y_surrogate[4])\n",
    "    print(\"Surrogate-4 Trained\")\n",
    "    joblib.dump(surrogate4, \"surrogates/rf_surrogate_fold_4.joblib\")\n",
    "\n",
    "surrogate0 = joblib.load(\"surrogates/rf_surrogate_fold_0.joblib\")\n",
    "surrogate1 = joblib.load(\"surrogates/rf_surrogate_fold_1.joblib\")\n",
    "surrogate2 = joblib.load(\"surrogates/rf_surrogate_fold_2.joblib\")\n",
    "surrogate3 = joblib.load(\"surrogates/rf_surrogate_fold_3.joblib\")\n",
    "surrogate4 = joblib.load(\"surrogates/rf_surrogate_fold_4.joblib\")\n",
    "print(\"Loaded Surrogates\")"
   ]
  },
  {
   "cell_type": "code",
   "execution_count": 11,
   "metadata": {},
   "outputs": [
    {
     "name": "stdout",
     "output_type": "stream",
     "text": [
      "Surrogate Performance Metrics:\n",
      "================================================================================\n",
      "  Surrogate Accuracy   TPR   TNR   FPR   FNR\n",
      "Surrogate-0    1.000 1.000 1.000 0.000 0.000\n",
      "Surrogate-1    1.000 1.000 1.000 0.000 0.000\n",
      "Surrogate-2    1.000 1.000 1.000 0.000 0.000\n",
      "Surrogate-3    1.000 1.000 1.000 0.000 0.000\n",
      "Surrogate-4    1.000 1.000 1.000 0.000 0.000\n",
      "================================================================================\n"
     ]
    }
   ],
   "source": [
    "from sklearn.metrics import accuracy_score, confusion_matrix\n",
    "import pandas as pd\n",
    "\n",
    "# Create lists to store metrics for each model\n",
    "metrics = []\n",
    "\n",
    "# Calculate metrics for each model\n",
    "for i in range(5):\n",
    "    model = eval(f\"surrogate{i}\")\n",
    "    ypred = model.predict(X_test[i])\n",
    "    \n",
    "    # Calculate accuracy\n",
    "    acc = accuracy_score(ypred, y_test[i])\n",
    "    \n",
    "    # Calculate confusion matrix metrics\n",
    "    tn, fp, fn, tp = confusion_matrix(ypred, y_test[i]).ravel()\n",
    "    tpr = tp / (tp + fn)  # True positive rate\n",
    "    tnr = tn / (tn + fp)  # True negative rate\n",
    "    fpr = fp / (fp + tn)  # False positive rate\n",
    "    fnr = fn / (fn + tp)  # False negative rate\n",
    "    \n",
    "    # Store metrics\n",
    "    metrics.append({\n",
    "        'Surrogate': f'Surrogate-{i}',\n",
    "        'Accuracy': f'{acc:.3f}',\n",
    "        'TPR': f'{tpr:.3f}',\n",
    "        'TNR': f'{tnr:.3f}',\n",
    "        'FPR': f'{fpr:.3f}',\n",
    "        'FNR': f'{fnr:.3f}'\n",
    "    })\n",
    "\n",
    "# Create DataFrame and display\n",
    "df_metrics = pd.DataFrame(metrics)\n",
    "print(\"Surrogate Performance Metrics:\")\n",
    "print(\"=\" * 80)\n",
    "print(df_metrics.to_string(index=False))\n",
    "print(\"=\" * 80)"
   ]
  },
  {
   "cell_type": "markdown",
   "metadata": {},
   "source": [
    "##### Now, we generate adversarial examples for the 'decimal_spoofing-GAS' scenario"
   ]
  },
  {
   "cell_type": "code",
   "execution_count": 50,
   "metadata": {},
   "outputs": [
    {
     "name": "stdout",
     "output_type": "stream",
     "text": [
      "Finding Adversarial Examples for fold  0\n"
     ]
    },
    {
     "name": "stderr",
     "output_type": "stream",
     "text": [
      "100%|██████████| 1950/1950 [00:03<00:00, 640.40it/s]\n"
     ]
    },
    {
     "name": "stdout",
     "output_type": "stream",
     "text": [
      "Adversarial Examples Found:  0 \n",
      "\n",
      "Finding Adversarial Examples for fold  1\n"
     ]
    },
    {
     "name": "stderr",
     "output_type": "stream",
     "text": [
      "100%|██████████| 1980/1980 [00:22<00:00, 88.07it/s] \n"
     ]
    },
    {
     "name": "stdout",
     "output_type": "stream",
     "text": [
      "Adversarial Examples Found:  1018 \n",
      "\n",
      "Finding Adversarial Examples for fold  2\n"
     ]
    },
    {
     "name": "stderr",
     "output_type": "stream",
     "text": [
      "100%|██████████| 2028/2028 [00:49<00:00, 40.90it/s]\n"
     ]
    },
    {
     "name": "stdout",
     "output_type": "stream",
     "text": [
      "Adversarial Examples Found:  989 \n",
      "\n",
      "Finding Adversarial Examples for fold  3\n"
     ]
    },
    {
     "name": "stderr",
     "output_type": "stream",
     "text": [
      "100%|██████████| 2034/2034 [00:38<00:00, 52.39it/s]\n"
     ]
    },
    {
     "name": "stdout",
     "output_type": "stream",
     "text": [
      "Adversarial Examples Found:  2034 \n",
      "\n",
      "Finding Adversarial Examples for fold  4\n"
     ]
    },
    {
     "name": "stderr",
     "output_type": "stream",
     "text": [
      "100%|██████████| 1999/1999 [00:23<00:00, 85.24it/s] "
     ]
    },
    {
     "name": "stdout",
     "output_type": "stream",
     "text": [
      "Adversarial Examples Found:  984 \n",
      "\n"
     ]
    },
    {
     "name": "stderr",
     "output_type": "stream",
     "text": [
      "\n"
     ]
    }
   ],
   "source": [
    "folder_path = \"adversarials/spoof_gas\"\n",
    "os.makedirs(folder_path, exist_ok=True)\n",
    "\n",
    "A_spoof_gas_path = os.path.join(folder_path, \"A_spoof_gas.pkl\")\n",
    "L_spoof_gas_path = os.path.join(folder_path, \"L_spoof_gas.pkl\")\n",
    "\n",
    "A_spoof_gas_exists = os.path.exists(A_spoof_gas_path)\n",
    "L_spoof_gas_exists = os.path.exists(L_spoof_gas_path)\n",
    "\n",
    "if A_spoof_gas_exists and L_spoof_gas_exists:\n",
    "    with open(A_spoof_gas_path, \"rb\") as a_file:\n",
    "        A_spoof_gas = pickle.load(a_file)\n",
    "    with open(L_spoof_gas_path, \"rb\") as l_file:\n",
    "        L_spoof_gas = pickle.load(l_file)\n",
    "    print(\"Loaded Adversarial Examples\")\n",
    "else:\n",
    "    A_spoof_gas, L_spoof_gas = {}, {}\n",
    "    for fold in range(5):\n",
    "        random.seed(42)\n",
    "        df_dcg = dataframes['decimal_spoofing-GAS'].drop_duplicates().merge(pd.concat([X_test[fold], y_test[fold]], axis=1))\n",
    "        datas = df_dcg.iloc[:, :-1]\n",
    "        labels = df_dcg.iloc[:, -1]\n",
    "        model = eval(f\"surrogate{fold}\")\n",
    "        ids = eval(f\"model{fold}\")\n",
    "        A_spoof_gas[fold], L_spoof_gas[fold] = [], []\n",
    "        def label_checker(expected, mapping):\n",
    "            return vote.mapping_check_argmax(mapping, expected)\n",
    "        print('Finding Adversarial Examples for fold ', str(fold))\n",
    "        e = vote.Ensemble.from_sklearn(model)\n",
    "        deltas = [0, 15, 15, 15, 15, 15, 15, 15, 15]\n",
    "        for i in tqdm(range(len(labels))):\n",
    "            def check_robustness(m):\n",
    "                o = vote.mapping_check_argmax(m, labels.iloc[i])\n",
    "                if o == vote.FAIL:\n",
    "                    center = [m.inputs[dim].lower + (m.inputs[dim].upper - m.inputs[dim].lower) / random.randrange(2, 101, 2) for dim in range(m.nb_inputs)]\n",
    "                    if(ids.predict([center]) != labels.iloc[i]):\n",
    "                        A_spoof_gas[fold].append(center)\n",
    "                        L_spoof_gas[fold].append(labels.iloc[i])\n",
    "                return o\n",
    "            domain = [(max(x - delta, 0), min(2047, x + delta)) if idx == 0 else (max(x - delta, 0), min(255, x + delta)) for idx, (x, delta) in enumerate(zip(datas.iloc[i].values, deltas))]\n",
    "            e.absref(check_robustness, domain)\n",
    "        print(\"Adversarial Examples Found: \", len(A_spoof_gas[fold]), \"\\n\")\n",
    "\n",
    "        with open(A_spoof_gas_path, \"wb\") as a_file:\n",
    "            pickle.dump(A_spoof_gas, a_file)\n",
    "\n",
    "        with open(L_spoof_gas_path, \"wb\") as l_file:\n",
    "            pickle.dump(L_spoof_gas, l_file)\n",
    "    "
   ]
  },
  {
   "cell_type": "markdown",
   "metadata": {},
   "source": [
    "##### Now, we generate adversarial examples for the 'decimal_spoofing-SPEED' scenario"
   ]
  },
  {
   "cell_type": "code",
   "execution_count": 51,
   "metadata": {},
   "outputs": [
    {
     "name": "stdout",
     "output_type": "stream",
     "text": [
      "Finding Adversarial Examples for fold  0\n"
     ]
    },
    {
     "name": "stderr",
     "output_type": "stream",
     "text": [
      "100%|██████████| 4937/4937 [01:54<00:00, 43.21it/s]\n"
     ]
    },
    {
     "name": "stdout",
     "output_type": "stream",
     "text": [
      "Adversarial Examples Found:  3924 \n",
      "\n",
      "Finding Adversarial Examples for fold  1\n"
     ]
    },
    {
     "name": "stderr",
     "output_type": "stream",
     "text": [
      "100%|██████████| 5027/5027 [01:53<00:00, 44.30it/s]\n"
     ]
    },
    {
     "name": "stdout",
     "output_type": "stream",
     "text": [
      "Adversarial Examples Found:  2007 \n",
      "\n",
      "Finding Adversarial Examples for fold  2\n"
     ]
    },
    {
     "name": "stderr",
     "output_type": "stream",
     "text": [
      "100%|██████████| 5131/5131 [01:49<00:00, 46.86it/s]\n"
     ]
    },
    {
     "name": "stdout",
     "output_type": "stream",
     "text": [
      "Adversarial Examples Found:  3117 \n",
      "\n",
      "Finding Adversarial Examples for fold  3\n"
     ]
    },
    {
     "name": "stderr",
     "output_type": "stream",
     "text": [
      "100%|██████████| 4939/4939 [01:24<00:00, 58.76it/s] \n"
     ]
    },
    {
     "name": "stdout",
     "output_type": "stream",
     "text": [
      "Adversarial Examples Found:  2009 \n",
      "\n",
      "Finding Adversarial Examples for fold  4\n"
     ]
    },
    {
     "name": "stderr",
     "output_type": "stream",
     "text": [
      "100%|██████████| 4917/4917 [01:51<00:00, 44.29it/s]\n"
     ]
    },
    {
     "name": "stdout",
     "output_type": "stream",
     "text": [
      "Adversarial Examples Found:  2959 \n",
      "\n"
     ]
    }
   ],
   "source": [
    "folder_path = \"adversarials/spoof_speed\"\n",
    "os.makedirs(folder_path, exist_ok=True)\n",
    "\n",
    "A_spoof_speed_path = os.path.join(folder_path, \"A_spoof_speed.pkl\")\n",
    "L_spoof_speed_path = os.path.join(folder_path, \"L_spoof_speed.pkl\")\n",
    "\n",
    "A_spoof_speed_exists = os.path.exists(A_spoof_speed_path)\n",
    "L_spoof_speed_exists = os.path.exists(L_spoof_speed_path)\n",
    "\n",
    "if A_spoof_speed_exists and L_spoof_speed_exists:\n",
    "    with open(A_spoof_speed_path, \"rb\") as a_file:\n",
    "        A_speed = pickle.load(a_file)\n",
    "    with open(L_spoof_gas_path, \"rb\") as l_file:\n",
    "        L_speed = pickle.load(l_file)\n",
    "    print(\"Loaded Adversarial Examples\")\n",
    "else:\n",
    "    A_spoof_speed, L_spoof_speed = {}, {}\n",
    "    for fold in range(5):\n",
    "        random.seed(42)\n",
    "        df_dcs = dataframes['decimal_spoofing-SPEED'].drop_duplicates().merge(pd.concat([X_test[fold], y_test[fold]], axis=1))\n",
    "        datas = df_dcs.iloc[:, :-1]\n",
    "        labels = df_dcs.iloc[:, -1]\n",
    "        model = eval(f\"surrogate{fold}\")\n",
    "        ids = eval(f\"model{fold}\")\n",
    "        \n",
    "        def label_checker(expected, mapping):\n",
    "            return vote.mapping_check_argmax(mapping, expected)\n",
    "        \n",
    "        print('Finding Adversarial Examples for fold ', str(fold))\n",
    "        e = vote.Ensemble.from_sklearn(model)\n",
    "        \n",
    "        A_spoof_speed[fold], L_spoof_speed[fold] = [], []\n",
    "        \n",
    "        deltas = [0, 15, 15, 15, 15, 15, 15, 15, 15]\n",
    "        \n",
    "        for i in tqdm(range(len(labels))):\n",
    "            def check_robustness(m):\n",
    "                o = vote.mapping_check_argmax(m, labels.iloc[i])\n",
    "                if o == vote.FAIL:\n",
    "                    center = [m.inputs[dim].lower + (m.inputs[dim].upper - m.inputs[dim].lower) / random.randrange(2, 101, 2) for dim in range(m.nb_inputs)]\n",
    "                    if(ids.predict([center]) != labels.iloc[i]):\n",
    "                        A_spoof_speed[fold].append(center)\n",
    "                        L_spoof_speed[fold].append(labels.iloc[i])\n",
    "                return o\n",
    "            \n",
    "            domain = [(max(x - delta, 0), min(2047, x + delta)) if idx == 0 else (max(x - delta, 0), min(255, x + delta)) for idx, (x, delta) in enumerate(zip(datas.iloc[i].values, deltas))]\n",
    "            \n",
    "            e.absref(check_robustness, domain)\n",
    "        print(\"Adversarial Examples Found: \", len(A_spoof_speed[fold]), \"\\n\")\n",
    "        \n",
    "        with open(A_spoof_speed_path, \"wb\") as a_file:\n",
    "            pickle.dump(A_spoof_speed, a_file)\n",
    "\n",
    "        with open(L_spoof_speed_path, \"wb\") as l_file:\n",
    "            pickle.dump(L_spoof_speed, l_file)"
   ]
  },
  {
   "cell_type": "markdown",
   "metadata": {},
   "source": [
    "##### Now, we generate adversarial examples for the 'decimal_spoofing-RPM' scenario"
   ]
  },
  {
   "cell_type": "code",
   "execution_count": 52,
   "metadata": {},
   "outputs": [
    {
     "name": "stdout",
     "output_type": "stream",
     "text": [
      "Finding Adversarial Examples for fold  0\n"
     ]
    },
    {
     "name": "stderr",
     "output_type": "stream",
     "text": [
      "  2%|▏         | 174/10795 [00:00<00:06, 1736.91it/s]"
     ]
    },
    {
     "name": "stderr",
     "output_type": "stream",
     "text": [
      "100%|██████████| 10795/10795 [00:42<00:00, 251.88it/s] \n"
     ]
    },
    {
     "name": "stdout",
     "output_type": "stream",
     "text": [
      "Adversarial Examples Found:  1937 \n",
      "\n",
      "Finding Adversarial Examples for fold  1\n"
     ]
    },
    {
     "name": "stderr",
     "output_type": "stream",
     "text": [
      "100%|██████████| 11049/11049 [00:04<00:00, 2328.82it/s]\n"
     ]
    },
    {
     "name": "stdout",
     "output_type": "stream",
     "text": [
      "Adversarial Examples Found:  1 \n",
      "\n",
      "Finding Adversarial Examples for fold  2\n"
     ]
    },
    {
     "name": "stderr",
     "output_type": "stream",
     "text": [
      "100%|██████████| 10885/10885 [00:45<00:00, 237.60it/s] \n"
     ]
    },
    {
     "name": "stdout",
     "output_type": "stream",
     "text": [
      "Adversarial Examples Found:  2008 \n",
      "\n",
      "Finding Adversarial Examples for fold  3\n"
     ]
    },
    {
     "name": "stderr",
     "output_type": "stream",
     "text": [
      "100%|██████████| 11085/11085 [00:40<00:00, 272.93it/s] \n"
     ]
    },
    {
     "name": "stdout",
     "output_type": "stream",
     "text": [
      "Adversarial Examples Found:  2041 \n",
      "\n",
      "Finding Adversarial Examples for fold  4\n"
     ]
    },
    {
     "name": "stderr",
     "output_type": "stream",
     "text": [
      "100%|██████████| 11086/11086 [00:47<00:00, 234.02it/s] "
     ]
    },
    {
     "name": "stdout",
     "output_type": "stream",
     "text": [
      "Adversarial Examples Found:  2016 \n",
      "\n"
     ]
    },
    {
     "name": "stderr",
     "output_type": "stream",
     "text": [
      "\n"
     ]
    }
   ],
   "source": [
    "folder_path = \"adversarials/spoof_rpm\"\n",
    "os.makedirs(folder_path, exist_ok=True)\n",
    "\n",
    "A_spoof_rpm_path = os.path.join(folder_path, \"A_spoof_rpm.pkl\")\n",
    "L_spoof_rpm_path = os.path.join(folder_path, \"L_spoof_rpm.pkl\")\n",
    "\n",
    "A_spoof_rpm_exists = os.path.exists(A_spoof_rpm_path)\n",
    "L_spoof_rpm_exists = os.path.exists(L_spoof_rpm_path)\n",
    "\n",
    "if A_spoof_rpm_exists and L_spoof_rpm_exists:\n",
    "    with open(A_spoof_rpm_path, \"rb\") as a_file:\n",
    "        A_rpm = pickle.load(a_file)\n",
    "    with open(L_spoof_rpm_path, \"rb\") as l_file:\n",
    "        L_rpm = pickle.load(l_file)\n",
    "    print(\"Loaded Adversarial Examples\")\n",
    "else:\n",
    "    A_spoof_rpm, L_spoof_rpm = {}, {}\n",
    "    for fold in range(5):\n",
    "        random.seed(42)\n",
    "        df_dcr = dataframes['decimal_spoofing-RPM'].drop_duplicates().merge(pd.concat([X_test[fold], y_test[fold]], axis=1))\n",
    "        datas = df_dcr.iloc[:, :-1]\n",
    "        labels = df_dcr.iloc[:, -1]\n",
    "        model = eval(f\"surrogate{fold}\")\n",
    "        ids = eval(f\"model{fold}\")\n",
    "\n",
    "        def label_checker(expected, mapping):\n",
    "            return vote.mapping_check_argmax(mapping, expected)\n",
    "        \n",
    "        print('Finding Adversarial Examples for fold ', str(fold))\n",
    "        e = vote.Ensemble.from_sklearn(model)\n",
    "        \n",
    "        A_spoof_rpm[fold], L_spoof_rpm[fold] = [], []\n",
    "        \n",
    "        deltas = [0, 0, 0, 15, 15, 0, 14, 0, 14]\n",
    "        \n",
    "        for i in tqdm(range(len(labels))):\n",
    "            def check_robustness(m):\n",
    "                o = vote.mapping_check_argmax(m, labels.iloc[i])\n",
    "                if o == vote.FAIL:\n",
    "                    center = [m.inputs[dim].lower + (m.inputs[dim].upper - m.inputs[dim].lower) / random.randrange(2, 101, 2) for dim in range(m.nb_inputs)]\n",
    "                    if(ids.predict([center]) != labels.iloc[i]):\n",
    "                        A_spoof_rpm[fold].append(center)\n",
    "                        L_spoof_rpm[fold].append(labels.iloc[i])\n",
    "                return o\n",
    "            \n",
    "            domain = [(max(x - delta, 0), min(2047, x + delta)) if idx == 0 else (max(x - delta, 0), min(255, x + delta)) for idx, (x, delta) in enumerate(zip(datas.iloc[i].values, deltas))]\n",
    "            \n",
    "            e.absref(check_robustness, domain)\n",
    "        print(\"Adversarial Examples Found: \", len(A_spoof_rpm[fold]), \"\\n\")\n",
    "        \n",
    "        with open(A_spoof_rpm_path, \"wb\") as a_file:\n",
    "            pickle.dump(A_spoof_rpm, a_file)\n",
    "\n",
    "        with open(L_spoof_rpm_path, \"wb\") as l_file:\n",
    "            pickle.dump(L_spoof_rpm, l_file)"
   ]
  },
  {
   "cell_type": "markdown",
   "metadata": {},
   "source": [
    "##### Now, we generate adversarial examples for the 'decimal_spoofing-STEERING_WHEEL' scenario"
   ]
  },
  {
   "cell_type": "code",
   "execution_count": 53,
   "metadata": {},
   "outputs": [
    {
     "name": "stdout",
     "output_type": "stream",
     "text": [
      "Finding Adversarial Examples for fold  0\n"
     ]
    },
    {
     "name": "stderr",
     "output_type": "stream",
     "text": [
      "100%|██████████| 3906/3906 [01:23<00:00, 46.83it/s]\n"
     ]
    },
    {
     "name": "stdout",
     "output_type": "stream",
     "text": [
      "Adversarial Examples Found:  0 \n",
      "\n",
      "Finding Adversarial Examples for fold  1\n"
     ]
    },
    {
     "name": "stderr",
     "output_type": "stream",
     "text": [
      "100%|██████████| 4050/4050 [01:26<00:00, 46.57it/s]\n"
     ]
    },
    {
     "name": "stdout",
     "output_type": "stream",
     "text": [
      "Adversarial Examples Found:  0 \n",
      "\n",
      "Finding Adversarial Examples for fold  2\n"
     ]
    },
    {
     "name": "stderr",
     "output_type": "stream",
     "text": [
      "100%|██████████| 3960/3960 [01:57<00:00, 33.64it/s]\n"
     ]
    },
    {
     "name": "stdout",
     "output_type": "stream",
     "text": [
      "Adversarial Examples Found:  0 \n",
      "\n",
      "Finding Adversarial Examples for fold  3\n"
     ]
    },
    {
     "name": "stderr",
     "output_type": "stream",
     "text": [
      "100%|██████████| 4054/4054 [02:10<00:00, 31.01it/s]\n"
     ]
    },
    {
     "name": "stdout",
     "output_type": "stream",
     "text": [
      "Adversarial Examples Found:  0 \n",
      "\n",
      "Finding Adversarial Examples for fold  4\n"
     ]
    },
    {
     "name": "stderr",
     "output_type": "stream",
     "text": [
      "100%|██████████| 4007/4007 [01:39<00:00, 40.18it/s]"
     ]
    },
    {
     "name": "stdout",
     "output_type": "stream",
     "text": [
      "Adversarial Examples Found:  1973 \n",
      "\n"
     ]
    },
    {
     "name": "stderr",
     "output_type": "stream",
     "text": [
      "\n"
     ]
    }
   ],
   "source": [
    "folder_path = \"adversarials/spoof_steering_wheel\"\n",
    "os.makedirs(folder_path, exist_ok=True)\n",
    "\n",
    "A_spoof_steering_wheel_path = os.path.join(folder_path, \"A_spoof_steering_wheel.pkl\")\n",
    "L_spoof_steering_wheel_path = os.path.join(folder_path, \"L_spoof_steering_wheel.pkl\")\n",
    "\n",
    "A_spoof_steering_wheel_exists = os.path.exists(A_spoof_steering_wheel_path)\n",
    "L_spoof_steering_wheel_exists = os.path.exists(L_spoof_steering_wheel_path)\n",
    "\n",
    "if A_spoof_steering_wheel_exists and L_spoof_steering_wheel_exists:\n",
    "    with open(A_spoof_steering_wheel_path, \"rb\") as a_file:\n",
    "        A_steering_wheel = pickle.load(a_file)\n",
    "    with open(L_spoof_steering_wheel_path, \"rb\") as l_file:\n",
    "        L_steering_wheel = pickle.load(l_file)\n",
    "    print(\"Loaded Adversarial Examples\")\n",
    "else:\n",
    "    A_spoof_steering_wheel, L_spoof_steering_wheel = {}, {}\n",
    "    for fold in range(5):\n",
    "        random.seed(42)\n",
    "        df_dcsw = dataframes['decimal_spoofing-STEERING_WHEEL'].drop_duplicates().merge(pd.concat([X_test[fold], y_test[fold]], axis=1))\n",
    "        datas = df_dcsw.iloc[:, :-1]\n",
    "        labels = df_dcsw.iloc[:, -1]\n",
    "        model = eval(f\"surrogate{fold}\")\n",
    "        ids = eval(f\"model{fold}\")\n",
    "        \n",
    "        def label_checker(expected, mapping):\n",
    "            return vote.mapping_check_argmax(mapping, expected)\n",
    "        \n",
    "        print('Finding Adversarial Examples for fold ', str(fold))\n",
    "        e = vote.Ensemble.from_sklearn(model)\n",
    "        \n",
    "        deltas = [0, 17, 17, 17, 17, 17, 17, 17, 17]\n",
    "        \n",
    "        A_spoof_steering_wheel[fold], L_spoof_steering_wheel[fold] = [], []\n",
    "        \n",
    "        for i in tqdm(range(len(labels))):\n",
    "            def check_robustness(m):\n",
    "                o = vote.mapping_check_argmax(m, labels.iloc[i])\n",
    "                if o == vote.FAIL:\n",
    "                    center = [m.inputs[dim].lower + (m.inputs[dim].upper - m.inputs[dim].lower) / random.randrange(2, 101, 2) for dim in range(m.nb_inputs)]\n",
    "                    if(ids.predict([center]) != labels.iloc[i]):\n",
    "                        A_spoof_steering_wheel[fold].append(center) \n",
    "                        L_spoof_steering_wheel[fold].append(labels.iloc[i]) \n",
    "                return o\n",
    "            \n",
    "            domain = [(max(x - delta, 0), min(2047, x + delta)) if idx == 0 else (max(x - delta, 0), min(255, x + delta)) for idx, (x, delta) in enumerate(zip(datas.iloc[i].values, deltas))]\n",
    "            \n",
    "            e.absref(check_robustness, domain)\n",
    "        print(\"Adversarial Examples Found: \", len(A_spoof_steering_wheel[fold]), \"\\n\")\n",
    "        \n",
    "        with open(A_spoof_steering_wheel_path, \"wb\") as a_file:\n",
    "            pickle.dump(A_spoof_steering_wheel, a_file)\n",
    "\n",
    "        with open(L_spoof_steering_wheel_path, \"wb\") as l_file:\n",
    "            pickle.dump(L_spoof_steering_wheel, l_file)"
   ]
  },
  {
   "cell_type": "markdown",
   "metadata": {},
   "source": [
    "##### Now, we generate adversarial examples for the 'decimal_DoS' scenario"
   ]
  },
  {
   "cell_type": "code",
   "execution_count": 54,
   "metadata": {},
   "outputs": [
    {
     "name": "stdout",
     "output_type": "stream",
     "text": [
      "Finding Adversarial Examples for fold  0\n"
     ]
    },
    {
     "name": "stderr",
     "output_type": "stream",
     "text": [
      "100%|██████████| 14999/14999 [05:48<00:00, 43.02it/s]\n"
     ]
    },
    {
     "name": "stdout",
     "output_type": "stream",
     "text": [
      "Adversarial Examples Found:  65 \n",
      "\n",
      "Finding Adversarial Examples for fold  1\n"
     ]
    },
    {
     "name": "stderr",
     "output_type": "stream",
     "text": [
      "100%|██████████| 14999/14999 [05:01<00:00, 49.81it/s]\n"
     ]
    },
    {
     "name": "stdout",
     "output_type": "stream",
     "text": [
      "Adversarial Examples Found:  29 \n",
      "\n",
      "Finding Adversarial Examples for fold  2\n"
     ]
    },
    {
     "name": "stderr",
     "output_type": "stream",
     "text": [
      "100%|██████████| 14999/14999 [05:28<00:00, 45.67it/s]\n"
     ]
    },
    {
     "name": "stdout",
     "output_type": "stream",
     "text": [
      "Adversarial Examples Found:  39 \n",
      "\n",
      "Finding Adversarial Examples for fold  3\n"
     ]
    },
    {
     "name": "stderr",
     "output_type": "stream",
     "text": [
      "100%|██████████| 14999/14999 [05:35<00:00, 44.76it/s]\n"
     ]
    },
    {
     "name": "stdout",
     "output_type": "stream",
     "text": [
      "Adversarial Examples Found:  10687 \n",
      "\n",
      "Finding Adversarial Examples for fold  4\n"
     ]
    },
    {
     "name": "stderr",
     "output_type": "stream",
     "text": [
      "100%|██████████| 14999/14999 [05:54<00:00, 42.28it/s]"
     ]
    },
    {
     "name": "stdout",
     "output_type": "stream",
     "text": [
      "Adversarial Examples Found:  10971 \n",
      "\n"
     ]
    },
    {
     "name": "stderr",
     "output_type": "stream",
     "text": [
      "\n"
     ]
    }
   ],
   "source": [
    "folder_path = \"adversarials/dos\"\n",
    "os.makedirs(folder_path, exist_ok=True)\n",
    "\n",
    "A_dos_path = os.path.join(folder_path, \"A_dos.pkl\")\n",
    "L_dos_path = os.path.join(folder_path, \"L_dos.pkl\")\n",
    "\n",
    "A_dos_exists = os.path.exists(A_dos_path)\n",
    "L_dos_exists = os.path.exists(L_dos_path)\n",
    "\n",
    "if A_dos_exists and L_dos_exists:\n",
    "    with open(A_dos_path, \"rb\") as a_file:\n",
    "        A_dos = pickle.load(a_file)\n",
    "    with open(L_dos_path, \"rb\") as l_file:\n",
    "        L_dos = pickle.load(l_file)\n",
    "    print(\"Loaded Adversarial Examples\")\n",
    "else:\n",
    "    A_dos, L_dos = {}, {}\n",
    "    for fold in range(5):\n",
    "        random.seed(42)\n",
    "        df_dd = dataframes['decimal_DoS'].drop_duplicates().merge(pd.concat([X_test[0], y_test[0]], axis=1))\n",
    "        datas = df_dd.iloc[:, :-1]\n",
    "        labels = df_dd.iloc[:, -1]\n",
    "        model = eval(f\"surrogate{fold}\")\n",
    "        ids = eval(f\"model{fold}\")\n",
    "        \n",
    "        def label_checker(expected, mapping):\n",
    "            return vote.mapping_check_argmax(mapping, expected)\n",
    "        \n",
    "        print('Finding Adversarial Examples for fold ', str(fold))\n",
    "        e = vote.Ensemble.from_sklearn(model)\n",
    "        \n",
    "        deltas = [7, 0, 15, 15, 15, 15, 15, 15, 15]\n",
    "        \n",
    "        A_dos[fold], L_dos[fold] = [], []\n",
    "        \n",
    "        for i in tqdm(range(len(labels))):\n",
    "            def check_robustness(m):\n",
    "                o = vote.mapping_check_argmax(m, labels.iloc[i])\n",
    "                if o == vote.FAIL:\n",
    "                    center = [m.inputs[dim].lower + (m.inputs[dim].upper - m.inputs[dim].lower) / random.randrange(2, 101, 2) for dim in range(m.nb_inputs)]\n",
    "                    if(ids.predict([center]) != labels.iloc[i]):\n",
    "                        A_dos[fold].append(center)\n",
    "                        L_dos[fold].append(labels.iloc[i])\n",
    "                return o\n",
    "            \n",
    "            domain = [(max(x - delta, 0), min(2047, x + delta)) if idx == 0 else (max(x - delta, 0), min(255, x + delta)) for idx, (x, delta) in enumerate(zip(datas.iloc[i].values, deltas))]\n",
    "            \n",
    "            e.absref(check_robustness, domain)\n",
    "        print(\"Adversarial Examples Found: \", len(A_dos[fold]), \"\\n\")\n",
    "        \n",
    "        with open(A_dos_path, \"wb\") as a_file:\n",
    "            pickle.dump(A_dos, a_file)\n",
    "\n",
    "        with open(L_dos_path, \"wb\") as l_file:\n",
    "            pickle.dump(L_dos, l_file)"
   ]
  },
  {
   "cell_type": "markdown",
   "metadata": {},
   "source": [
    "##### Then we combine all these adversarial datasets"
   ]
  },
  {
   "cell_type": "code",
   "execution_count": 68,
   "metadata": {},
   "outputs": [
    {
     "name": "stdout",
     "output_type": "stream",
     "text": [
      "Accuracy on the Adversarial Set, Fold  0 :  0.0\n",
      "Accuracy on the Adversarial Set, Fold  1 :  0.0\n",
      "Accuracy on the Adversarial Set, Fold  2 :  0.0\n",
      "Accuracy on the Adversarial Set, Fold  3 :  0.0\n",
      "Accuracy on the Adversarial Set, Fold  4 :  0.0\n"
     ]
    }
   ],
   "source": [
    "adversarial_examples = {}\n",
    "true_labels = {}\n",
    "for fold in range(5):\n",
    "    ids = eval(f\"model{fold}\")\n",
    "    ae = A_spoof_gas[fold] + A_spoof_speed[fold] + A_spoof_rpm[fold] + A_spoof_steering_wheel[fold] + A_dos[fold]\n",
    "    adversarial_examples[fold] = np.asarray(ae)\n",
    "    tl  = L_spoof_gas[fold] + L_spoof_speed[fold] + L_spoof_rpm[fold] + L_spoof_steering_wheel[fold] + L_dos[fold]\n",
    "    true_labels[fold] = np.asarray(tl)\n",
    "    y_pred = ids.predict(adversarial_examples[fold])\n",
    "    print(\"Accuracy on the Adversarial Set, Fold \", str(fold), \": \", round(accuracy_score(y_pred, true_labels[fold]), 2))"
   ]
  },
  {
   "cell_type": "code",
   "execution_count": 76,
   "metadata": {},
   "outputs": [
    {
     "data": {
      "text/plain": [
       "50808"
      ]
     },
     "execution_count": 76,
     "metadata": {},
     "output_type": "execute_result"
    }
   ],
   "source": [
    "sum(len(adversarial_examples[fold]) for fold in range(5))"
   ]
  },
  {
   "cell_type": "markdown",
   "metadata": {},
   "source": [
    "##### Then we select random samples from the test set"
   ]
  },
  {
   "cell_type": "code",
   "execution_count": 79,
   "metadata": {},
   "outputs": [
    {
     "name": "stdout",
     "output_type": "stream",
     "text": [
      "Evaluation Samples, Fold  0 : 11852\n",
      "Evaluation Samples, Fold  1 : 6110\n",
      "Evaluation Samples, Fold  2 : 12306\n",
      "Evaluation Samples, Fold  3 : 33542\n",
      "Evaluation Samples, Fold  4 : 37806\n"
     ]
    }
   ],
   "source": [
    "test_set, test_lab = {}, {}\n",
    "test_lab_sym = {}\n",
    "\n",
    "for fold in range(5):\n",
    "    random.seed(42)\n",
    "    num_samples = len(adversarial_examples[fold])\n",
    "    selected_indices = random.sample(range(len(X_test[fold])), num_samples)\n",
    "    X_selected = X_test[fold].iloc[selected_indices].values\n",
    "    y_selected = y_test[fold].iloc[selected_indices].values\n",
    "    test_set[fold] = np.concatenate((X_selected, adversarial_examples[fold]))\n",
    "    test_lab[fold] = np.concatenate((y_selected, true_labels[fold]))\n",
    "    test_lab_sym[fold] = np.concatenate((np.zeros(len(y_selected), dtype=bool), np.ones(len(true_labels[fold]), dtype=bool)))\n",
    "    print(\"Evaluation Samples, Fold \", str(fold), \":\", len(test_set[fold]))"
   ]
  },
  {
   "cell_type": "code",
   "execution_count": 80,
   "metadata": {},
   "outputs": [
    {
     "data": {
      "text/plain": [
       "101616"
      ]
     },
     "execution_count": 80,
     "metadata": {},
     "output_type": "execute_result"
    }
   ],
   "source": [
    "sum(len(test_set[fold]) for fold in range(5))"
   ]
  },
  {
   "cell_type": "markdown",
   "metadata": {},
   "source": [
    "##### Then we try with OC-Score. Remember, the number of trees is set to 254 so that we can use the uint8 version of OC-Score which is highly optimized."
   ]
  },
  {
   "cell_type": "code",
   "execution_count": null,
   "metadata": {},
   "outputs": [
    {
     "name": "stdout",
     "output_type": "stream",
     "text": [
      "/home/ubuntu/Maverick/K-Fold Standard-CAN/ocscore\n",
      "Requirement already satisfied: cython in /home/ubuntu/.local/lib/python3.8/site-packages (3.0.11)\n",
      "Requirement already satisfied: numpy in /home/ubuntu/.local/lib/python3.8/site-packages (1.24.3)\n",
      "Requirement already satisfied: dtai-veritas in /home/ubuntu/.local/lib/python3.8/site-packages (0.2.3)\n",
      "running build_ext\n",
      "Already up to date.\n",
      "/home/ubuntu/Maverick/K-Fold Standard-CAN\n"
     ]
    }
   ],
   "source": [
    "if not os.path.exists(\"ocscore\"):\n",
    "    !git clone https://github.com/laudv/ocscore.git\n",
    "%cd ocscore\n",
    "!pip install cython numpy dtai-veritas\n",
    "!python3 setup.py build_ext --inplace\n",
    "!git pull\n",
    "\n",
    "%cd ..\n",
    "sys.path.append('/home/ubuntu/Maverick/K-Fold Standard-CAN/ocscore')"
   ]
  },
  {
   "cell_type": "code",
   "execution_count": 82,
   "metadata": {},
   "outputs": [
    {
     "name": "stdout",
     "output_type": "stream",
     "text": [
      "List of functions:\n",
      "__pyx_unpickle_Enum\n",
      "_prep_input\n",
      "_validate_input\n",
      "mapids\n",
      "ocscores\n",
      "ocscores_topk\n"
     ]
    }
   ],
   "source": [
    "import ocscore\n",
    "# Get all attributes of the module\n",
    "module_attributes = dir(ocscore)\n",
    "\n",
    "# Filter out functions from the attributes\n",
    "functions = [attr for attr in module_attributes if callable(getattr(ocscore, attr))]\n",
    "\n",
    "# Print the list of functions\n",
    "print(\"List of functions:\")\n",
    "for function in functions:\n",
    "    print(function)"
   ]
  },
  {
   "cell_type": "code",
   "execution_count": 84,
   "metadata": {},
   "outputs": [
    {
     "name": "stdout",
     "output_type": "stream",
     "text": [
      "Generated Reference and Query Set for Fold  0\n",
      "Generated Reference and Query Set for Fold  1\n",
      "Generated Reference and Query Set for Fold  2\n",
      "Generated Reference and Query Set for Fold  3\n",
      "Generated Reference and Query Set for Fold  4\n"
     ]
    }
   ],
   "source": [
    "idref, idquery = {}, {}\n",
    "\n",
    "for fold in range(5):\n",
    "    ids = eval(f\"model{fold}\")\n",
    "    ytrain_pred = ids.predict(X_train[fold]) \n",
    "    xref_mask = ytrain_pred == y_train[fold]\n",
    "    xref = X_train[fold][xref_mask]\n",
    "    dtype = np.uint8\n",
    "    idref[fold] = ids.apply(xref).astype(dtype)\n",
    "    idquery[fold] = ids.apply(test_set[fold]).astype(dtype)\n",
    "    print(\"Generated Reference and Query Set for Fold \", str(fold))"
   ]
  },
  {
   "cell_type": "code",
   "execution_count": 86,
   "metadata": {},
   "outputs": [
    {
     "name": "stdout",
     "output_type": "stream",
     "text": [
      "Finding OC-Scores for Fold  0\n",
      "Done, OC-score Average Prediction Time:  6279.2 μs \n",
      "\n",
      "Finding OC-Scores for Fold  1\n",
      "Done, OC-score Average Prediction Time:  6110.72 μs \n",
      "\n",
      "Finding OC-Scores for Fold  2\n",
      "Done, OC-score Average Prediction Time:  5928.12 μs \n",
      "\n",
      "Finding OC-Scores for Fold  3\n",
      "Done, OC-score Average Prediction Time:  5801.74 μs \n",
      "\n",
      "Finding OC-Scores for Fold  4\n",
      "Done, OC-score Average Prediction Time:  5747.17 μs \n",
      "\n"
     ]
    }
   ],
   "source": [
    "S = {}\n",
    "times = {}\n",
    "\n",
    "Path(\"ocscore_experiments\").mkdir(exist_ok=True)\n",
    "S_path = Path(f\"ocscore_experiments/S.pkl\")\n",
    "T_path = Path(f\"ocscore_experiments/times.pkl\")\n",
    "\n",
    "if not (S_path.exists() and T_path.exists()):\n",
    "    for fold in range(5):\n",
    "        print(\"Finding OC-Scores for Fold \", str(fold))\n",
    "        t1 = time.time()\n",
    "        S[fold] = ocscore.ocscores(idref[fold], idquery[fold])\n",
    "        t2 = time.time()\n",
    "        times[fold] = round(((1000000.0*(t2 - t1))/len(S[fold])), 2)\n",
    "        print(f\"Done, OC-score Average Prediction Time: \", round(((1000000.0*(t2 - t1))/len(S[fold])), 2), \"μs\", \"\\n\")\n",
    "    with open(S_path, 'wb') as f:\n",
    "        pickle.dump(S, f)\n",
    "    with open(T_path, 'wb') as f:\n",
    "        pickle.dump(times, f)\n",
    "else:\n",
    "    with open(S_path, 'rb') as f:\n",
    "        S = pickle.load(f)\n",
    "    with open(T_path, 'rb') as f:\n",
    "        times = pickle.load(f)\n",
    "    print(\"Loaded OC-scores and Times from disk.\")      "
   ]
  },
  {
   "cell_type": "code",
   "execution_count": 87,
   "metadata": {},
   "outputs": [
    {
     "data": {
      "image/png": "[encoded data removed]",
      "text/plain": [
       "<Figure size 1000x600 with 1 Axes>"
      ]
     },
     "metadata": {},
     "output_type": "display_data"
    }
   ],
   "source": [
    "import matplotlib.pyplot as plt\n",
    "from collections import Counter\n",
    "\n",
    "colors = ['blue', 'green', 'orange', 'red', 'purple']\n",
    "plt.figure(figsize=(10, 6))\n",
    "\n",
    "for fold in range(5):\n",
    "    plt.plot(S[fold], label=f'Fold {fold}', color=colors[fold], markersize=1)\n",
    "    plt.axvline(x=Counter(test_lab_sym[fold])[0], color=colors[fold], linestyle='--', linewidth=1)\n",
    "plt.title('OC-Scores for Each Sample')\n",
    "plt.xlabel('Sample Index')\n",
    "plt.ylabel('OC-Score')\n",
    "plt.legend(title=\"Folds\")\n",
    "plt.grid(True)\n",
    "plt.legend()\n",
    "plt.show()"
   ]
  },
  {
   "cell_type": "code",
   "execution_count": 92,
   "metadata": {},
   "outputs": [
    {
     "name": "stdout",
     "output_type": "stream",
     "text": [
      "   Fold  Accuracy  F1-Score  MCC  AUC  TPR  TNR  FPR  FNR\n",
      "0     0       1.0       1.0  1.0  1.0  1.0  1.0  0.0  0.0\n",
      "1     1       1.0       1.0  1.0  1.0  1.0  1.0  0.0  0.0\n",
      "2     2       1.0       1.0  1.0  1.0  1.0  1.0  0.0  0.0\n",
      "3     3       1.0       1.0  1.0  1.0  1.0  1.0  0.0  0.0\n",
      "4     4       1.0       1.0  1.0  1.0  1.0  1.0  0.0  0.0\n"
     ]
    }
   ],
   "source": [
    "threshold = 100\n",
    "results = []\n",
    "\n",
    "for fold in range(5):\n",
    "    predictions = []\n",
    "    ids = eval(f\"model{fold}\")\n",
    "    preds = ids.predict(test_set[fold])\n",
    "    \n",
    "    for score, pred in zip(S[fold], preds):\n",
    "        if score <= threshold:\n",
    "            predictions.append(pred)\n",
    "        else:\n",
    "            predictions.append(abs(1-pred))\n",
    "    \n",
    "    acc = round(accuracy_score(predictions, test_lab[fold]), 3)\n",
    "    f1 = round(f1_score(predictions, test_lab[fold]), 3)\n",
    "    mcc = round(matthews_corrcoef(predictions, test_lab[fold]), 3)\n",
    "    auc = round(roc_auc_score(predictions, test_lab[fold]), 3)\n",
    "    tn, fp, fn, tp = confusion_matrix(predictions, test_lab[fold]).ravel()\n",
    "    tpr = round(tp / (tp + fn), 3)  # True positive rate\n",
    "    tnr = round(tn / (tn + fp), 3)  # True negative rate\n",
    "    fpr = round(fp / (fp + tn), 3)  # False positive rate\n",
    "    fnr = round(fn / (fn + tp), 3)  # False negative rate\n",
    "\n",
    "    results.append({\n",
    "        'Fold': fold, 'Accuracy': acc, 'F1-Score': f1, 'MCC': mcc, 'AUC': auc, 'TPR': tpr, 'TNR': tnr, 'FPR': fpr, 'FNR': fnr\n",
    "    })\n",
    "df_results = pd.DataFrame(results)\n",
    "print(df_results)"
   ]
  },
  {
   "cell_type": "code",
   "execution_count": 93,
   "metadata": {},
   "outputs": [],
   "source": [
    "def convert(number, unit='micro'):\n",
    "    if unit == 'micro':\n",
    "        result = number * 1e6\n",
    "    elif unit == 'milli':\n",
    "        result = number * 1e3\n",
    "    elif unit == 'nano':\n",
    "        result = number * 1e9\n",
    "    else:\n",
    "        raise ValueError(\"Invalid unit. Choose from 'micro', 'milli', or 'nano'.\")\n",
    "    return round(result, 3)"
   ]
  },
  {
   "cell_type": "markdown",
   "metadata": {},
   "source": [
    "##### Then we create Maverick and compare its performance!"
   ]
  },
  {
   "cell_type": "code",
   "execution_count": 196,
   "metadata": {},
   "outputs": [
    {
     "name": "stdout",
     "output_type": "stream",
     "text": [
      "Initializing Maverick...\n",
      "Loading File: maverick-experiments/autoencoder_standard_0.h5\n",
      "Initialization Complete!\n",
      "Initializing Maverick...\n",
      "Loading File: maverick-experiments/autoencoder_standard_1.h5\n",
      "Initialization Complete!\n",
      "Initializing Maverick...\n",
      "Loading File: maverick-experiments/autoencoder_standard_2.h5\n",
      "Initialization Complete!\n",
      "Initializing Maverick...\n",
      "Loading File: maverick-experiments/autoencoder_standard_3.h5\n",
      "Initialization Complete!\n",
      "Initializing Maverick...\n",
      "Loading File: maverick-experiments/autoencoder_standard_4.h5\n",
      "Initialization Complete!\n"
     ]
    }
   ],
   "source": [
    "mav = {}\n",
    "experiments_dir = Path(\"maverick-experiments\")\n",
    "experiments_dir.mkdir(exist_ok=True)\n",
    "\n",
    "for fold in range(5):\n",
    "    ids = eval(f\"model{fold}\")\n",
    "    save_filename = experiments_dir / f\"autoencoder_standard_{fold}.h5\"\n",
    "    mav[fold] = Maverick(ids, X_train[fold], y_train[fold], save_filename=str(save_filename))"
   ]
  },
  {
   "cell_type": "code",
   "execution_count": 197,
   "metadata": {},
   "outputs": [
    {
     "name": "stdout",
     "output_type": "stream",
     "text": [
      "47/47 [==============================] - 0s 6ms/step\n",
      "24/24 [==============================] - 0s 4ms/step\n",
      "49/49 [==============================] - 0s 5ms/step\n",
      "132/132 [==============================] - 1s 6ms/step\n",
      "148/148 [==============================] - 1s 6ms/step\n"
     ]
    },
    {
     "data": {
      "image/png": "[encoded data removed]",
      "text/plain": [
       "<Figure size 1000x600 with 1 Axes>"
      ]
     },
     "metadata": {},
     "output_type": "display_data"
    }
   ],
   "source": [
    "R = {}\n",
    "\n",
    "for fold in range(5):\n",
    "    R[fold] = mav[fold].anomaly_scores(test_set[fold])\n",
    "    \n",
    "colors = ['blue', 'green', 'orange', 'red', 'purple']\n",
    "plt.figure(figsize=(10, 6))\n",
    "\n",
    "for fold in range(5):\n",
    "    plt.plot(R[fold], label=f'Fold {fold}', color=colors[fold], markersize=1)\n",
    "    plt.axvline(x=Counter(test_lab_sym[fold])[0], color=colors[fold], linestyle='--', linewidth=1)\n",
    "plt.title('Maverick Anomaly Scores for Each Sample')\n",
    "plt.xlabel('Sample Index')\n",
    "plt.ylabel('RMSE')\n",
    "plt.legend(title=\"Folds\")\n",
    "plt.grid(True)\n",
    "plt.legend()\n",
    "plt.show()"
   ]
  },
  {
   "cell_type": "code",
   "execution_count": 181,
   "metadata": {},
   "outputs": [
    {
     "name": "stdout",
     "output_type": "stream",
     "text": [
      "47/47 [==============================] - 0s 5ms/step\n",
      "24/24 [==============================] - 0s 5ms/step\n",
      "49/49 [==============================] - 0s 5ms/step\n",
      "132/132 [==============================] - 1s 5ms/step\n",
      "148/148 [==============================] - 1s 6ms/step\n",
      "   Fold  Acc.  F1-Sc.  MCC  AUC  TPR  TNR  FPR  FNR\n",
      "0     0   1.0     1.0  1.0  1.0  1.0  1.0  0.0  0.0\n",
      "1     1   1.0     1.0  1.0  1.0  1.0  1.0  0.0  0.0\n",
      "2     2   1.0     1.0  1.0  1.0  1.0  1.0  0.0  0.0\n",
      "3     3   1.0     1.0  1.0  1.0  1.0  1.0  0.0  0.0\n",
      "4     4   1.0     1.0  1.0  1.0  1.0  1.0  0.0  0.0\n"
     ]
    }
   ],
   "source": [
    "metrics = []\n",
    "threshold = 0.1\n",
    "columns = [\"Fold\", \"Acc.\", \"F1-Sc.\", \"MCC\", \"AUC\", \"TPR\", \"TNR\", \"FPR\", \"FNR\"]\n",
    "\n",
    "for fold in range(5):\n",
    "    predictions = []\n",
    "    ids = eval(f\"model{fold}\")\n",
    "    Rf = mav[fold].anomaly_scores(test_set[fold])\n",
    "    preds = ids.predict(test_set[fold])\n",
    "    predictions = np.where(Rf <= threshold, preds, np.abs(1 - preds))  \n",
    "    accuracy = round(accuracy_score(predictions, test_lab[fold]), 3)\n",
    "    f1 = round(f1_score(predictions, test_lab[fold]), 3)\n",
    "    mcc = round(matthews_corrcoef(predictions, test_lab[fold]), 3)\n",
    "    auc = round(roc_auc_score(predictions, test_lab[fold]), 3)\n",
    "    tn, fp, fn, tp = confusion_matrix(predictions, test_lab[fold]).ravel()\n",
    "    tpr = round(tp / (tp + fn), 3)  # True positive rate\n",
    "    tnr = round(tn / (tn + fp), 3)  # True negative rate\n",
    "    fpr = round(fp / (fp + tn), 3)  # False positive rate\n",
    "    fnr = round(fn / (fn + tp), 3)  # False negative rate\n",
    "    metrics.append([fold, accuracy, f1, mcc, auc, tpr, tnr, fpr, fnr])\n",
    "metrics_df = pd.DataFrame(metrics, columns=columns)\n",
    "print(metrics_df)"
   ]
  },
  {
   "cell_type": "code",
   "execution_count": 199,
   "metadata": {},
   "outputs": [
    {
     "ename": "SystemExit",
     "evalue": "The bottom timing experiments take too long (30 seconds for Maverick and 40 minutes for OC-Score)",
     "output_type": "error",
     "traceback": [
      "An exception has occurred, use %tb to see the full traceback.\n",
      "\u001b[0;31mSystemExit\u001b[0m\u001b[0;31m:\u001b[0m The bottom timing experiments take too long (30 seconds for Maverick and 40 minutes for OC-Score)\n"
     ]
    }
   ],
   "source": [
    "raise SystemExit(\"The bottom timing experiments take too long (30 seconds for Maverick and 40 minutes for OC-Score)\")"
   ]
  },
  {
   "cell_type": "markdown",
   "metadata": {},
   "source": [
    "Maverick: Computing min, max, average and standard deviation!"
   ]
  },
  {
   "cell_type": "markdown",
   "metadata": {},
   "source": [
    "Finding the fold with the largest test set"
   ]
  },
  {
   "cell_type": "code",
   "execution_count": 182,
   "metadata": {},
   "outputs": [
    {
     "name": "stdout",
     "output_type": "stream",
     "text": [
      "Fold ID: 4\n"
     ]
    }
   ],
   "source": [
    "test_set = [test_set[0], test_set[1], test_set[2], test_set[3], test_set[4]]\n",
    "index = np.array([len(item) for item in test_set]).argmax()\n",
    "print(\"Fold ID:\", index)"
   ]
  },
  {
   "cell_type": "code",
   "execution_count": 183,
   "metadata": {},
   "outputs": [
    {
     "name": "stdout",
     "output_type": "stream",
     "text": [
      "148/148 [==============================] - 1s 6ms/step\n",
      "148/148 [==============================] - 1s 6ms/step\n",
      "148/148 [==============================] - 1s 6ms/step\n",
      "148/148 [==============================] - 1s 6ms/step\n",
      "148/148 [==============================] - 1s 6ms/step\n",
      "148/148 [==============================] - 1s 6ms/step\n",
      "148/148 [==============================] - 1s 6ms/step\n",
      "148/148 [==============================] - 1s 5ms/step\n",
      "148/148 [==============================] - 1s 5ms/step\n",
      "148/148 [==============================] - 1s 6ms/step\n",
      "Min time: 70.393 μs\n",
      "Max time: 79.072 μs\n",
      "Average time: 74.316 μs\n",
      "Standard deviation: 2.583 μs\n"
     ]
    }
   ],
   "source": [
    "times = []\n",
    "\n",
    "for _ in range(10):\n",
    "    start_time = time.time()\n",
    "    y_pred = mav[index].predict(test_set[index], threshold=0.10)\n",
    "    end_time = time.time()\n",
    "    times.append(convert((end_time - start_time)/len(test_set[index])))\n",
    "    \n",
    "# Calculate statistics\n",
    "min_time = min(times)\n",
    "max_time = max(times)\n",
    "avg_time_mav = np.mean(times)\n",
    "std_dev_time = np.std(times)\n",
    "\n",
    "# Output the results\n",
    "print(f\"Min time: {round(min_time,3)} μs\")\n",
    "print(f\"Max time: {round(max_time,3)} μs\")\n",
    "print(f\"Average time: {round(avg_time_mav,3)} μs\")\n",
    "print(f\"Standard deviation: {round(std_dev_time,3)} μs\")"
   ]
  },
  {
   "cell_type": "markdown",
   "metadata": {},
   "source": [
    "OC-Score: Computing min, max, average and standard deviation!"
   ]
  },
  {
   "cell_type": "code",
   "execution_count": 184,
   "metadata": {},
   "outputs": [
    {
     "name": "stdout",
     "output_type": "stream",
     "text": [
      "[+] OC-Score: Predictions Completed\n",
      "[+] OC-Score: Predictions Completed\n",
      "[+] OC-Score: Predictions Completed\n",
      "[+] OC-Score: Predictions Completed\n",
      "[+] OC-Score: Predictions Completed\n",
      "[+] OC-Score: Predictions Completed\n",
      "[+] OC-Score: Predictions Completed\n",
      "[+] OC-Score: Predictions Completed\n",
      "[+] OC-Score: Predictions Completed\n",
      "[+] OC-Score: Predictions Completed\n",
      "Min time: 6084.268 μs\n",
      "Max time: 6412.639 μs\n",
      "Average time: 6298.644 μs\n",
      "Standard deviation: 126.145 μs\n"
     ]
    }
   ],
   "source": [
    "times = []\n",
    "\n",
    "for _ in range(10):\n",
    "    start_time = time.time()\n",
    "    S = ocscore.ocscores(idref[index], idquery[index])\n",
    "    print(\"[+] OC-Score: Predictions Completed\")\n",
    "    end_time = time.time()\n",
    "    times.append(convert((end_time - start_time)/len(test_set[index])))\n",
    "    \n",
    "# Calculate statistics\n",
    "min_time = min(times)\n",
    "max_time = max(times)\n",
    "avg_time_oc = np.mean(times)\n",
    "std_dev_time = np.std(times)\n",
    "\n",
    "# Output the results\n",
    "print(f\"Min time: {round(min_time,3)} μs\")\n",
    "print(f\"Max time: {round(max_time,3)} μs\")\n",
    "print(f\"Average time: {round(avg_time_oc,3)} μs\")\n",
    "print(f\"Standard deviation: {round(std_dev_time,3)} μs\")"
   ]
  }
 ],
 "metadata": {
  "kernelspec": {
   "display_name": "Python 3",
   "language": "python",
   "name": "python3"
  },
  "language_info": {
   "codemirror_mode": {
    "name": "ipython",
    "version": 3
   },
   "file_extension": ".py",
   "mimetype": "text/x-python",
   "name": "python",
   "nbconvert_exporter": "python",
   "pygments_lexer": "ipython3",
   "version": "3.8.10"
  }
 },
 "nbformat": 4,
 "nbformat_minor": 2
}
