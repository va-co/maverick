{
 "cells": [
  {
   "cell_type": "code",
   "execution_count": 1,
   "metadata": {},
   "outputs": [
    {
     "name": "stderr",
     "output_type": "stream",
     "text": [
      "2025-02-11 20:27:44.590620: I tensorflow/tsl/cuda/cudart_stub.cc:28] Could not find cuda drivers on your machine, GPU will not be used.\n",
      "2025-02-11 20:27:44.670063: I tensorflow/tsl/cuda/cudart_stub.cc:28] Could not find cuda drivers on your machine, GPU will not be used.\n",
      "2025-02-11 20:27:44.672976: I tensorflow/core/platform/cpu_feature_guard.cc:182] This TensorFlow binary is optimized to use available CPU instructions in performance-critical operations.\n",
      "To enable the following instructions: AVX2 FMA, in other operations, rebuild TensorFlow with the appropriate compiler flags.\n",
      "2025-02-11 20:27:45.896806: W tensorflow/compiler/tf2tensorrt/utils/py_utils.cc:38] TF-TRT Warning: Could not find TensorRT\n"
     ]
    }
   ],
   "source": [
    "import os\n",
    "import time\n",
    "import vote\n",
    "import random\n",
    "import warnings\n",
    "import numpy as np\n",
    "import pandas as pd\n",
    "from tqdm import tqdm\n",
    "from maverick import Maverick\n",
    "np.set_printoptions(suppress=True)\n",
    "warnings.filterwarnings(\"ignore\")\n",
    "from sklearn.metrics import accuracy_score, confusion_matrix"
   ]
  },
  {
   "cell_type": "code",
   "execution_count": 2,
   "metadata": {},
   "outputs": [],
   "source": [
    "repo_dir = \"../cic-iov-2024\"\n",
    "if not os.path.exists(repo_dir):\n",
    "    !git clone https://github.com/val-co/cic-iov-2024.git\n",
    "\n",
    "DATASET_DIRECTORY = '/home/ubuntu/Maverick/cic-iov-2024/'"
   ]
  },
  {
   "cell_type": "code",
   "execution_count": 3,
   "metadata": {},
   "outputs": [
    {
     "name": "stdout",
     "output_type": "stream",
     "text": [
      "DataFrame: decimal_spoofing-GAS\n",
      "DataFrame: decimal_spoofing-SPEED\n",
      "DataFrame: decimal_spoofing-RPM\n",
      "DataFrame: decimal_spoofing-STEERING_WHEEL\n",
      "DataFrame: decimal_DoS\n",
      "DataFrame: decimal_benign\n"
     ]
    }
   ],
   "source": [
    "# Dictionary to store dataframes\n",
    "dataframes = {}\n",
    "attack_labels = {}\n",
    "\n",
    "# Loop through all files in the directory\n",
    "for filename in os.listdir(DATASET_DIRECTORY):\n",
    "    \n",
    "    # Check if the file is a CSV\n",
    "    if filename.endswith('.csv'):\n",
    "        \n",
    "        # Generate the variable name from the filename (remove '.csv')\n",
    "        var_name = os.path.splitext(filename)[0]\n",
    "        \n",
    "        # Read the CSV file into a DataFrame\n",
    "        file_path = os.path.join(DATASET_DIRECTORY, filename)\n",
    "        dataframes[var_name] = pd.read_csv(file_path)\n",
    "        \n",
    "        # Create labels for each row based on the file name\n",
    "        if 'SPEED' in var_name:\n",
    "            label = 3\n",
    "        elif 'GAS' in var_name:\n",
    "            label = 2\n",
    "        elif 'RPM' in var_name:\n",
    "            label = 4\n",
    "        elif 'STEERING_WHEEL' in var_name:\n",
    "            label = 5\n",
    "        elif 'DoS' in var_name:\n",
    "            label = 6\n",
    "        \n",
    "        attack_labels[var_name] = [label] * len(dataframes[var_name])\n",
    "        \n",
    "        # Drop the last 2 columns\n",
    "        dataframes[var_name] = dataframes[var_name].iloc[:, :-2]\n",
    "        \n",
    "        # Identify the third last column\n",
    "        third_last_col = dataframes[var_name].columns[-1]\n",
    "        \n",
    "        # Replace values in the third last column\n",
    "        dataframes[var_name][third_last_col] = dataframes[var_name][third_last_col].replace({'ATTACK': 1, 'BENIGN': 0})\n",
    "\n",
    "# Optionally, print the variables to verify\n",
    "for var_name, df in dataframes.items():\n",
    "    print(\"DataFrame:\",var_name)"
   ]
  },
  {
   "cell_type": "code",
   "execution_count": 4,
   "metadata": {},
   "outputs": [
    {
     "name": "stdout",
     "output_type": "stream",
     "text": [
      "X_train shape: (844929, 9)\n",
      "y_train shape: (844929,)\n",
      "\n",
      "X_surrogate shape: (281643, 9)\n",
      "y_surrogate shape: (281643,)\n",
      "\n",
      "X_test shape: (281647, 9)\n",
      "y_test shape: (281647,)\n"
     ]
    }
   ],
   "source": [
    "from sklearn.model_selection import train_test_split\n",
    "\n",
    "test_df, test_l_df, train_df = {}, {}, {}\n",
    "\n",
    "# Initialize empty DataFrames for combined datasets\n",
    "X_train = pd.DataFrame()\n",
    "X_surrogate = pd.DataFrame()\n",
    "X_test = pd.DataFrame()\n",
    "\n",
    "# Initialize empty Series for target variables\n",
    "y_train = pd.Series(dtype='int')\n",
    "y_surrogate = pd.Series(dtype='int')\n",
    "y_test = pd.Series(dtype='int')\n",
    "\n",
    "# Split each DataFrame and combine the splits\n",
    "for var_name, df in dataframes.items():\n",
    "    X = df.iloc[:, :-1]  # All columns except the last one\n",
    "    y = df.iloc[:, -1]   # The last column\n",
    "    \n",
    "    X_train_temp, X_temp, y_train_temp, y_temp = train_test_split(X, y, test_size=0.4, random_state=42)\n",
    "    X_surrogate_temp, X_test_temp, y_surrogate_temp, y_test_temp = train_test_split(X_temp, y_temp, test_size=0.5, random_state=42)\n",
    "    \n",
    "    train_df[var_name] = X_train_temp\n",
    "    \n",
    "    test_df[var_name] = X_test_temp\n",
    "    test_l_df[var_name] = y_test_temp\n",
    "    \n",
    "    # Combine the splits into the respective datasets\n",
    "    X_train = pd.concat([X_train, X_train_temp])\n",
    "    X_surrogate = pd.concat([X_surrogate, X_surrogate_temp])\n",
    "    X_test = pd.concat([X_test, X_test_temp])\n",
    "    \n",
    "    y_train = pd.concat([y_train, y_train_temp])\n",
    "    y_surrogate = pd.concat([y_surrogate, y_surrogate_temp])\n",
    "    y_test = pd.concat([y_test, y_test_temp])\n",
    "\n",
    "# Optionally, print the shapes of the combined datasets to verify\n",
    "print(f\"X_train shape: {X_train.shape}\")\n",
    "print(f\"y_train shape: {y_train.shape}\")\n",
    "print()\n",
    "print(f\"X_surrogate shape: {X_surrogate.shape}\")\n",
    "print(f\"y_surrogate shape: {y_surrogate.shape}\")\n",
    "print()\n",
    "print(f\"X_test shape: {X_test.shape}\")\n",
    "print(f\"y_test shape: {y_test.shape}\")"
   ]
  },
  {
   "cell_type": "markdown",
   "metadata": {},
   "source": [
    "##### Then we visualise some of the data"
   ]
  },
  {
   "cell_type": "code",
   "execution_count": null,
   "metadata": {},
   "outputs": [
    {
     "name": "stdout",
     "output_type": "stream",
     "text": [
      "       ID  DATA_0  DATA_1  DATA_2  DATA_3  DATA_4  DATA_5  DATA_6  DATA_7\n",
      "4514  513       0       0       0       0       0       0       0     125\n",
      "3729  513       0       0       0       0       0       0       0     125\n",
      "6199  513       0       0       0       0       0       0      64     156\n",
      "1612  513       0       0       0       0       0       0       0     125\n",
      "1181  513       0       0       0       0       0       0       0     125\n"
     ]
    },
    {
     "data": {
      "text/plain": [
       "Counter({1: 110687, 0: 734242})"
      ]
     },
     "execution_count": 5,
     "metadata": {},
     "output_type": "execute_result"
    }
   ],
   "source": [
    "from collections import Counter\n",
    "\n",
    "print(X_train.head())\n",
    "Counter(y_train)"
   ]
  },
  {
   "cell_type": "markdown",
   "metadata": {},
   "source": [
    "##### Then we train a Random Forest or XGBoost Classifier"
   ]
  },
  {
   "cell_type": "code",
   "execution_count": 6,
   "metadata": {},
   "outputs": [
    {
     "data": {
      "text/plain": [
       "RandomForestClassifier(max_depth=10, n_estimators=254, random_state=42)"
      ]
     },
     "execution_count": 6,
     "metadata": {},
     "output_type": "execute_result"
    }
   ],
   "source": [
    "from xgboost import XGBClassifier\n",
    "from sklearn.ensemble import RandomForestClassifier\n",
    "\n",
    "model1 = RandomForestClassifier(n_estimators=254, max_depth=10, random_state=42)\n",
    "model1.fit(X_train, y_train)"
   ]
  },
  {
   "cell_type": "code",
   "execution_count": 7,
   "metadata": {},
   "outputs": [
    {
     "name": "stdout",
     "output_type": "stream",
     "text": [
      "Accuracy:  1.0 \n",
      "\n",
      "True Positive Rate (TPR): 1.000\n",
      "True Negative Rate (TNR): 1.000\n",
      "False Positive Rate (FPR): 0.000\n",
      "False Negative Rate (FNR): 0.000\n"
     ]
    }
   ],
   "source": [
    "ypred = model1.predict(X_test)\n",
    "print(\"Accuracy: \", accuracy_score(ypred, y_test), \"\\n\")\n",
    "tn, fp, fn, tp = confusion_matrix(ypred, y_test).ravel()\n",
    "tpr = tp / (tp + fn)  # True positive rate\n",
    "tnr = tn / (tn + fp)  # True negative rate\n",
    "fpr = fp / (fp + tn)  # False positive rate\n",
    "fnr = fn / (fn + tp)  # False negative rate\n",
    "print(f\"True Positive Rate (TPR): {tpr:.3f}\")\n",
    "print(f\"True Negative Rate (TNR): {tnr:.3f}\")\n",
    "print(f\"False Positive Rate (FPR): {fpr:.3f}\")\n",
    "print(f\"False Negative Rate (FNR): {fnr:.3f}\")"
   ]
  },
  {
   "cell_type": "markdown",
   "metadata": {},
   "source": [
    "##### Then we train a surrogate model"
   ]
  },
  {
   "cell_type": "code",
   "execution_count": 6,
   "metadata": {},
   "outputs": [
    {
     "data": {
      "text/plain": [
       "RandomForestClassifier(max_depth=10, n_estimators=254, random_state=42)"
      ]
     },
     "execution_count": 6,
     "metadata": {},
     "output_type": "execute_result"
    }
   ],
   "source": [
    "model2 = RandomForestClassifier(n_estimators=254, max_depth=10, random_state=42)\n",
    "model2.fit(X_surrogate, y_surrogate)"
   ]
  },
  {
   "cell_type": "code",
   "execution_count": 9,
   "metadata": {},
   "outputs": [
    {
     "name": "stdout",
     "output_type": "stream",
     "text": [
      "Accuracy:  1.0 \n",
      "\n",
      "True Positive Rate (TPR): 1.000\n",
      "True Negative Rate (TNR): 1.000\n",
      "False Positive Rate (FPR): 0.000\n",
      "False Negative Rate (FNR): 0.000\n"
     ]
    }
   ],
   "source": [
    "ypred = model2.predict(X_test)\n",
    "print(\"Accuracy: \", accuracy_score(ypred, y_test), \"\\n\")\n",
    "tn, fp, fn, tp = confusion_matrix(ypred, y_test).ravel()\n",
    "tpr = tp / (tp + fn)  # True positive rate\n",
    "tnr = tn / (tn + fp)  # True negative rate\n",
    "fpr = fp / (fp + tn)  # False positive rate\n",
    "fnr = fn / (fn + tp)  # False negative rate\n",
    "print(f\"True Positive Rate (TPR): {tpr:.3f}\")\n",
    "print(f\"True Negative Rate (TNR): {tnr:.3f}\")\n",
    "print(f\"False Positive Rate (FPR): {fpr:.3f}\")\n",
    "print(f\"False Negative Rate (FNR): {fnr:.3f}\")"
   ]
  },
  {
   "cell_type": "code",
   "execution_count": 7,
   "metadata": {},
   "outputs": [],
   "source": [
    "X_benign = []"
   ]
  },
  {
   "cell_type": "markdown",
   "metadata": {},
   "source": [
    "##### Now, we generate adversarial examples for the 'decimal_spoofing-GAS' scenario"
   ]
  },
  {
   "cell_type": "code",
   "execution_count": 8,
   "metadata": {},
   "outputs": [
    {
     "name": "stdout",
     "output_type": "stream",
     "text": [
      "Finding Adversarial Examples\n"
     ]
    },
    {
     "name": "stderr",
     "output_type": "stream",
     "text": [
      "100%|██████████| 1999/1999 [00:20<00:00, 96.99it/s] "
     ]
    },
    {
     "name": "stdout",
     "output_type": "stream",
     "text": [
      "Adversarial Examples Found:  962\n",
      "Accuracy on Adversarial Examples:  0.0\n"
     ]
    },
    {
     "name": "stderr",
     "output_type": "stream",
     "text": [
      "\n"
     ]
    }
   ],
   "source": [
    "%%script echo skipping\n",
    "\n",
    "A_spoof_gas, L_spoof_gas, L_spoof_gas_extended = [], [], []\n",
    "\n",
    "datas = test_df['decimal_spoofing-GAS']\n",
    "labels = test_l_df['decimal_spoofing-GAS']\n",
    "\n",
    "def label_checker(expected, mapping):\n",
    "    return vote.mapping_check_argmax(mapping, expected)\n",
    "\n",
    "print('Finding Adversarial Examples')\n",
    "e = vote.Ensemble.from_sklearn(model2)\n",
    "deltas = [0, 15, 15, 15, 15, 15, 15, 15, 15] \n",
    "\n",
    "for i in tqdm(range(len(labels))):\n",
    "    def check_robustness(m):\n",
    "        o = vote.mapping_check_argmax(m, labels.iloc[i])\n",
    "        if o == vote.FAIL:\n",
    "            center = [m.inputs[dim].lower + (m.inputs[dim].upper - m.inputs[dim].lower) / 2 for dim in range(m.nb_inputs)]\n",
    "            if(model1.predict([center]) != labels.iloc[i]):\n",
    "                A_spoof_gas.append(center)\n",
    "                L_spoof_gas.append(labels.iloc[i])\n",
    "                L_spoof_gas_extended.append(attack_labels['decimal_spoofing-GAS'][i])\n",
    "                X_benign.append(datas.iloc[i])\n",
    "        return o\n",
    "    \n",
    "    domain = [(max(x - delta, 0), min(2047, x + delta)) if idx == 0 else (max(x - delta, 0), min(255, x + delta)) for idx, (x, delta) in enumerate(zip(datas.iloc[i].values, deltas))]\n",
    "    e.absref(check_robustness, domain)\n",
    "\n",
    "y_pred = model1.predict(A_spoof_gas)\n",
    "print('Adversarial Examples Found: ', len(A_spoof_gas))\n",
    "print(\"Accuracy on Adversarial Examples: \", accuracy_score(y_pred, L_spoof_gas))"
   ]
  },
  {
   "cell_type": "markdown",
   "metadata": {},
   "source": [
    "##### Now, we generate adversarial examples for the 'decimal_spoofing-SPEED' scenario"
   ]
  },
  {
   "cell_type": "code",
   "execution_count": 9,
   "metadata": {},
   "outputs": [
    {
     "name": "stdout",
     "output_type": "stream",
     "text": [
      "Finding Adversarial Examples\n"
     ]
    },
    {
     "name": "stderr",
     "output_type": "stream",
     "text": [
      "  0%|          | 0/4991 [00:00<?, ?it/s]"
     ]
    },
    {
     "name": "stderr",
     "output_type": "stream",
     "text": [
      "100%|██████████| 4991/4991 [01:28<00:00, 56.54it/s]"
     ]
    },
    {
     "name": "stdout",
     "output_type": "stream",
     "text": [
      "Adversarial Examples Found:  2962\n",
      "Accuracy on Adversarial Examples:  0.0\n"
     ]
    },
    {
     "name": "stderr",
     "output_type": "stream",
     "text": [
      "\n"
     ]
    }
   ],
   "source": [
    "%%script echo skipping\n",
    "\n",
    "A_spoof_speed, L_spoof_speed, L_spoof_speed_extended = [], [], []\n",
    "\n",
    "datas = test_df['decimal_spoofing-SPEED']\n",
    "labels = test_l_df['decimal_spoofing-SPEED']\n",
    "\n",
    "def label_checker(expected, mapping):\n",
    "    return vote.mapping_check_argmax(mapping, expected)\n",
    "\n",
    "print('Finding Adversarial Examples')\n",
    "e = vote.Ensemble.from_sklearn(model2)\n",
    "deltas = [0, 15, 15, 15, 15, 15, 15, 15, 15]\n",
    "\n",
    "for i in tqdm(range(len(labels))):\n",
    "    def check_robustness(m):\n",
    "        o = vote.mapping_check_argmax(m, labels.iloc[i])\n",
    "        if o == vote.FAIL:\n",
    "            center = [m.inputs[dim].lower + (m.inputs[dim].upper - m.inputs[dim].lower) / 2 for dim in range(m.nb_inputs)]\n",
    "            if(model1.predict([center]) != labels.iloc[i]):\n",
    "                A_spoof_speed.append(center) \n",
    "                L_spoof_speed.append(labels.iloc[i])\n",
    "                L_spoof_speed_extended.append(attack_labels['decimal_spoofing-SPEED'][i])\n",
    "                X_benign.append(datas.iloc[i])\n",
    "        return o\n",
    "    \n",
    "    domain = [(max(x - delta, 0), min(2047, x + delta)) if idx == 0 else (max(x - delta, 0), min(255, x + delta)) for idx, (x, delta) in enumerate(zip(datas.iloc[i].values, deltas))]\n",
    "    e.absref(check_robustness, domain)\n",
    "\n",
    "y_pred = model1.predict(A_spoof_speed)\n",
    "print('Adversarial Examples Found: ', len(A_spoof_speed))\n",
    "print(\"Accuracy on Adversarial Examples: \", accuracy_score(y_pred, L_spoof_speed)) "
   ]
  },
  {
   "cell_type": "markdown",
   "metadata": {},
   "source": [
    "##### Now, we generate adversarial examples for the 'decimal_spoofing-RPM' scenario"
   ]
  },
  {
   "cell_type": "code",
   "execution_count": 10,
   "metadata": {},
   "outputs": [
    {
     "name": "stdout",
     "output_type": "stream",
     "text": [
      "Finding Adversarial Examples\n"
     ]
    },
    {
     "name": "stderr",
     "output_type": "stream",
     "text": [
      "100%|██████████| 10980/10980 [00:41<00:00, 261.64it/s]\n"
     ]
    },
    {
     "name": "stdout",
     "output_type": "stream",
     "text": [
      "Adversarial Examples Found:  2027\n",
      "Accuracy on Adversarial Examples:  0.0\n"
     ]
    }
   ],
   "source": [
    "%%script echo skipping\n",
    "\n",
    "A_spoof_rpm, L_spoof_rpm, L_spoof_rpm_extended = [], [], [] \n",
    "\n",
    "datas = test_df['decimal_spoofing-RPM'] \n",
    "labels = test_l_df['decimal_spoofing-RPM'] \n",
    "\n",
    "def label_checker(expected, mapping):\n",
    "    return vote.mapping_check_argmax(mapping, expected)\n",
    "\n",
    "print('Finding Adversarial Examples')\n",
    "e = vote.Ensemble.from_sklearn(model2)\n",
    "deltas = [0, 0, 0, 15, 15, 0, 14, 0, 14] \n",
    "\n",
    "for i in tqdm(range(len(labels))):\n",
    "    def check_robustness(m):\n",
    "        o = vote.mapping_check_argmax(m, labels.iloc[i])\n",
    "        if o == vote.FAIL:\n",
    "            center = [m.inputs[dim].lower + (m.inputs[dim].upper - m.inputs[dim].lower) / 2 for dim in range(m.nb_inputs)]\n",
    "            if(model1.predict([center]) != labels.iloc[i]):\n",
    "                A_spoof_rpm.append(center)\n",
    "                L_spoof_rpm.append(labels.iloc[i])\n",
    "                L_spoof_rpm_extended.append(attack_labels['decimal_spoofing-RPM'][i])\n",
    "                X_benign.append(datas.iloc[i])\n",
    "        return o\n",
    "    \n",
    "    domain = [(max(x - delta, 0), min(2047, x + delta)) if idx == 0 else (max(x - delta, 0), min(255, x + delta)) for idx, (x, delta) in enumerate(zip(datas.iloc[i].values, deltas))]\n",
    "    e.absref(check_robustness, domain)\n",
    "\n",
    "y_pred = model1.predict(A_spoof_rpm)\n",
    "print('Adversarial Examples Found: ', len(A_spoof_rpm))\n",
    "print(\"Accuracy on Adversarial Examples: \", accuracy_score(y_pred, L_spoof_rpm))"
   ]
  },
  {
   "cell_type": "markdown",
   "metadata": {},
   "source": [
    "##### Now, we generate adversarial examples for the 'decimal_spoofing-STEERING_WHEEL' scenario"
   ]
  },
  {
   "cell_type": "code",
   "execution_count": 11,
   "metadata": {},
   "outputs": [
    {
     "name": "stdout",
     "output_type": "stream",
     "text": [
      "Finding Adversarial Examples\n"
     ]
    },
    {
     "name": "stderr",
     "output_type": "stream",
     "text": [
      "100%|██████████| 3996/3996 [01:41<00:00, 39.20it/s]"
     ]
    },
    {
     "name": "stdout",
     "output_type": "stream",
     "text": [
      "Adversarial Examples Found:  2005\n",
      "Accuracy on Adversarial Examples:  0.0\n"
     ]
    },
    {
     "name": "stderr",
     "output_type": "stream",
     "text": [
      "\n"
     ]
    }
   ],
   "source": [
    "%%script echo skipping\n",
    "\n",
    "A_spoof_steering_wheel, L_spoof_steering_wheel, L_spoof_steering_wheel_extended = [], [], []\n",
    "\n",
    "datas = test_df['decimal_spoofing-STEERING_WHEEL']\n",
    "labels = test_l_df['decimal_spoofing-STEERING_WHEEL']\n",
    "\n",
    "def label_checker(expected, mapping):\n",
    "    return vote.mapping_check_argmax(mapping, expected)\n",
    "\n",
    "print('Finding Adversarial Examples')\n",
    "e = vote.Ensemble.from_sklearn(model2)\n",
    "deltas = [0, 17, 17, 17, 17, 17, 17, 17, 17]\n",
    "\n",
    "for i in tqdm(range(len(labels))):\n",
    "    def check_robustness(m):\n",
    "        o = vote.mapping_check_argmax(m, labels.iloc[i])\n",
    "        if o == vote.FAIL:\n",
    "            center = [m.inputs[dim].lower + (m.inputs[dim].upper - m.inputs[dim].lower) / 2 for dim in range(m.nb_inputs)]\n",
    "            if(model1.predict([center]) != labels.iloc[i]): \n",
    "                A_spoof_steering_wheel.append(center)\n",
    "                L_spoof_steering_wheel.append(labels.iloc[i])\n",
    "                L_spoof_steering_wheel_extended.append(attack_labels['decimal_spoofing-STEERING_WHEEL'][i]) \n",
    "                X_benign.append(datas.iloc[i]) \n",
    "        return o\n",
    "    \n",
    "    domain = [(max(x - delta, 0), min(2047, x + delta)) if idx == 0 else (max(x - delta, 0), min(255, x + delta)) for idx, (x, delta) in enumerate(zip(datas.iloc[i].values, deltas))]\n",
    "    e.absref(check_robustness, domain)\n",
    "\n",
    "y_pred = model1.predict(A_spoof_steering_wheel)    \n",
    "print('Adversarial Examples Found: ', len(A_spoof_steering_wheel))\n",
    "print(\"Accuracy on Adversarial Examples: \", accuracy_score(y_pred, L_spoof_steering_wheel))"
   ]
  },
  {
   "cell_type": "markdown",
   "metadata": {},
   "source": [
    "##### Now, we generate adversarial examples for the 'decimal_DoS' scenario"
   ]
  },
  {
   "cell_type": "code",
   "execution_count": 12,
   "metadata": {},
   "outputs": [
    {
     "name": "stdout",
     "output_type": "stream",
     "text": [
      "Finding Adversarial Examples\n"
     ]
    },
    {
     "name": "stderr",
     "output_type": "stream",
     "text": [
      "  0%|          | 0/14933 [00:00<?, ?it/s]"
     ]
    },
    {
     "name": "stderr",
     "output_type": "stream",
     "text": [
      "100%|██████████| 14933/14933 [05:17<00:00, 47.08it/s]"
     ]
    },
    {
     "name": "stdout",
     "output_type": "stream",
     "text": [
      "Adversarial Examples Found:  3944\n",
      "Accuracy on Adversarial Examples:  0.0\n"
     ]
    },
    {
     "name": "stderr",
     "output_type": "stream",
     "text": [
      "\n"
     ]
    }
   ],
   "source": [
    "%%script echo skipping\n",
    "\n",
    "A_dos, L_dos, L_dos_extended = [], [], []\n",
    "\n",
    "datas = test_df['decimal_DoS'] \n",
    "labels = test_l_df['decimal_DoS']\n",
    "\n",
    "def label_checker(expected, mapping):\n",
    "    return vote.mapping_check_argmax(mapping, expected)\n",
    "\n",
    "print('Finding Adversarial Examples')\n",
    "e = vote.Ensemble.from_sklearn(model2)\n",
    "deltas = [7, 0, 15, 15, 15, 15, 15, 15, 15]\n",
    "\n",
    "for i in tqdm(range(len(labels))):\n",
    "    def check_robustness(m):\n",
    "        o = vote.mapping_check_argmax(m, labels.iloc[i])\n",
    "        if o == vote.FAIL:\n",
    "            center = [m.inputs[dim].lower + (m.inputs[dim].upper - m.inputs[dim].lower) / 2 for dim in range(m.nb_inputs)]\n",
    "            if(model1.predict([center]) != labels.iloc[i]):\n",
    "                A_dos.append(center)\n",
    "                L_dos.append(labels.iloc[i])\n",
    "                L_dos_extended.append(attack_labels['decimal_DoS'][i])\n",
    "                X_benign.append(datas.iloc[i])\n",
    "        return o\n",
    "    \n",
    "    domain = [(max(x - delta, 0), min(2047, x + delta)) if idx == 0 else (max(x - delta, 0), min(255, x + delta)) for idx, (x, delta) in enumerate(zip(datas.iloc[i].values, deltas))]\n",
    "    e.absref(check_robustness, domain)\n",
    "\n",
    "y_pred = model1.predict(A_dos)\n",
    "print('Adversarial Examples Found: ', len(A_dos)) \n",
    "print(\"Accuracy on Adversarial Examples: \", accuracy_score(y_pred, L_dos))"
   ]
  },
  {
   "cell_type": "markdown",
   "metadata": {},
   "source": [
    "##### Then we combine all these adversarial datasets"
   ]
  },
  {
   "cell_type": "code",
   "execution_count": 15,
   "metadata": {},
   "outputs": [
    {
     "name": "stdout",
     "output_type": "stream",
     "text": [
      "skipping\n"
     ]
    }
   ],
   "source": [
    "%%script echo skipping\n",
    "\n",
    "true_labels = np.concatenate((L_spoof_gas, L_spoof_speed, L_spoof_rpm, L_spoof_steering_wheel, L_dos))\n",
    "adversarial_examples = np.concatenate((A_spoof_gas, A_spoof_speed, A_spoof_rpm, A_spoof_steering_wheel, A_dos))\n",
    "true_labels_extended = np.concatenate((L_spoof_gas_extended, L_spoof_speed_extended, L_spoof_rpm_extended, L_spoof_steering_wheel_extended, L_dos_extended))\n",
    "\n",
    "y_pred = model1.predict(adversarial_examples)\n",
    "print(\"Accuracy on the Adversarial Set: \", accuracy_score(y_pred, true_labels))\n",
    "print(Counter(true_labels_extended))"
   ]
  },
  {
   "cell_type": "markdown",
   "metadata": {},
   "source": [
    "##### Then we save these datasets to disk"
   ]
  },
  {
   "cell_type": "code",
   "execution_count": 16,
   "metadata": {},
   "outputs": [
    {
     "name": "stdout",
     "output_type": "stream",
     "text": [
      "skipping\n"
     ]
    }
   ],
   "source": [
    "%%script echo skipping\n",
    "\n",
    "np.save('benign_samples.npy', X_benign)\n",
    "np.save('true_labels_std.npy', true_labels)\n",
    "np.save('adversarial_examples_std.npy', adversarial_examples)\n",
    "np.save('true_labels_std_extended.npy', true_labels_extended)"
   ]
  },
  {
   "cell_type": "markdown",
   "metadata": {},
   "source": [
    "##### Then we retrieve them from disk"
   ]
  },
  {
   "cell_type": "code",
   "execution_count": 7,
   "metadata": {},
   "outputs": [],
   "source": [
    "import numpy as np\n",
    "\n",
    "X_benign = np.load('benign_samples.npy')\n",
    "true_labels = np.load('true_labels_std.npy')\n",
    "adversarial_examples = np.load('adversarial_examples_std.npy')\n",
    "true_labels_extended = np.load('true_labels_std_extended.npy')"
   ]
  },
  {
   "cell_type": "markdown",
   "metadata": {},
   "source": [
    "##### Then we select random samples from the test set"
   ]
  },
  {
   "cell_type": "code",
   "execution_count": 10,
   "metadata": {},
   "outputs": [],
   "source": [
    "random.seed(42)\n",
    "\n",
    "num_samples = len(adversarial_examples)\n",
    "\n",
    "selected_indices = random.sample(range(len(X_test)), num_samples)\n",
    "\n",
    "X_selected = X_test.iloc[selected_indices].values\n",
    "y_selected = y_test.iloc[selected_indices].values"
   ]
  },
  {
   "cell_type": "code",
   "execution_count": 11,
   "metadata": {},
   "outputs": [
    {
     "name": "stdout",
     "output_type": "stream",
     "text": [
      "Evaluation Samples: 23800\n"
     ]
    }
   ],
   "source": [
    "test_set = np.concatenate((X_selected, adversarial_examples))\n",
    "test_lab_sym = np.concatenate((np.zeros(len(y_selected), dtype=bool), np.ones(len(true_labels), dtype=bool)))\n",
    "\n",
    "test_lab = np.concatenate((y_selected, true_labels))\n",
    "\n",
    "print(\"Evaluation Samples:\", len(test_set))"
   ]
  },
  {
   "cell_type": "code",
   "execution_count": 6,
   "metadata": {},
   "outputs": [],
   "source": [
    "def convert(number, unit='micro'):\n",
    "    if unit == 'micro':\n",
    "        result = number * 1e6\n",
    "    elif unit == 'milli':\n",
    "        result = number * 1e3\n",
    "    elif unit == 'nano':\n",
    "        result = number * 1e9\n",
    "    else:\n",
    "        raise ValueError(\"Invalid unit. Choose from 'micro', 'milli', or 'nano'.\")\n",
    "    return round(result, 3)"
   ]
  },
  {
   "cell_type": "markdown",
   "metadata": {},
   "source": [
    "##### Then we create Maverick and compare its performance!"
   ]
  },
  {
   "cell_type": "code",
   "execution_count": 10,
   "metadata": {},
   "outputs": [
    {
     "name": "stdout",
     "output_type": "stream",
     "text": [
      "Initializing Maverick...\n",
      "Loading File: autoencoder_standard_new.h5\n",
      "Initialization Complete!\n"
     ]
    }
   ],
   "source": [
    "mav = Maverick(model1, X_train, y_train, save_filename = \"autoencoder_standard_new.h5\")"
   ]
  },
  {
   "cell_type": "code",
   "execution_count": 9,
   "metadata": {},
   "outputs": [
    {
     "name": "stdout",
     "output_type": "stream",
     "text": [
      "Initializing Maverick...\n",
      "Loading File: autoencoder_standard_new.h5\n",
      "Initialization Complete!\n"
     ]
    }
   ],
   "source": [
    "mav = Maverick(model1, load_filename=\"autoencoder_standard_new.h5\")"
   ]
  },
  {
   "cell_type": "markdown",
   "metadata": {},
   "source": [
    "By default, the initialization process saves the autoencoder within Maverick as \"autoencoder_model.h5\". We can then retrieve it from disk! "
   ]
  },
  {
   "cell_type": "code",
   "execution_count": 23,
   "metadata": {},
   "outputs": [
    {
     "name": "stdout",
     "output_type": "stream",
     "text": [
      "93/93 [==============================] - 1s 7ms/step\n"
     ]
    },
    {
     "data": {
      "image/png": "[encoded data removed]",
      "text/plain": [
       "<Figure size 1000x600 with 1 Axes>"
      ]
     },
     "metadata": {},
     "output_type": "display_data"
    }
   ],
   "source": [
    "mav.plot_rmse_scores(test_set, test_lab_sym)"
   ]
  },
  {
   "cell_type": "code",
   "execution_count": 24,
   "metadata": {},
   "outputs": [
    {
     "name": "stdout",
     "output_type": "stream",
     "text": [
      "11/93 [==>...........................] - ETA: 0s"
     ]
    },
    {
     "name": "stdout",
     "output_type": "stream",
     "text": [
      "93/93 [==============================] - 1s 5ms/step\n",
      "Maverick Average Prediction Time:  77.873 μs\n",
      "\n",
      "Accuracy:  1.0\n",
      "F1-Score:  1.0\n",
      "MCC:  1.0\n",
      "True Positive Rate (TPR): 1.000\n",
      "True Negative Rate (TNR): 1.000\n",
      "False Positive Rate (FPR): 0.000\n",
      "False Negative Rate (FNR): 0.000\n"
     ]
    }
   ],
   "source": [
    "mav.get_metrics(test_set, test_lab, threshold=0.10)"
   ]
  },
  {
   "cell_type": "code",
   "execution_count": 7,
   "metadata": {},
   "outputs": [
    {
     "name": "stdout",
     "output_type": "stream",
     "text": [
      "(110687, 9) (110687,)\n"
     ]
    }
   ],
   "source": [
    "X_train_attack = pd.concat([train_df['decimal_spoofing-GAS'], train_df['decimal_spoofing-SPEED'], \n",
    "                            train_df['decimal_spoofing-RPM'], train_df['decimal_spoofing-STEERING_WHEEL'], \n",
    "                            train_df['decimal_DoS']])\n",
    "\n",
    "y_train_attack = np.concatenate([np.full(len(train_df['decimal_spoofing-GAS']), np.unique(attack_labels['decimal_spoofing-GAS'])),\n",
    "                                 np.full(len(train_df['decimal_spoofing-SPEED']), np.unique(attack_labels['decimal_spoofing-SPEED'])),\n",
    "                                 np.full(len(train_df['decimal_spoofing-RPM']), np.unique(attack_labels['decimal_spoofing-RPM'])),\n",
    "                                 np.full(len(train_df['decimal_spoofing-STEERING_WHEEL']), np.unique(attack_labels['decimal_spoofing-STEERING_WHEEL'])),\n",
    "                                 np.full(len(train_df['decimal_DoS']), np.unique(attack_labels['decimal_DoS']))])\n",
    "\n",
    "print(X_train_attack.shape, y_train_attack.shape)"
   ]
  },
  {
   "cell_type": "markdown",
   "metadata": {},
   "source": [
    "## Detecting the attacker's intentions!"
   ]
  },
  {
   "cell_type": "code",
   "execution_count": 34,
   "metadata": {},
   "outputs": [],
   "source": [
    "import os\n",
    "import pickle\n",
    "import numpy as np\n",
    "import tensorflow as tf\n",
    "from tensorflow.keras.models import Model\n",
    "from tensorflow.keras.layers import Input, Dense\n",
    "from tensorflow.keras.optimizers import Adam\n",
    "from tensorflow.keras.callbacks import EarlyStopping\n",
    "from sklearn.preprocessing import MinMaxScaler\n",
    "\n",
    "autoencoder_dir = \"autoencoders\"\n",
    "os.makedirs(autoencoder_dir, exist_ok=True)\n",
    "\n",
    "label_autoencoders_file = os.path.join(autoencoder_dir, 'label_autoencoders.pkl')\n",
    "label_autoencoders = {}\n",
    "\n",
    "if os.path.exists(label_autoencoders_file):\n",
    "    @tf.keras.utils.register_keras_serializable(package=\"Custom\")\n",
    "    def rmse_loss(y_true, y_pred):\n",
    "        y_true = tf.cast(y_true, tf.float32) \n",
    "        y_pred = tf.cast(y_pred, tf.float32)\n",
    "        return tf.sqrt(tf.reduce_mean(tf.square(y_true - y_pred)))\n",
    "    with open(label_autoencoders_file, 'rb') as f:\n",
    "        label_autoencoders = pickle.load(f)\n",
    "else:\n",
    "    scaler = MinMaxScaler()\n",
    "    X_train_attack_ = scaler.fit_transform(X_train_attack)\n",
    "\n",
    "    input_dim = X_train_attack.shape[1]\n",
    "    encoded_dim = 2\n",
    "\n",
    "    def build_autoencoder(input_dim, encoded_dim):\n",
    "        input_layer = Input(shape=(input_dim,))\n",
    "        encoded = Dense(encoded_dim, activation='relu')(input_layer)\n",
    "        decoded = Dense(input_dim, activation='sigmoid')(encoded)\n",
    "        autoencoder = Model(inputs=input_layer, outputs=decoded)\n",
    "        return autoencoder\n",
    "\n",
    "    def rmse_loss(y_true, y_pred):\n",
    "        y_true = tf.cast(y_true, tf.float32) \n",
    "        y_pred = tf.cast(y_pred, tf.float32)\n",
    "        return tf.sqrt(tf.reduce_mean(tf.square(y_true - y_pred)))\n",
    "\n",
    "    unique_labels = np.unique(y_train_attack)\n",
    "    label_autoencoders = {}\n",
    "    histories = {}\n",
    "\n",
    "    for label in unique_labels:\n",
    "        print(f\"Training autoencoder for label {label}\")\n",
    "        label_data = X_train_attack_[y_train_attack == label]\n",
    "        autoencoder = build_autoencoder(input_dim, encoded_dim)\n",
    "        autoencoder.compile(optimizer=Adam(learning_rate=0.001), loss='mse')\n",
    "\n",
    "        # Set up EarlyStopping callback\n",
    "        early_stopping = EarlyStopping(monitor='val_loss', patience=7, restore_best_weights=True)\n",
    "\n",
    "        history = autoencoder.fit(\n",
    "            label_data, label_data, \n",
    "            epochs=250,\n",
    "            batch_size=256,\n",
    "            shuffle=True,\n",
    "            validation_split=0.1,\n",
    "            callbacks=[early_stopping]\n",
    "        )\n",
    "\n",
    "        label_autoencoders[label] = autoencoder\n",
    "        histories[label] = history\n",
    "\n",
    "    with open(os.path.join(autoencoder_dir, 'label_autoencoders.pkl'), 'wb') as f:\n",
    "        pickle.dump(label_autoencoders, f)\n",
    "\n"
   ]
  },
  {
   "cell_type": "code",
   "execution_count": 71,
   "metadata": {},
   "outputs": [
    {
     "name": "stdout",
     "output_type": "stream",
     "text": [
      "47/47 [==============================] - 0s 3ms/step\n",
      "47/47 [==============================] - 0s 2ms/step\n",
      "47/47 [==============================] - 0s 2ms/step\n",
      "47/47 [==============================] - 0s 2ms/step\n",
      "47/47 [==============================] - 0s 2ms/step\n"
     ]
    }
   ],
   "source": [
    "unique_labels = np.unique(y_train_attack)\n",
    "\n",
    "scaler_adv = MinMaxScaler()\n",
    "adversarial_examples_ = scaler_adv.fit_transform(adversarial_examples) \n",
    "\n",
    "all_losses = []\n",
    "for label in unique_labels:\n",
    "    autoencoder = label_autoencoders[label]\n",
    "    reconstructed = autoencoder.predict(adversarial_examples_, batch_size=256)\n",
    "    losses = np.sqrt(np.mean((adversarial_examples_ - reconstructed) ** 2, axis=1))\n",
    "    all_losses.append(losses)\n",
    "\n",
    "all_losses_ = np.array(all_losses).T  # Shape: (num_examples, num_labels)\n",
    "predicted_labels = unique_labels[np.argmin(all_losses_, axis=1)]  # Label with lowest loss per example"
   ]
  },
  {
   "cell_type": "code",
   "execution_count": 72,
   "metadata": {},
   "outputs": [
    {
     "name": "stdout",
     "output_type": "stream",
     "text": [
      "Balanced Accuracy: 0.933\n",
      "Precision (macro-average): 0.960\n",
      "Recall (macro-average): 0.933\n",
      "F1 Score (macro-average): 0.938\n"
     ]
    }
   ],
   "source": [
    "from sklearn.metrics import f1_score, precision_score, recall_score, balanced_accuracy_score\n",
    "\n",
    "precision = precision_score(true_labels_extended, predicted_labels, average='macro') \n",
    "recall = recall_score(true_labels_extended, predicted_labels, average='macro') \n",
    "f1 = f1_score(true_labels_extended, predicted_labels, average='macro') \n",
    "balanced_acc = balanced_accuracy_score(true_labels_extended, predicted_labels)\n",
    "\n",
    "print(f\"Balanced Accuracy: {balanced_acc:.3f}\")\n",
    "print(f\"Precision (macro-average): {precision:.3f}\")\n",
    "print(f\"Recall (macro-average): {recall:.3f}\")\n",
    "print(f\"F1 Score (macro-average): {f1:.3f}\")\n"
   ]
  },
  {
   "cell_type": "markdown",
   "metadata": {},
   "source": [
    "# Tuning the ratio of Adversarial:Non-Adversarial Samples for Evaluation"
   ]
  },
  {
   "cell_type": "code",
   "execution_count": 33,
   "metadata": {},
   "outputs": [
    {
     "name": "stdout",
     "output_type": "stream",
     "text": [
      "Ratio (Adv : Non-Adv) - 0 11900\n",
      "47/47 [==============================] - 0s 5ms/step\n",
      "Ratio (Adv : Non-Adv) - 119 11781\n",
      "47/47 [==============================] - 0s 6ms/step\n",
      "Ratio (Adv : Non-Adv) - 238 11662\n",
      "47/47 [==============================] - 0s 5ms/step\n",
      "Ratio (Adv : Non-Adv) - 357 11543\n",
      "47/47 [==============================] - 0s 5ms/step\n",
      "Ratio (Adv : Non-Adv) - 476 11424\n",
      "47/47 [==============================] - 0s 5ms/step\n",
      "Ratio (Adv : Non-Adv) - 595 11305\n",
      "47/47 [==============================] - 0s 5ms/step\n",
      "Ratio (Adv : Non-Adv) - 714 11186\n",
      "47/47 [==============================] - 0s 5ms/step\n",
      "Ratio (Adv : Non-Adv) - 834 11066\n",
      "47/47 [==============================] - 0s 5ms/step\n",
      "Ratio (Adv : Non-Adv) - 952 10948\n",
      "47/47 [==============================] - 0s 5ms/step\n",
      "Ratio (Adv : Non-Adv) - 1071 10829\n",
      "47/47 [==============================] - 0s 5ms/step\n",
      "Ratio (Adv : Non-Adv) - 1190 10710\n",
      "47/47 [==============================] - 0s 5ms/step\n"
     ]
    }
   ],
   "source": [
    "import math\n",
    "import numpy as np\n",
    "import pandas as pd\n",
    "from sklearn.metrics import precision_score, recall_score, confusion_matrix, accuracy_score, f1_score, matthews_corrcoef, roc_auc_score\n",
    "import plotly.graph_objects as go\n",
    "\n",
    "from plotly.subplots import make_subplots\n",
    "\n",
    "random.seed(42)\n",
    "np.random.seed(42)\n",
    "\n",
    "dataset_name = 'CIC-IoV-2024'\n",
    "\n",
    "num_samples = len(adversarial_examples)\n",
    "selected_indices = random.sample(range(len(X_test)), num_samples)\n",
    "\n",
    "X_test_ = X_test.iloc[selected_indices].values\n",
    "y_test_ = y_test.iloc[selected_indices].values\n",
    "\n",
    "# Ratios to analyze\n",
    "ratios = [0, 1, 2, 3, 4, 5, 6, 7, 8, 9, 10]\n",
    "\n",
    "# Metrics storage\n",
    "mcc_list, f1score_list, precision_list, recall_list, fpr_list, fnr_list, accuracy_list, auc_list = [], [], [], [], [], [], [], []\n",
    "ratio_labels = []\n",
    "\n",
    "for adv_count in ratios:\n",
    "\n",
    "    # Sampling with fixed seed\n",
    "    np.random.seed(42)\n",
    "\n",
    "    # Sample the indices for original and adversarial examples based on the desired ratio\n",
    "    adv_indices = np.random.choice(len(adversarial_examples), math.ceil((adv_count/100)*len(adversarial_examples)), replace=False)\n",
    "\n",
    "    np.random.seed(42)\n",
    "    remove_indices = np.random.choice(len(X_test_), len(adv_indices), replace=False)\n",
    "    X_test__ = np.delete(X_test_, remove_indices, axis=0)\n",
    "    y_test__ = np.delete(y_test_, remove_indices, axis=0)\n",
    "    \n",
    "    # Combine the data\n",
    "    combined_data = np.vstack((X_test__, adversarial_examples[adv_indices]))\n",
    "    combined_labels = np.hstack((y_test__, true_labels[adv_indices]))\n",
    "\n",
    "    print(\"Ratio (Adv : Non-Adv) -\", len(adversarial_examples[adv_indices]), len(X_test__))\n",
    "\n",
    "    # Calculate and print ratio\n",
    "    r = adv_count\n",
    "    ratio_labels.append(f\"{r}:{100-r}\")  # Corrected formatting\n",
    "\n",
    "    # Predictions\n",
    "    predictions = mav.predict(pd.DataFrame(combined_data, columns=X_test.columns), threshold=0.09)\n",
    "\n",
    "    # Metrics\n",
    "    mcc = matthews_corrcoef(combined_labels, predictions)\n",
    "    f1score = f1_score(combined_labels, predictions)\n",
    "    precision = precision_score(combined_labels, predictions)\n",
    "    recall = recall_score(combined_labels, predictions)\n",
    "    accuracy = accuracy_score(combined_labels, predictions)\n",
    "    auc = roc_auc_score(combined_labels, predictions)\n",
    "\n",
    "    TN, FP, FN, TP = confusion_matrix(combined_labels, predictions).ravel()\n",
    "    fpr = FP / (FP + TN) \n",
    "    fnr = FN / (FN + TP)\n",
    "\n",
    "    # Store metrics\n",
    "    f1score_list.append(f1score)\n",
    "    precision_list.append(precision)\n",
    "    recall_list.append(recall)\n",
    "    fpr_list.append(fpr)\n",
    "    fnr_list.append(fnr)\n",
    "    mcc_list.append(mcc)\n",
    "    accuracy_list.append(accuracy)\n",
    "    auc_list.append(auc)"
   ]
  },
  {
   "cell_type": "code",
   "execution_count": 41,
   "metadata": {},
   "outputs": [
    {
     "data": {
      "application/vnd.plotly.v1+json": {
       "config": {
        "plotlyServerURL": "https://plot.ly"
       },
       "data": [
        {
         "mode": "lines+markers",
         "name": "F1-Score",
         "type": "scatter",
         "x": [
          "0:100",
          "1:99",
          "2:98",
          "3:97",
          "4:96",
          "5:95",
          "6:94",
          "7:93",
          "8:92",
          "9:91",
          "10:90"
         ],
         "xaxis": "x",
         "y": [
          1,
          1,
          1,
          1,
          1,
          1,
          1,
          1,
          1,
          1,
          1
         ],
         "yaxis": "y"
        },
        {
         "mode": "lines+markers",
         "name": "Precision",
         "type": "scatter",
         "x": [
          "0:100",
          "1:99",
          "2:98",
          "3:97",
          "4:96",
          "5:95",
          "6:94",
          "7:93",
          "8:92",
          "9:91",
          "10:90"
         ],
         "xaxis": "x2",
         "y": [
          1,
          1,
          1,
          1,
          1,
          1,
          1,
          1,
          1,
          1,
          1
         ],
         "yaxis": "y2"
        },
        {
         "mode": "lines+markers",
         "name": "Recall",
         "type": "scatter",
         "x": [
          "0:100",
          "1:99",
          "2:98",
          "3:97",
          "4:96",
          "5:95",
          "6:94",
          "7:93",
          "8:92",
          "9:91",
          "10:90"
         ],
         "xaxis": "x3",
         "y": [
          1,
          1,
          1,
          1,
          1,
          1,
          1,
          1,
          1,
          1,
          1
         ],
         "yaxis": "y3"
        },
        {
         "mode": "lines+markers",
         "name": "Accuracy",
         "type": "scatter",
         "x": [
          "0:100",
          "1:99",
          "2:98",
          "3:97",
          "4:96",
          "5:95",
          "6:94",
          "7:93",
          "8:92",
          "9:91",
          "10:90"
         ],
         "xaxis": "x4",
         "y": [
          1,
          1,
          1,
          1,
          1,
          1,
          1,
          1,
          1,
          1,
          1
         ],
         "yaxis": "y4"
        },
        {
         "mode": "lines+markers",
         "name": "FPR",
         "type": "scatter",
         "x": [
          "0:100",
          "1:99",
          "2:98",
          "3:97",
          "4:96",
          "5:95",
          "6:94",
          "7:93",
          "8:92",
          "9:91",
          "10:90"
         ],
         "xaxis": "x5",
         "y": [
          0,
          0,
          0,
          0,
          0,
          0,
          0,
          0,
          0,
          0,
          0
         ],
         "yaxis": "y5"
        },
        {
         "mode": "lines+markers",
         "name": "FNR",
         "type": "scatter",
         "x": [
          "0:100",
          "1:99",
          "2:98",
          "3:97",
          "4:96",
          "5:95",
          "6:94",
          "7:93",
          "8:92",
          "9:91",
          "10:90"
         ],
         "xaxis": "x6",
         "y": [
          0,
          0,
          0,
          0,
          0,
          0,
          0,
          0,
          0,
          0,
          0
         ],
         "yaxis": "y6"
        },
        {
         "mode": "lines+markers",
         "name": "MCC",
         "type": "scatter",
         "x": [
          "0:100",
          "1:99",
          "2:98",
          "3:97",
          "4:96",
          "5:95",
          "6:94",
          "7:93",
          "8:92",
          "9:91",
          "10:90"
         ],
         "xaxis": "x7",
         "y": [
          1,
          1,
          1,
          1,
          1,
          1,
          1,
          1,
          1,
          1,
          1
         ],
         "yaxis": "y7"
        },
        {
         "mode": "lines+markers",
         "name": "AUC",
         "type": "scatter",
         "x": [
          "0:100",
          "1:99",
          "2:98",
          "3:97",
          "4:96",
          "5:95",
          "6:94",
          "7:93",
          "8:92",
          "9:91",
          "10:90"
         ],
         "xaxis": "x8",
         "y": [
          1,
          1,
          1,
          1,
          1,
          1,
          1,
          1,
          1,
          1,
          1
         ],
         "yaxis": "y8"
        }
       ],
       "layout": {
        "annotations": [
         {
          "font": {
           "size": 9
          },
          "showarrow": false,
          "text": "F1-Score",
          "x": 0.11375,
          "xanchor": "center",
          "xref": "paper",
          "y": 1,
          "yanchor": "bottom",
          "yref": "paper"
         },
         {
          "font": {
           "size": 9
          },
          "showarrow": false,
          "text": "Precision",
          "x": 0.37124999999999997,
          "xanchor": "center",
          "xref": "paper",
          "y": 1,
          "yanchor": "bottom",
          "yref": "paper"
         },
         {
          "font": {
           "size": 9
          },
          "showarrow": false,
          "text": "Recall",
          "x": 0.62875,
          "xanchor": "center",
          "xref": "paper",
          "y": 1,
          "yanchor": "bottom",
          "yref": "paper"
         },
         {
          "font": {
           "size": 9
          },
          "showarrow": false,
          "text": "Accuracy",
          "x": 0.88625,
          "xanchor": "center",
          "xref": "paper",
          "y": 1,
          "yanchor": "bottom",
          "yref": "paper"
         },
         {
          "font": {
           "size": 9
          },
          "showarrow": false,
          "text": "FPR",
          "x": 0.11375,
          "xanchor": "center",
          "xref": "paper",
          "y": 0.44,
          "yanchor": "bottom",
          "yref": "paper"
         },
         {
          "font": {
           "size": 9
          },
          "showarrow": false,
          "text": "FNR",
          "x": 0.37124999999999997,
          "xanchor": "center",
          "xref": "paper",
          "y": 0.44,
          "yanchor": "bottom",
          "yref": "paper"
         },
         {
          "font": {
           "size": 9
          },
          "showarrow": false,
          "text": "MCC",
          "x": 0.62875,
          "xanchor": "center",
          "xref": "paper",
          "y": 0.44,
          "yanchor": "bottom",
          "yref": "paper"
         },
         {
          "font": {
           "size": 9
          },
          "showarrow": false,
          "text": "AUC",
          "x": 0.88625,
          "xanchor": "center",
          "xref": "paper",
          "y": 0.44,
          "yanchor": "bottom",
          "yref": "paper"
         }
        ],
        "font": {
         "size": 8
        },
        "height": 300,
        "margin": {
         "b": 10,
         "l": 10,
         "r": 10,
         "t": 40
        },
        "showlegend": false,
        "template": {
         "data": {
          "bar": [
           {
            "error_x": {
             "color": "#2a3f5f"
            },
            "error_y": {
             "color": "#2a3f5f"
            },
            "marker": {
             "line": {
              "color": "#E5ECF6",
              "width": 0.5
             },
             "pattern": {
              "fillmode": "overlay",
              "size": 10,
              "solidity": 0.2
             }
            },
            "type": "bar"
           }
          ],
          "barpolar": [
           {
            "marker": {
             "line": {
              "color": "#E5ECF6",
              "width": 0.5
             },
             "pattern": {
              "fillmode": "overlay",
              "size": 10,
              "solidity": 0.2
             }
            },
            "type": "barpolar"
           }
          ],
          "carpet": [
           {
            "aaxis": {
             "endlinecolor": "#2a3f5f",
             "gridcolor": "white",
             "linecolor": "white",
             "minorgridcolor": "white",
             "startlinecolor": "#2a3f5f"
            },
            "baxis": {
             "endlinecolor": "#2a3f5f",
             "gridcolor": "white",
             "linecolor": "white",
             "minorgridcolor": "white",
             "startlinecolor": "#2a3f5f"
            },
            "type": "carpet"
           }
          ],
          "choropleth": [
           {
            "colorbar": {
             "outlinewidth": 0,
             "ticks": ""
            },
            "type": "choropleth"
           }
          ],
          "contour": [
           {
            "colorbar": {
             "outlinewidth": 0,
             "ticks": ""
            },
            "colorscale": [
             [
              0,
              "#0d0887"
             ],
             [
              0.1111111111111111,
              "#46039f"
             ],
             [
              0.2222222222222222,
              "#7201a8"
             ],
             [
              0.3333333333333333,
              "#9c179e"
             ],
             [
              0.4444444444444444,
              "#bd3786"
             ],
             [
              0.5555555555555556,
              "#d8576b"
             ],
             [
              0.6666666666666666,
              "#ed7953"
             ],
             [
              0.7777777777777778,
              "#fb9f3a"
             ],
             [
              0.8888888888888888,
              "#fdca26"
             ],
             [
              1,
              "#f0f921"
             ]
            ],
            "type": "contour"
           }
          ],
          "contourcarpet": [
           {
            "colorbar": {
             "outlinewidth": 0,
             "ticks": ""
            },
            "type": "contourcarpet"
           }
          ],
          "heatmap": [
           {
            "colorbar": {
             "outlinewidth": 0,
             "ticks": ""
            },
            "colorscale": [
             [
              0,
              "#0d0887"
             ],
             [
              0.1111111111111111,
              "#46039f"
             ],
             [
              0.2222222222222222,
              "#7201a8"
             ],
             [
              0.3333333333333333,
              "#9c179e"
             ],
             [
              0.4444444444444444,
              "#bd3786"
             ],
             [
              0.5555555555555556,
              "#d8576b"
             ],
             [
              0.6666666666666666,
              "#ed7953"
             ],
             [
              0.7777777777777778,
              "#fb9f3a"
             ],
             [
              0.8888888888888888,
              "#fdca26"
             ],
             [
              1,
              "#f0f921"
             ]
            ],
            "type": "heatmap"
           }
          ],
          "heatmapgl": [
           {
            "colorbar": {
             "outlinewidth": 0,
             "ticks": ""
            },
            "colorscale": [
             [
              0,
              "#0d0887"
             ],
             [
              0.1111111111111111,
              "#46039f"
             ],
             [
              0.2222222222222222,
              "#7201a8"
             ],
             [
              0.3333333333333333,
              "#9c179e"
             ],
             [
              0.4444444444444444,
              "#bd3786"
             ],
             [
              0.5555555555555556,
              "#d8576b"
             ],
             [
              0.6666666666666666,
              "#ed7953"
             ],
             [
              0.7777777777777778,
              "#fb9f3a"
             ],
             [
              0.8888888888888888,
              "#fdca26"
             ],
             [
              1,
              "#f0f921"
             ]
            ],
            "type": "heatmapgl"
           }
          ],
          "histogram": [
           {
            "marker": {
             "pattern": {
              "fillmode": "overlay",
              "size": 10,
              "solidity": 0.2
             }
            },
            "type": "histogram"
           }
          ],
          "histogram2d": [
           {
            "colorbar": {
             "outlinewidth": 0,
             "ticks": ""
            },
            "colorscale": [
             [
              0,
              "#0d0887"
             ],
             [
              0.1111111111111111,
              "#46039f"
             ],
             [
              0.2222222222222222,
              "#7201a8"
             ],
             [
              0.3333333333333333,
              "#9c179e"
             ],
             [
              0.4444444444444444,
              "#bd3786"
             ],
             [
              0.5555555555555556,
              "#d8576b"
             ],
             [
              0.6666666666666666,
              "#ed7953"
             ],
             [
              0.7777777777777778,
              "#fb9f3a"
             ],
             [
              0.8888888888888888,
              "#fdca26"
             ],
             [
              1,
              "#f0f921"
             ]
            ],
            "type": "histogram2d"
           }
          ],
          "histogram2dcontour": [
           {
            "colorbar": {
             "outlinewidth": 0,
             "ticks": ""
            },
            "colorscale": [
             [
              0,
              "#0d0887"
             ],
             [
              0.1111111111111111,
              "#46039f"
             ],
             [
              0.2222222222222222,
              "#7201a8"
             ],
             [
              0.3333333333333333,
              "#9c179e"
             ],
             [
              0.4444444444444444,
              "#bd3786"
             ],
             [
              0.5555555555555556,
              "#d8576b"
             ],
             [
              0.6666666666666666,
              "#ed7953"
             ],
             [
              0.7777777777777778,
              "#fb9f3a"
             ],
             [
              0.8888888888888888,
              "#fdca26"
             ],
             [
              1,
              "#f0f921"
             ]
            ],
            "type": "histogram2dcontour"
           }
          ],
          "mesh3d": [
           {
            "colorbar": {
             "outlinewidth": 0,
             "ticks": ""
            },
            "type": "mesh3d"
           }
          ],
          "parcoords": [
           {
            "line": {
             "colorbar": {
              "outlinewidth": 0,
              "ticks": ""
             }
            },
            "type": "parcoords"
           }
          ],
          "pie": [
           {
            "automargin": true,
            "type": "pie"
           }
          ],
          "scatter": [
           {
            "fillpattern": {
             "fillmode": "overlay",
             "size": 10,
             "solidity": 0.2
            },
            "type": "scatter"
           }
          ],
          "scatter3d": [
           {
            "line": {
             "colorbar": {
              "outlinewidth": 0,
              "ticks": ""
             }
            },
            "marker": {
             "colorbar": {
              "outlinewidth": 0,
              "ticks": ""
             }
            },
            "type": "scatter3d"
           }
          ],
          "scattercarpet": [
           {
            "marker": {
             "colorbar": {
              "outlinewidth": 0,
              "ticks": ""
             }
            },
            "type": "scattercarpet"
           }
          ],
          "scattergeo": [
           {
            "marker": {
             "colorbar": {
              "outlinewidth": 0,
              "ticks": ""
             }
            },
            "type": "scattergeo"
           }
          ],
          "scattergl": [
           {
            "marker": {
             "colorbar": {
              "outlinewidth": 0,
              "ticks": ""
             }
            },
            "type": "scattergl"
           }
          ],
          "scattermapbox": [
           {
            "marker": {
             "colorbar": {
              "outlinewidth": 0,
              "ticks": ""
             }
            },
            "type": "scattermapbox"
           }
          ],
          "scatterpolar": [
           {
            "marker": {
             "colorbar": {
              "outlinewidth": 0,
              "ticks": ""
             }
            },
            "type": "scatterpolar"
           }
          ],
          "scatterpolargl": [
           {
            "marker": {
             "colorbar": {
              "outlinewidth": 0,
              "ticks": ""
             }
            },
            "type": "scatterpolargl"
           }
          ],
          "scatterternary": [
           {
            "marker": {
             "colorbar": {
              "outlinewidth": 0,
              "ticks": ""
             }
            },
            "type": "scatterternary"
           }
          ],
          "surface": [
           {
            "colorbar": {
             "outlinewidth": 0,
             "ticks": ""
            },
            "colorscale": [
             [
              0,
              "#0d0887"
             ],
             [
              0.1111111111111111,
              "#46039f"
             ],
             [
              0.2222222222222222,
              "#7201a8"
             ],
             [
              0.3333333333333333,
              "#9c179e"
             ],
             [
              0.4444444444444444,
              "#bd3786"
             ],
             [
              0.5555555555555556,
              "#d8576b"
             ],
             [
              0.6666666666666666,
              "#ed7953"
             ],
             [
              0.7777777777777778,
              "#fb9f3a"
             ],
             [
              0.8888888888888888,
              "#fdca26"
             ],
             [
              1,
              "#f0f921"
             ]
            ],
            "type": "surface"
           }
          ],
          "table": [
           {
            "cells": {
             "fill": {
              "color": "#EBF0F8"
             },
             "line": {
              "color": "white"
             }
            },
            "header": {
             "fill": {
              "color": "#C8D4E3"
             },
             "line": {
              "color": "white"
             }
            },
            "type": "table"
           }
          ]
         },
         "layout": {
          "annotationdefaults": {
           "arrowcolor": "#2a3f5f",
           "arrowhead": 0,
           "arrowwidth": 1
          },
          "autotypenumbers": "strict",
          "coloraxis": {
           "colorbar": {
            "outlinewidth": 0,
            "ticks": ""
           }
          },
          "colorscale": {
           "diverging": [
            [
             0,
             "#8e0152"
            ],
            [
             0.1,
             "#c51b7d"
            ],
            [
             0.2,
             "#de77ae"
            ],
            [
             0.3,
             "#f1b6da"
            ],
            [
             0.4,
             "#fde0ef"
            ],
            [
             0.5,
             "#f7f7f7"
            ],
            [
             0.6,
             "#e6f5d0"
            ],
            [
             0.7,
             "#b8e186"
            ],
            [
             0.8,
             "#7fbc41"
            ],
            [
             0.9,
             "#4d9221"
            ],
            [
             1,
             "#276419"
            ]
           ],
           "sequential": [
            [
             0,
             "#0d0887"
            ],
            [
             0.1111111111111111,
             "#46039f"
            ],
            [
             0.2222222222222222,
             "#7201a8"
            ],
            [
             0.3333333333333333,
             "#9c179e"
            ],
            [
             0.4444444444444444,
             "#bd3786"
            ],
            [
             0.5555555555555556,
             "#d8576b"
            ],
            [
             0.6666666666666666,
             "#ed7953"
            ],
            [
             0.7777777777777778,
             "#fb9f3a"
            ],
            [
             0.8888888888888888,
             "#fdca26"
            ],
            [
             1,
             "#f0f921"
            ]
           ],
           "sequentialminus": [
            [
             0,
             "#0d0887"
            ],
            [
             0.1111111111111111,
             "#46039f"
            ],
            [
             0.2222222222222222,
             "#7201a8"
            ],
            [
             0.3333333333333333,
             "#9c179e"
            ],
            [
             0.4444444444444444,
             "#bd3786"
            ],
            [
             0.5555555555555556,
             "#d8576b"
            ],
            [
             0.6666666666666666,
             "#ed7953"
            ],
            [
             0.7777777777777778,
             "#fb9f3a"
            ],
            [
             0.8888888888888888,
             "#fdca26"
            ],
            [
             1,
             "#f0f921"
            ]
           ]
          },
          "colorway": [
           "#636efa",
           "#EF553B",
           "#00cc96",
           "#ab63fa",
           "#FFA15A",
           "#19d3f3",
           "#FF6692",
           "#B6E880",
           "#FF97FF",
           "#FECB52"
          ],
          "font": {
           "color": "#2a3f5f"
          },
          "geo": {
           "bgcolor": "white",
           "lakecolor": "white",
           "landcolor": "#E5ECF6",
           "showlakes": true,
           "showland": true,
           "subunitcolor": "white"
          },
          "hoverlabel": {
           "align": "left"
          },
          "hovermode": "closest",
          "mapbox": {
           "style": "light"
          },
          "paper_bgcolor": "white",
          "plot_bgcolor": "#E5ECF6",
          "polar": {
           "angularaxis": {
            "gridcolor": "white",
            "linecolor": "white",
            "ticks": ""
           },
           "bgcolor": "#E5ECF6",
           "radialaxis": {
            "gridcolor": "white",
            "linecolor": "white",
            "ticks": ""
           }
          },
          "scene": {
           "xaxis": {
            "backgroundcolor": "#E5ECF6",
            "gridcolor": "white",
            "gridwidth": 2,
            "linecolor": "white",
            "showbackground": true,
            "ticks": "",
            "zerolinecolor": "white"
           },
           "yaxis": {
            "backgroundcolor": "#E5ECF6",
            "gridcolor": "white",
            "gridwidth": 2,
            "linecolor": "white",
            "showbackground": true,
            "ticks": "",
            "zerolinecolor": "white"
           },
           "zaxis": {
            "backgroundcolor": "#E5ECF6",
            "gridcolor": "white",
            "gridwidth": 2,
            "linecolor": "white",
            "showbackground": true,
            "ticks": "",
            "zerolinecolor": "white"
           }
          },
          "shapedefaults": {
           "line": {
            "color": "#2a3f5f"
           }
          },
          "ternary": {
           "aaxis": {
            "gridcolor": "white",
            "linecolor": "white",
            "ticks": ""
           },
           "baxis": {
            "gridcolor": "white",
            "linecolor": "white",
            "ticks": ""
           },
           "bgcolor": "#E5ECF6",
           "caxis": {
            "gridcolor": "white",
            "linecolor": "white",
            "ticks": ""
           }
          },
          "title": {
           "x": 0.05
          },
          "xaxis": {
           "automargin": true,
           "gridcolor": "white",
           "linecolor": "white",
           "ticks": "",
           "title": {
            "standoff": 15
           },
           "zerolinecolor": "white",
           "zerolinewidth": 2
          },
          "yaxis": {
           "automargin": true,
           "gridcolor": "white",
           "linecolor": "white",
           "ticks": "",
           "title": {
            "standoff": 15
           },
           "zerolinecolor": "white",
           "zerolinewidth": 2
          }
         }
        },
        "title": {
         "text": "Varying the ratio of Adversarial to Non-Adversarial Samples during Evaluation for CIC-IoV-2024 (X-axis: Adversarial:Non-Adversarial Ratio, Y-axis: Metric Value)",
         "x": 0.5,
         "xanchor": "center"
        },
        "width": 950,
        "xaxis": {
         "anchor": "y",
         "domain": [
          0,
          0.2275
         ],
         "dtick": 0.1,
         "linecolor": "pink",
         "linewidth": 0.5,
         "mirror": true,
         "tickfont": {
          "size": 5
         },
         "ticklabelposition": "outside",
         "ticklabelstandoff": 2
        },
        "xaxis2": {
         "anchor": "y2",
         "domain": [
          0.2575,
          0.485
         ],
         "dtick": 0.1,
         "linecolor": "pink",
         "linewidth": 0.5,
         "mirror": true,
         "tickfont": {
          "size": 5
         },
         "ticklabelposition": "outside",
         "ticklabelstandoff": 2
        },
        "xaxis3": {
         "anchor": "y3",
         "domain": [
          0.515,
          0.7425
         ],
         "dtick": 0.1,
         "linecolor": "pink",
         "linewidth": 0.5,
         "mirror": true,
         "tickfont": {
          "size": 5
         },
         "ticklabelposition": "outside",
         "ticklabelstandoff": 2
        },
        "xaxis4": {
         "anchor": "y4",
         "domain": [
          0.7725,
          1
         ],
         "dtick": 0.1,
         "linecolor": "pink",
         "linewidth": 0.5,
         "mirror": true,
         "tickfont": {
          "size": 5
         },
         "ticklabelposition": "outside",
         "ticklabelstandoff": 2
        },
        "xaxis5": {
         "anchor": "y5",
         "domain": [
          0,
          0.2275
         ],
         "dtick": 0.1,
         "linecolor": "pink",
         "linewidth": 0.5,
         "mirror": true,
         "tickfont": {
          "size": 5
         },
         "ticklabelposition": "outside",
         "ticklabelstandoff": 2
        },
        "xaxis6": {
         "anchor": "y6",
         "domain": [
          0.2575,
          0.485
         ],
         "dtick": 0.1,
         "linecolor": "pink",
         "linewidth": 0.5,
         "mirror": true,
         "tickfont": {
          "size": 5
         },
         "ticklabelposition": "outside",
         "ticklabelstandoff": 2
        },
        "xaxis7": {
         "anchor": "y7",
         "domain": [
          0.515,
          0.7425
         ],
         "dtick": 0.1,
         "linecolor": "pink",
         "linewidth": 0.5,
         "mirror": true,
         "tickfont": {
          "size": 5
         },
         "ticklabelposition": "outside",
         "ticklabelstandoff": 2
        },
        "xaxis8": {
         "anchor": "y8",
         "domain": [
          0.7725,
          1
         ],
         "dtick": 0.1,
         "linecolor": "pink",
         "linewidth": 0.5,
         "mirror": true,
         "tickfont": {
          "size": 5
         },
         "ticklabelposition": "outside",
         "ticklabelstandoff": 2
        },
        "yaxis": {
         "anchor": "x",
         "domain": [
          0.56,
          1
         ],
         "dtick": 0.25,
         "linecolor": "pink",
         "linewidth": 0.5,
         "mirror": true,
         "range": [
          0,
          1.05
         ],
         "tickfont": {
          "size": 5
         },
         "ticklabelposition": "outside",
         "ticklabelstandoff": 2,
         "zeroline": true
        },
        "yaxis2": {
         "anchor": "x2",
         "domain": [
          0.56,
          1
         ],
         "dtick": 0.25,
         "linecolor": "pink",
         "linewidth": 0.5,
         "mirror": true,
         "range": [
          0,
          1.05
         ],
         "tickfont": {
          "size": 5
         },
         "ticklabelposition": "outside",
         "ticklabelstandoff": 2,
         "zeroline": true
        },
        "yaxis3": {
         "anchor": "x3",
         "domain": [
          0.56,
          1
         ],
         "dtick": 0.25,
         "linecolor": "pink",
         "linewidth": 0.5,
         "mirror": true,
         "range": [
          0,
          1.05
         ],
         "tickfont": {
          "size": 5
         },
         "ticklabelposition": "outside",
         "ticklabelstandoff": 2,
         "zeroline": true
        },
        "yaxis4": {
         "anchor": "x4",
         "domain": [
          0.56,
          1
         ],
         "dtick": 0.25,
         "linecolor": "pink",
         "linewidth": 0.5,
         "mirror": true,
         "range": [
          0,
          1.05
         ],
         "tickfont": {
          "size": 5
         },
         "ticklabelposition": "outside",
         "ticklabelstandoff": 2,
         "zeroline": true
        },
        "yaxis5": {
         "anchor": "x5",
         "domain": [
          0,
          0.44
         ],
         "dtick": 0.25,
         "linecolor": "pink",
         "linewidth": 0.5,
         "mirror": true,
         "range": [
          -0.05,
          1
         ],
         "tickfont": {
          "size": 5
         },
         "ticklabelposition": "outside",
         "ticklabelstandoff": 2,
         "zeroline": false
        },
        "yaxis6": {
         "anchor": "x6",
         "domain": [
          0,
          0.44
         ],
         "dtick": 0.25,
         "linecolor": "pink",
         "linewidth": 0.5,
         "mirror": true,
         "range": [
          -0.05,
          1
         ],
         "tickfont": {
          "size": 5
         },
         "ticklabelposition": "outside",
         "ticklabelstandoff": 2,
         "zeroline": false
        },
        "yaxis7": {
         "anchor": "x7",
         "domain": [
          0,
          0.44
         ],
         "dtick": 0.5,
         "linecolor": "pink",
         "linewidth": 0.5,
         "mirror": true,
         "range": [
          -1,
          1.1
         ],
         "tickfont": {
          "size": 5
         },
         "ticklabelposition": "outside",
         "ticklabelstandoff": 2,
         "zeroline": false
        },
        "yaxis8": {
         "anchor": "x8",
         "domain": [
          0,
          0.44
         ],
         "dtick": 0.25,
         "linecolor": "pink",
         "linewidth": 0.5,
         "mirror": true,
         "range": [
          0,
          1.05
         ],
         "tickfont": {
          "size": 5
         },
         "ticklabelposition": "outside",
         "ticklabelstandoff": 2,
         "zeroline": true
        }
       }
      },
      "text/html": [
       "<div>                            <div id=\"403cc18a-688a-4c82-9f95-5559299668c2\" class=\"plotly-graph-div\" style=\"height:300px; width:950px;\"></div>            <script type=\"text/javascript\">                require([\"plotly\"], function(Plotly) {                    window.PLOTLYENV=window.PLOTLYENV || {};                                    if (document.getElementById(\"403cc18a-688a-4c82-9f95-5559299668c2\")) {                    Plotly.newPlot(                        \"403cc18a-688a-4c82-9f95-5559299668c2\",                        [{\"mode\":\"lines+markers\",\"name\":\"F1-Score\",\"x\":[\"0:100\",\"1:99\",\"2:98\",\"3:97\",\"4:96\",\"5:95\",\"6:94\",\"7:93\",\"8:92\",\"9:91\",\"10:90\"],\"y\":[1.0,1.0,1.0,1.0,1.0,1.0,1.0,1.0,1.0,1.0,1.0],\"type\":\"scatter\",\"xaxis\":\"x\",\"yaxis\":\"y\"},{\"mode\":\"lines+markers\",\"name\":\"Precision\",\"x\":[\"0:100\",\"1:99\",\"2:98\",\"3:97\",\"4:96\",\"5:95\",\"6:94\",\"7:93\",\"8:92\",\"9:91\",\"10:90\"],\"y\":[1.0,1.0,1.0,1.0,1.0,1.0,1.0,1.0,1.0,1.0,1.0],\"type\":\"scatter\",\"xaxis\":\"x2\",\"yaxis\":\"y2\"},{\"mode\":\"lines+markers\",\"name\":\"Recall\",\"x\":[\"0:100\",\"1:99\",\"2:98\",\"3:97\",\"4:96\",\"5:95\",\"6:94\",\"7:93\",\"8:92\",\"9:91\",\"10:90\"],\"y\":[1.0,1.0,1.0,1.0,1.0,1.0,1.0,1.0,1.0,1.0,1.0],\"type\":\"scatter\",\"xaxis\":\"x3\",\"yaxis\":\"y3\"},{\"mode\":\"lines+markers\",\"name\":\"Accuracy\",\"x\":[\"0:100\",\"1:99\",\"2:98\",\"3:97\",\"4:96\",\"5:95\",\"6:94\",\"7:93\",\"8:92\",\"9:91\",\"10:90\"],\"y\":[1.0,1.0,1.0,1.0,1.0,1.0,1.0,1.0,1.0,1.0,1.0],\"type\":\"scatter\",\"xaxis\":\"x4\",\"yaxis\":\"y4\"},{\"mode\":\"lines+markers\",\"name\":\"FPR\",\"x\":[\"0:100\",\"1:99\",\"2:98\",\"3:97\",\"4:96\",\"5:95\",\"6:94\",\"7:93\",\"8:92\",\"9:91\",\"10:90\"],\"y\":[0.0,0.0,0.0,0.0,0.0,0.0,0.0,0.0,0.0,0.0,0.0],\"type\":\"scatter\",\"xaxis\":\"x5\",\"yaxis\":\"y5\"},{\"mode\":\"lines+markers\",\"name\":\"FNR\",\"x\":[\"0:100\",\"1:99\",\"2:98\",\"3:97\",\"4:96\",\"5:95\",\"6:94\",\"7:93\",\"8:92\",\"9:91\",\"10:90\"],\"y\":[0.0,0.0,0.0,0.0,0.0,0.0,0.0,0.0,0.0,0.0,0.0],\"type\":\"scatter\",\"xaxis\":\"x6\",\"yaxis\":\"y6\"},{\"mode\":\"lines+markers\",\"name\":\"MCC\",\"x\":[\"0:100\",\"1:99\",\"2:98\",\"3:97\",\"4:96\",\"5:95\",\"6:94\",\"7:93\",\"8:92\",\"9:91\",\"10:90\"],\"y\":[1.0,1.0,1.0,1.0,1.0,1.0,1.0,1.0,1.0,1.0,1.0],\"type\":\"scatter\",\"xaxis\":\"x7\",\"yaxis\":\"y7\"},{\"mode\":\"lines+markers\",\"name\":\"AUC\",\"x\":[\"0:100\",\"1:99\",\"2:98\",\"3:97\",\"4:96\",\"5:95\",\"6:94\",\"7:93\",\"8:92\",\"9:91\",\"10:90\"],\"y\":[1.0,1.0,1.0,1.0,1.0,1.0,1.0,1.0,1.0,1.0,1.0],\"type\":\"scatter\",\"xaxis\":\"x8\",\"yaxis\":\"y8\"}],                        {\"template\":{\"data\":{\"histogram2dcontour\":[{\"type\":\"histogram2dcontour\",\"colorbar\":{\"outlinewidth\":0,\"ticks\":\"\"},\"colorscale\":[[0.0,\"#0d0887\"],[0.1111111111111111,\"#46039f\"],[0.2222222222222222,\"#7201a8\"],[0.3333333333333333,\"#9c179e\"],[0.4444444444444444,\"#bd3786\"],[0.5555555555555556,\"#d8576b\"],[0.6666666666666666,\"#ed7953\"],[0.7777777777777778,\"#fb9f3a\"],[0.8888888888888888,\"#fdca26\"],[1.0,\"#f0f921\"]]}],\"choropleth\":[{\"type\":\"choropleth\",\"colorbar\":{\"outlinewidth\":0,\"ticks\":\"\"}}],\"histogram2d\":[{\"type\":\"histogram2d\",\"colorbar\":{\"outlinewidth\":0,\"ticks\":\"\"},\"colorscale\":[[0.0,\"#0d0887\"],[0.1111111111111111,\"#46039f\"],[0.2222222222222222,\"#7201a8\"],[0.3333333333333333,\"#9c179e\"],[0.4444444444444444,\"#bd3786\"],[0.5555555555555556,\"#d8576b\"],[0.6666666666666666,\"#ed7953\"],[0.7777777777777778,\"#fb9f3a\"],[0.8888888888888888,\"#fdca26\"],[1.0,\"#f0f921\"]]}],\"heatmap\":[{\"type\":\"heatmap\",\"colorbar\":{\"outlinewidth\":0,\"ticks\":\"\"},\"colorscale\":[[0.0,\"#0d0887\"],[0.1111111111111111,\"#46039f\"],[0.2222222222222222,\"#7201a8\"],[0.3333333333333333,\"#9c179e\"],[0.4444444444444444,\"#bd3786\"],[0.5555555555555556,\"#d8576b\"],[0.6666666666666666,\"#ed7953\"],[0.7777777777777778,\"#fb9f3a\"],[0.8888888888888888,\"#fdca26\"],[1.0,\"#f0f921\"]]}],\"heatmapgl\":[{\"type\":\"heatmapgl\",\"colorbar\":{\"outlinewidth\":0,\"ticks\":\"\"},\"colorscale\":[[0.0,\"#0d0887\"],[0.1111111111111111,\"#46039f\"],[0.2222222222222222,\"#7201a8\"],[0.3333333333333333,\"#9c179e\"],[0.4444444444444444,\"#bd3786\"],[0.5555555555555556,\"#d8576b\"],[0.6666666666666666,\"#ed7953\"],[0.7777777777777778,\"#fb9f3a\"],[0.8888888888888888,\"#fdca26\"],[1.0,\"#f0f921\"]]}],\"contourcarpet\":[{\"type\":\"contourcarpet\",\"colorbar\":{\"outlinewidth\":0,\"ticks\":\"\"}}],\"contour\":[{\"type\":\"contour\",\"colorbar\":{\"outlinewidth\":0,\"ticks\":\"\"},\"colorscale\":[[0.0,\"#0d0887\"],[0.1111111111111111,\"#46039f\"],[0.2222222222222222,\"#7201a8\"],[0.3333333333333333,\"#9c179e\"],[0.4444444444444444,\"#bd3786\"],[0.5555555555555556,\"#d8576b\"],[0.6666666666666666,\"#ed7953\"],[0.7777777777777778,\"#fb9f3a\"],[0.8888888888888888,\"#fdca26\"],[1.0,\"#f0f921\"]]}],\"surface\":[{\"type\":\"surface\",\"colorbar\":{\"outlinewidth\":0,\"ticks\":\"\"},\"colorscale\":[[0.0,\"#0d0887\"],[0.1111111111111111,\"#46039f\"],[0.2222222222222222,\"#7201a8\"],[0.3333333333333333,\"#9c179e\"],[0.4444444444444444,\"#bd3786\"],[0.5555555555555556,\"#d8576b\"],[0.6666666666666666,\"#ed7953\"],[0.7777777777777778,\"#fb9f3a\"],[0.8888888888888888,\"#fdca26\"],[1.0,\"#f0f921\"]]}],\"mesh3d\":[{\"type\":\"mesh3d\",\"colorbar\":{\"outlinewidth\":0,\"ticks\":\"\"}}],\"scatter\":[{\"fillpattern\":{\"fillmode\":\"overlay\",\"size\":10,\"solidity\":0.2},\"type\":\"scatter\"}],\"parcoords\":[{\"type\":\"parcoords\",\"line\":{\"colorbar\":{\"outlinewidth\":0,\"ticks\":\"\"}}}],\"scatterpolargl\":[{\"type\":\"scatterpolargl\",\"marker\":{\"colorbar\":{\"outlinewidth\":0,\"ticks\":\"\"}}}],\"bar\":[{\"error_x\":{\"color\":\"#2a3f5f\"},\"error_y\":{\"color\":\"#2a3f5f\"},\"marker\":{\"line\":{\"color\":\"#E5ECF6\",\"width\":0.5},\"pattern\":{\"fillmode\":\"overlay\",\"size\":10,\"solidity\":0.2}},\"type\":\"bar\"}],\"scattergeo\":[{\"type\":\"scattergeo\",\"marker\":{\"colorbar\":{\"outlinewidth\":0,\"ticks\":\"\"}}}],\"scatterpolar\":[{\"type\":\"scatterpolar\",\"marker\":{\"colorbar\":{\"outlinewidth\":0,\"ticks\":\"\"}}}],\"histogram\":[{\"marker\":{\"pattern\":{\"fillmode\":\"overlay\",\"size\":10,\"solidity\":0.2}},\"type\":\"histogram\"}],\"scattergl\":[{\"type\":\"scattergl\",\"marker\":{\"colorbar\":{\"outlinewidth\":0,\"ticks\":\"\"}}}],\"scatter3d\":[{\"type\":\"scatter3d\",\"line\":{\"colorbar\":{\"outlinewidth\":0,\"ticks\":\"\"}},\"marker\":{\"colorbar\":{\"outlinewidth\":0,\"ticks\":\"\"}}}],\"scattermapbox\":[{\"type\":\"scattermapbox\",\"marker\":{\"colorbar\":{\"outlinewidth\":0,\"ticks\":\"\"}}}],\"scatterternary\":[{\"type\":\"scatterternary\",\"marker\":{\"colorbar\":{\"outlinewidth\":0,\"ticks\":\"\"}}}],\"scattercarpet\":[{\"type\":\"scattercarpet\",\"marker\":{\"colorbar\":{\"outlinewidth\":0,\"ticks\":\"\"}}}],\"carpet\":[{\"aaxis\":{\"endlinecolor\":\"#2a3f5f\",\"gridcolor\":\"white\",\"linecolor\":\"white\",\"minorgridcolor\":\"white\",\"startlinecolor\":\"#2a3f5f\"},\"baxis\":{\"endlinecolor\":\"#2a3f5f\",\"gridcolor\":\"white\",\"linecolor\":\"white\",\"minorgridcolor\":\"white\",\"startlinecolor\":\"#2a3f5f\"},\"type\":\"carpet\"}],\"table\":[{\"cells\":{\"fill\":{\"color\":\"#EBF0F8\"},\"line\":{\"color\":\"white\"}},\"header\":{\"fill\":{\"color\":\"#C8D4E3\"},\"line\":{\"color\":\"white\"}},\"type\":\"table\"}],\"barpolar\":[{\"marker\":{\"line\":{\"color\":\"#E5ECF6\",\"width\":0.5},\"pattern\":{\"fillmode\":\"overlay\",\"size\":10,\"solidity\":0.2}},\"type\":\"barpolar\"}],\"pie\":[{\"automargin\":true,\"type\":\"pie\"}]},\"layout\":{\"autotypenumbers\":\"strict\",\"colorway\":[\"#636efa\",\"#EF553B\",\"#00cc96\",\"#ab63fa\",\"#FFA15A\",\"#19d3f3\",\"#FF6692\",\"#B6E880\",\"#FF97FF\",\"#FECB52\"],\"font\":{\"color\":\"#2a3f5f\"},\"hovermode\":\"closest\",\"hoverlabel\":{\"align\":\"left\"},\"paper_bgcolor\":\"white\",\"plot_bgcolor\":\"#E5ECF6\",\"polar\":{\"bgcolor\":\"#E5ECF6\",\"angularaxis\":{\"gridcolor\":\"white\",\"linecolor\":\"white\",\"ticks\":\"\"},\"radialaxis\":{\"gridcolor\":\"white\",\"linecolor\":\"white\",\"ticks\":\"\"}},\"ternary\":{\"bgcolor\":\"#E5ECF6\",\"aaxis\":{\"gridcolor\":\"white\",\"linecolor\":\"white\",\"ticks\":\"\"},\"baxis\":{\"gridcolor\":\"white\",\"linecolor\":\"white\",\"ticks\":\"\"},\"caxis\":{\"gridcolor\":\"white\",\"linecolor\":\"white\",\"ticks\":\"\"}},\"coloraxis\":{\"colorbar\":{\"outlinewidth\":0,\"ticks\":\"\"}},\"colorscale\":{\"sequential\":[[0.0,\"#0d0887\"],[0.1111111111111111,\"#46039f\"],[0.2222222222222222,\"#7201a8\"],[0.3333333333333333,\"#9c179e\"],[0.4444444444444444,\"#bd3786\"],[0.5555555555555556,\"#d8576b\"],[0.6666666666666666,\"#ed7953\"],[0.7777777777777778,\"#fb9f3a\"],[0.8888888888888888,\"#fdca26\"],[1.0,\"#f0f921\"]],\"sequentialminus\":[[0.0,\"#0d0887\"],[0.1111111111111111,\"#46039f\"],[0.2222222222222222,\"#7201a8\"],[0.3333333333333333,\"#9c179e\"],[0.4444444444444444,\"#bd3786\"],[0.5555555555555556,\"#d8576b\"],[0.6666666666666666,\"#ed7953\"],[0.7777777777777778,\"#fb9f3a\"],[0.8888888888888888,\"#fdca26\"],[1.0,\"#f0f921\"]],\"diverging\":[[0,\"#8e0152\"],[0.1,\"#c51b7d\"],[0.2,\"#de77ae\"],[0.3,\"#f1b6da\"],[0.4,\"#fde0ef\"],[0.5,\"#f7f7f7\"],[0.6,\"#e6f5d0\"],[0.7,\"#b8e186\"],[0.8,\"#7fbc41\"],[0.9,\"#4d9221\"],[1,\"#276419\"]]},\"xaxis\":{\"gridcolor\":\"white\",\"linecolor\":\"white\",\"ticks\":\"\",\"title\":{\"standoff\":15},\"zerolinecolor\":\"white\",\"automargin\":true,\"zerolinewidth\":2},\"yaxis\":{\"gridcolor\":\"white\",\"linecolor\":\"white\",\"ticks\":\"\",\"title\":{\"standoff\":15},\"zerolinecolor\":\"white\",\"automargin\":true,\"zerolinewidth\":2},\"scene\":{\"xaxis\":{\"backgroundcolor\":\"#E5ECF6\",\"gridcolor\":\"white\",\"linecolor\":\"white\",\"showbackground\":true,\"ticks\":\"\",\"zerolinecolor\":\"white\",\"gridwidth\":2},\"yaxis\":{\"backgroundcolor\":\"#E5ECF6\",\"gridcolor\":\"white\",\"linecolor\":\"white\",\"showbackground\":true,\"ticks\":\"\",\"zerolinecolor\":\"white\",\"gridwidth\":2},\"zaxis\":{\"backgroundcolor\":\"#E5ECF6\",\"gridcolor\":\"white\",\"linecolor\":\"white\",\"showbackground\":true,\"ticks\":\"\",\"zerolinecolor\":\"white\",\"gridwidth\":2}},\"shapedefaults\":{\"line\":{\"color\":\"#2a3f5f\"}},\"annotationdefaults\":{\"arrowcolor\":\"#2a3f5f\",\"arrowhead\":0,\"arrowwidth\":1},\"geo\":{\"bgcolor\":\"white\",\"landcolor\":\"#E5ECF6\",\"subunitcolor\":\"white\",\"showland\":true,\"showlakes\":true,\"lakecolor\":\"white\"},\"title\":{\"x\":0.05},\"mapbox\":{\"style\":\"light\"}}},\"xaxis\":{\"anchor\":\"y\",\"domain\":[0.0,0.2275],\"tickfont\":{\"size\":5},\"linewidth\":0.5,\"linecolor\":\"pink\",\"mirror\":true,\"ticklabelposition\":\"outside\",\"ticklabelstandoff\":2,\"dtick\":0.1},\"yaxis\":{\"anchor\":\"x\",\"domain\":[0.56,1.0],\"range\":[0,1.05],\"zeroline\":true,\"dtick\":0.25,\"tickfont\":{\"size\":5},\"linewidth\":0.5,\"linecolor\":\"pink\",\"mirror\":true,\"ticklabelposition\":\"outside\",\"ticklabelstandoff\":2},\"xaxis2\":{\"anchor\":\"y2\",\"domain\":[0.2575,0.485],\"tickfont\":{\"size\":5},\"linewidth\":0.5,\"linecolor\":\"pink\",\"mirror\":true,\"ticklabelposition\":\"outside\",\"ticklabelstandoff\":2,\"dtick\":0.1},\"yaxis2\":{\"anchor\":\"x2\",\"domain\":[0.56,1.0],\"range\":[0,1.05],\"zeroline\":true,\"dtick\":0.25,\"tickfont\":{\"size\":5},\"linewidth\":0.5,\"linecolor\":\"pink\",\"mirror\":true,\"ticklabelposition\":\"outside\",\"ticklabelstandoff\":2},\"xaxis3\":{\"anchor\":\"y3\",\"domain\":[0.515,0.7425],\"tickfont\":{\"size\":5},\"linewidth\":0.5,\"linecolor\":\"pink\",\"mirror\":true,\"ticklabelposition\":\"outside\",\"ticklabelstandoff\":2,\"dtick\":0.1},\"yaxis3\":{\"anchor\":\"x3\",\"domain\":[0.56,1.0],\"range\":[0,1.05],\"zeroline\":true,\"dtick\":0.25,\"tickfont\":{\"size\":5},\"linewidth\":0.5,\"linecolor\":\"pink\",\"mirror\":true,\"ticklabelposition\":\"outside\",\"ticklabelstandoff\":2},\"xaxis4\":{\"anchor\":\"y4\",\"domain\":[0.7725,1.0],\"tickfont\":{\"size\":5},\"linewidth\":0.5,\"linecolor\":\"pink\",\"mirror\":true,\"ticklabelposition\":\"outside\",\"ticklabelstandoff\":2,\"dtick\":0.1},\"yaxis4\":{\"anchor\":\"x4\",\"domain\":[0.56,1.0],\"range\":[0,1.05],\"zeroline\":true,\"dtick\":0.25,\"tickfont\":{\"size\":5},\"linewidth\":0.5,\"linecolor\":\"pink\",\"mirror\":true,\"ticklabelposition\":\"outside\",\"ticklabelstandoff\":2},\"xaxis5\":{\"anchor\":\"y5\",\"domain\":[0.0,0.2275],\"tickfont\":{\"size\":5},\"linewidth\":0.5,\"linecolor\":\"pink\",\"mirror\":true,\"ticklabelposition\":\"outside\",\"ticklabelstandoff\":2,\"dtick\":0.1},\"yaxis5\":{\"anchor\":\"x5\",\"domain\":[0.0,0.44],\"range\":[-0.05,1],\"zeroline\":false,\"dtick\":0.25,\"tickfont\":{\"size\":5},\"linewidth\":0.5,\"linecolor\":\"pink\",\"mirror\":true,\"ticklabelposition\":\"outside\",\"ticklabelstandoff\":2},\"xaxis6\":{\"anchor\":\"y6\",\"domain\":[0.2575,0.485],\"tickfont\":{\"size\":5},\"linewidth\":0.5,\"linecolor\":\"pink\",\"mirror\":true,\"ticklabelposition\":\"outside\",\"ticklabelstandoff\":2,\"dtick\":0.1},\"yaxis6\":{\"anchor\":\"x6\",\"domain\":[0.0,0.44],\"range\":[-0.05,1],\"zeroline\":false,\"dtick\":0.25,\"tickfont\":{\"size\":5},\"linewidth\":0.5,\"linecolor\":\"pink\",\"mirror\":true,\"ticklabelposition\":\"outside\",\"ticklabelstandoff\":2},\"xaxis7\":{\"anchor\":\"y7\",\"domain\":[0.515,0.7425],\"tickfont\":{\"size\":5},\"linewidth\":0.5,\"linecolor\":\"pink\",\"mirror\":true,\"ticklabelposition\":\"outside\",\"ticklabelstandoff\":2,\"dtick\":0.1},\"yaxis7\":{\"anchor\":\"x7\",\"domain\":[0.0,0.44],\"range\":[-1,1.1],\"zeroline\":false,\"dtick\":0.5,\"tickfont\":{\"size\":5},\"linewidth\":0.5,\"linecolor\":\"pink\",\"mirror\":true,\"ticklabelposition\":\"outside\",\"ticklabelstandoff\":2},\"xaxis8\":{\"anchor\":\"y8\",\"domain\":[0.7725,1.0],\"tickfont\":{\"size\":5},\"linewidth\":0.5,\"linecolor\":\"pink\",\"mirror\":true,\"ticklabelposition\":\"outside\",\"ticklabelstandoff\":2,\"dtick\":0.1},\"yaxis8\":{\"anchor\":\"x8\",\"domain\":[0.0,0.44],\"range\":[0,1.05],\"zeroline\":true,\"dtick\":0.25,\"tickfont\":{\"size\":5},\"linewidth\":0.5,\"linecolor\":\"pink\",\"mirror\":true,\"ticklabelposition\":\"outside\",\"ticklabelstandoff\":2},\"annotations\":[{\"font\":{\"size\":9},\"showarrow\":false,\"text\":\"F1-Score\",\"x\":0.11375,\"xanchor\":\"center\",\"xref\":\"paper\",\"y\":1.0,\"yanchor\":\"bottom\",\"yref\":\"paper\"},{\"font\":{\"size\":9},\"showarrow\":false,\"text\":\"Precision\",\"x\":0.37124999999999997,\"xanchor\":\"center\",\"xref\":\"paper\",\"y\":1.0,\"yanchor\":\"bottom\",\"yref\":\"paper\"},{\"font\":{\"size\":9},\"showarrow\":false,\"text\":\"Recall\",\"x\":0.62875,\"xanchor\":\"center\",\"xref\":\"paper\",\"y\":1.0,\"yanchor\":\"bottom\",\"yref\":\"paper\"},{\"font\":{\"size\":9},\"showarrow\":false,\"text\":\"Accuracy\",\"x\":0.88625,\"xanchor\":\"center\",\"xref\":\"paper\",\"y\":1.0,\"yanchor\":\"bottom\",\"yref\":\"paper\"},{\"font\":{\"size\":9},\"showarrow\":false,\"text\":\"FPR\",\"x\":0.11375,\"xanchor\":\"center\",\"xref\":\"paper\",\"y\":0.44,\"yanchor\":\"bottom\",\"yref\":\"paper\"},{\"font\":{\"size\":9},\"showarrow\":false,\"text\":\"FNR\",\"x\":0.37124999999999997,\"xanchor\":\"center\",\"xref\":\"paper\",\"y\":0.44,\"yanchor\":\"bottom\",\"yref\":\"paper\"},{\"font\":{\"size\":9},\"showarrow\":false,\"text\":\"MCC\",\"x\":0.62875,\"xanchor\":\"center\",\"xref\":\"paper\",\"y\":0.44,\"yanchor\":\"bottom\",\"yref\":\"paper\"},{\"font\":{\"size\":9},\"showarrow\":false,\"text\":\"AUC\",\"x\":0.88625,\"xanchor\":\"center\",\"xref\":\"paper\",\"y\":0.44,\"yanchor\":\"bottom\",\"yref\":\"paper\"}],\"title\":{\"text\":\"Varying the ratio of Adversarial to Non-Adversarial Samples during Evaluation for CIC-IoV-2024 (X-axis: Adversarial:Non-Adversarial Ratio, Y-axis: Metric Value)\",\"x\":0.5,\"xanchor\":\"center\"},\"margin\":{\"l\":10,\"r\":10,\"t\":40,\"b\":10},\"font\":{\"size\":8},\"height\":300,\"width\":950,\"showlegend\":false},                        {\"responsive\": true}                    ).then(function(){\n",
       "                            \n",
       "var gd = document.getElementById('403cc18a-688a-4c82-9f95-5559299668c2');\n",
       "var x = new MutationObserver(function (mutations, observer) {{\n",
       "        var display = window.getComputedStyle(gd).display;\n",
       "        if (!display || display === 'none') {{\n",
       "            console.log([gd, 'removed!']);\n",
       "            Plotly.purge(gd);\n",
       "            observer.disconnect();\n",
       "        }}\n",
       "}});\n",
       "\n",
       "// Listen for the removal of the full notebook cells\n",
       "var notebookContainer = gd.closest('#notebook-container');\n",
       "if (notebookContainer) {{\n",
       "    x.observe(notebookContainer, {childList: true});\n",
       "}}\n",
       "\n",
       "// Listen for the clearing of the current output cell\n",
       "var outputEl = gd.closest('.output');\n",
       "if (outputEl) {{\n",
       "    x.observe(outputEl, {childList: true});\n",
       "}}\n",
       "\n",
       "                        })                };                });            </script>        </div>"
      ]
     },
     "metadata": {},
     "output_type": "display_data"
    }
   ],
   "source": [
    "# Creating subplots\n",
    "fig = make_subplots(\n",
    "    rows=2, cols=4, \n",
    "    subplot_titles=(\"F1-Score\", \"Precision\", \"Recall\", \"Accuracy\", \"FPR\", \"FNR\", \"MCC\", \"AUC\"),\n",
    "    horizontal_spacing=0.03, vertical_spacing=0.12\n",
    ")\n",
    "\n",
    "# Adding traces\n",
    "fig.add_trace(go.Scatter(x=ratio_labels, y=f1score_list, mode='lines+markers', name='F1-Score'), row=1, col=1)\n",
    "fig.add_trace(go.Scatter(x=ratio_labels, y=precision_list, mode='lines+markers', name='Precision'), row=1, col=2)\n",
    "fig.add_trace(go.Scatter(x=ratio_labels, y=recall_list, mode='lines+markers', name='Recall'), row=1, col=3)\n",
    "fig.add_trace(go.Scatter(x=ratio_labels, y=accuracy_list, mode='lines+markers', name='Accuracy'), row=1, col=4)\n",
    "fig.add_trace(go.Scatter(x=ratio_labels, y=fpr_list, mode='lines+markers', name='FPR'), row=2, col=1)\n",
    "fig.add_trace(go.Scatter(x=ratio_labels, y=fnr_list, mode='lines+markers', name='FNR'), row=2, col=2)\n",
    "fig.add_trace(go.Scatter(x=ratio_labels, y=mcc_list, mode='lines+markers', name='MCC'), row=2, col=3)\n",
    "fig.add_trace(go.Scatter(x=ratio_labels, y=auc_list, mode='lines+markers', name='AUC'), row=2, col=4)\n",
    "\n",
    "# Update layout\n",
    "fig.update_layout(\n",
    "    title={'text': f'Varying the ratio of Adversarial to Non-Adversarial Samples during Evaluation for {dataset_name} (X-axis: Adversarial:Non-Adversarial Ratio, Y-axis: Metric Value)', 'x': 0.5, 'xanchor': 'center'},\n",
    "    height=300, width=950,\n",
    "    showlegend=False,\n",
    "    margin=dict(l=10, r=10, t=40, b=10),\n",
    "    font=dict(size=8),  # General font size for axis text and other elements\n",
    ")\n",
    "\n",
    "# Update subplot titles font size\n",
    "fig.update_layout(\n",
    "    annotations=[dict(\n",
    "        font=dict(size=9),  # Reduced font size for subplot titles\n",
    "        xref=\"paper\", yref=\"paper\",\n",
    "        showarrow=False\n",
    "    ) for _ in range(8)]\n",
    ")\n",
    "\n",
    "eps = 0.05\n",
    "\n",
    "fig.update_yaxes(range=[0, 1+eps], row=1, col=1, zeroline=True, dtick=0.25)\n",
    "fig.update_yaxes(range=[0, 1+eps], row=1, col=2, zeroline=True, dtick=0.25)\n",
    "fig.update_yaxes(range=[0, 1+eps], row=1, col=3, zeroline=True, dtick=0.25)\n",
    "fig.update_yaxes(range=[0, 1+eps], row=1, col=4, zeroline=True, dtick=0.25)\n",
    "fig.update_yaxes(range=[0-eps, 1], row=2, col=1, zeroline=False, dtick=0.25)\n",
    "fig.update_yaxes(range=[0-eps, 1], row=2, col=2, zeroline=False, dtick=0.25)\n",
    "fig.update_yaxes(range=[-1, 1+0.1], row=2, col=3, zeroline=False, dtick=0.50)\n",
    "fig.update_yaxes(range=[0, 1+eps], row=2, col=4, zeroline=True, dtick=0.25)\n",
    "\n",
    "# Increase the spacing between the graph and the ratio labels\n",
    "fig.update_xaxes(linewidth=0.5, linecolor='pink', mirror=True, tickfont=dict(size=5), ticklabelposition=\"outside\", ticklabelstandoff=2, dtick=0.1)\n",
    "fig.update_yaxes(linewidth=0.5, linecolor='pink', mirror=True, tickfont=dict(size=5), ticklabelposition=\"outside\", ticklabelstandoff=2)\n",
    "\n",
    "fig.show()"
   ]
  },
  {
   "cell_type": "code",
   "execution_count": 42,
   "metadata": {},
   "outputs": [],
   "source": [
    "fig.write_image(\"cic-vary.png\", width=900, height=300, scale=5) "
   ]
  },
  {
   "cell_type": "code",
   "execution_count": 43,
   "metadata": {},
   "outputs": [
    {
     "name": "stdout",
     "output_type": "stream",
     "text": [
      "+-------+----------+-----------+--------+----------+-------+-------+-------+-------+\n",
      "| Ratio | F1-Score | Precision | Recall | Accuracy |  FPR  |  FNR  |  MCC  |  AUC  |\n",
      "+-------+----------+-----------+--------+----------+-------+-------+-------+-------+\n",
      "| 0:100 |  1.000   |   1.000   | 1.000  |  1.000   | 0.000 | 0.000 | 1.000 | 1.000 |\n",
      "|  1:99 |  1.000   |   1.000   | 1.000  |  1.000   | 0.000 | 0.000 | 1.000 | 1.000 |\n",
      "|  2:98 |  1.000   |   1.000   | 1.000  |  1.000   | 0.000 | 0.000 | 1.000 | 1.000 |\n",
      "|  3:97 |  1.000   |   1.000   | 1.000  |  1.000   | 0.000 | 0.000 | 1.000 | 1.000 |\n",
      "|  4:96 |  1.000   |   1.000   | 1.000  |  1.000   | 0.000 | 0.000 | 1.000 | 1.000 |\n",
      "|  5:95 |  1.000   |   1.000   | 1.000  |  1.000   | 0.000 | 0.000 | 1.000 | 1.000 |\n",
      "|  6:94 |  1.000   |   1.000   | 1.000  |  1.000   | 0.000 | 0.000 | 1.000 | 1.000 |\n",
      "|  7:93 |  1.000   |   1.000   | 1.000  |  1.000   | 0.000 | 0.000 | 1.000 | 1.000 |\n",
      "|  8:92 |  1.000   |   1.000   | 1.000  |  1.000   | 0.000 | 0.000 | 1.000 | 1.000 |\n",
      "|  9:91 |  1.000   |   1.000   | 1.000  |  1.000   | 0.000 | 0.000 | 1.000 | 1.000 |\n",
      "| 10:90 |  1.000   |   1.000   | 1.000  |  1.000   | 0.000 | 0.000 | 1.000 | 1.000 |\n",
      "+-------+----------+-----------+--------+----------+-------+-------+-------+-------+\n"
     ]
    }
   ],
   "source": [
    "from prettytable import PrettyTable\n",
    "\n",
    "# Initialize table\n",
    "table = PrettyTable()\n",
    "table.field_names = [\"Ratio\", \"F1-Score\", \"Precision\", \"Recall\", \"Accuracy\", \"FPR\", \"FNR\", \"MCC\", \"AUC\"]\n",
    "\n",
    "# Add rows with formatted values\n",
    "for i in range(len(ratio_labels)):\n",
    "    table.add_row([\n",
    "        ratio_labels[i], \n",
    "        f\"{f1score_list[i]:.3f}\", f\"{precision_list[i]:.3f}\", f\"{recall_list[i]:.3f}\", \n",
    "        f\"{accuracy_list[i]:.3f}\", f\"{fpr_list[i]:.3f}\", f\"{fnr_list[i]:.3f}\", \n",
    "        f\"{mcc_list[i]:.3f}\", f\"{auc_list[i]:.3f}\"\n",
    "    ])\n",
    "\n",
    "# Print table\n",
    "print(table)\n"
   ]
  }
 ],
 "metadata": {
  "kernelspec": {
   "display_name": "Python 3",
   "language": "python",
   "name": "python3"
  },
  "language_info": {
   "codemirror_mode": {
    "name": "ipython",
    "version": 3
   },
   "file_extension": ".py",
   "mimetype": "text/x-python",
   "name": "python",
   "nbconvert_exporter": "python",
   "pygments_lexer": "ipython3",
   "version": "3.8.10"
  }
 },
 "nbformat": 4,
 "nbformat_minor": 2
}
