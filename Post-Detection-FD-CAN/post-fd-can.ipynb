{
 "cells": [
  {
   "cell_type": "code",
   "execution_count": 1,
   "metadata": {},
   "outputs": [
    {
     "name": "stderr",
     "output_type": "stream",
     "text": [
      "2025-02-11 20:57:30.521735: I tensorflow/tsl/cuda/cudart_stub.cc:28] Could not find cuda drivers on your machine, GPU will not be used.\n",
      "2025-02-11 20:57:30.607714: I tensorflow/tsl/cuda/cudart_stub.cc:28] Could not find cuda drivers on your machine, GPU will not be used.\n",
      "2025-02-11 20:57:30.609959: I tensorflow/core/platform/cpu_feature_guard.cc:182] This TensorFlow binary is optimized to use available CPU instructions in performance-critical operations.\n",
      "To enable the following instructions: AVX2 FMA, in other operations, rebuild TensorFlow with the appropriate compiler flags.\n",
      "2025-02-11 20:57:31.710262: W tensorflow/compiler/tf2tensorrt/utils/py_utils.cc:38] TF-TRT Warning: Could not find TensorRT\n"
     ]
    }
   ],
   "source": [
    "import os\n",
    "import gc\n",
    "import sys\n",
    "import vote\n",
    "import time\n",
    "import random\n",
    "import pickle\n",
    "import warnings\n",
    "import numpy as np\n",
    "import pandas as pd\n",
    "from tqdm import tqdm\n",
    "import plotly.io as pio\n",
    "from maverick import Maverick\n",
    "import plotly.graph_objs as go\n",
    "import matplotlib.pyplot as plt\n",
    "from collections import Counter\n",
    "np.set_printoptions(suppress=True)\n",
    "warnings.filterwarnings(\"ignore\")\n",
    "from IPython.display import clear_output\n",
    "from sklearn.metrics import accuracy_score, matthews_corrcoef, f1_score\n",
    "from sklearn.metrics import roc_curve, auc, RocCurveDisplay, confusion_matrix"
   ]
  },
  {
   "cell_type": "code",
   "execution_count": 2,
   "metadata": {},
   "outputs": [],
   "source": [
    "import tensorflow as tf\n",
    "os.environ['TF_CPP_MIN_LOG_LEVEL'] = '3'"
   ]
  },
  {
   "cell_type": "code",
   "execution_count": 3,
   "metadata": {},
   "outputs": [],
   "source": [
    "repo_dir = \"../can-fd\"\n",
    "if not os.path.exists(repo_dir):\n",
    "    !git clone https://github.com/val-co/can-fd\n",
    "\n",
    "DATASET_DIRECTORY = '/home/ubuntu/Maverick/can-fd/'"
   ]
  },
  {
   "cell_type": "code",
   "execution_count": 4,
   "metadata": {},
   "outputs": [
    {
     "name": "stdout",
     "output_type": "stream",
     "text": [
      "skipping\n"
     ]
    }
   ],
   "source": [
    "%%script echo skipping\n",
    "\n",
    "from itertools import chain\n",
    "csv_files = [file for file in os.listdir(DATASET_DIRECTORY) if file.endswith('.csv')]\n",
    "\n",
    "X_list = []\n",
    "y_list = []\n",
    "y_list_extended = []\n",
    "\n",
    "dataframes = {}\n",
    "\n",
    "attacks = [2, 3, 4]\n",
    "\n",
    "for i, file in enumerate(csv_files):\n",
    "    file_path = os.path.join(DATASET_DIRECTORY, file)\n",
    "    df = pd.read_csv(file_path)\n",
    "    X_list.append(df.iloc[:, :-1])  # Append all columns except the last one (features)\n",
    "    y_list.append(df.iloc[:, -1])   # Append only the last column (labels)\n",
    "    y_list_extended.append(np.where(df.iloc[:, -1] == 0, 0, attacks[i]))\n",
    "    \n",
    "# Concatenate all DataFrames along the rows to create X (features)\n",
    "X = pd.concat(X_list, ignore_index=True)\n",
    "\n",
    "# Concatenate all Series (labels) along the rows to create y\n",
    "y = pd.concat(y_list, ignore_index=True)\n",
    "\n",
    "y_extended = list(chain(*y_list_extended))\n",
    "\n",
    "print(X.shape, Counter(y))\n",
    "\n",
    "with open(\"X_fd.pkl\", 'wb') as f1:\n",
    "    pickle.dump(X, f1)\n",
    "    \n",
    "with open(\"y_fd.pkl\", 'wb') as f2:\n",
    "    pickle.dump(y, f2)\n",
    "    \n",
    "with open(\"y_fd_extended.pkl\", 'wb') as f3:\n",
    "    pickle.dump(y_extended, f3)"
   ]
  },
  {
   "cell_type": "code",
   "execution_count": null,
   "metadata": {},
   "outputs": [
    {
     "data": {
      "text/plain": [
       "['processed_CANFD_Flooding.csv',\n",
       " 'processed_CANFD_Malfunction.csv',\n",
       " 'processed_CANFD_Fuzzing.csv']"
      ]
     },
     "execution_count": 4,
     "metadata": {},
     "output_type": "execute_result"
    }
   ],
   "source": [
    "[file for file in os.listdir(DATASET_DIRECTORY) if file.endswith('.csv')]"
   ]
  },
  {
   "cell_type": "code",
   "execution_count": 5,
   "metadata": {},
   "outputs": [
    {
     "name": "stdout",
     "output_type": "stream",
     "text": [
      "(7120602, 66) Counter({0: 5490129, 1: 1630473}) Counter({0: 5490129, 2: 988241, 4: 506506, 3: 135726})\n"
     ]
    }
   ],
   "source": [
    "with open(\"X_fd.pkl\", 'rb') as f1:\n",
    "    X = pickle.load(f1)\n",
    "    \n",
    "with open(\"y_fd.pkl\", 'rb') as f2:\n",
    "    y = pickle.load(f2)\n",
    "    \n",
    "with open(\"y_fd_extended.pkl\", 'rb') as f3:\n",
    "    y_extended = pickle.load(f3)\n",
    "    \n",
    "print(X.shape, Counter(y), Counter(y_extended))"
   ]
  },
  {
   "cell_type": "code",
   "execution_count": 7,
   "metadata": {},
   "outputs": [
    {
     "data": {
      "text/html": [
       "<div>\n",
       "<style scoped>\n",
       "    .dataframe tbody tr th:only-of-type {\n",
       "        vertical-align: middle;\n",
       "    }\n",
       "\n",
       "    .dataframe tbody tr th {\n",
       "        vertical-align: top;\n",
       "    }\n",
       "\n",
       "    .dataframe thead th {\n",
       "        text-align: right;\n",
       "    }\n",
       "</style>\n",
       "<table border=\"1\" class=\"dataframe\">\n",
       "  <thead>\n",
       "    <tr style=\"text-align: right;\">\n",
       "      <th></th>\n",
       "      <th>dTIME</th>\n",
       "      <th>Arbitration_ID</th>\n",
       "      <th>Data[0]</th>\n",
       "      <th>Data[1]</th>\n",
       "      <th>Data[2]</th>\n",
       "      <th>Data[3]</th>\n",
       "      <th>Data[4]</th>\n",
       "      <th>Data[5]</th>\n",
       "      <th>Data[6]</th>\n",
       "      <th>Data[7]</th>\n",
       "      <th>...</th>\n",
       "      <th>Data[54]</th>\n",
       "      <th>Data[55]</th>\n",
       "      <th>Data[56]</th>\n",
       "      <th>Data[57]</th>\n",
       "      <th>Data[58]</th>\n",
       "      <th>Data[59]</th>\n",
       "      <th>Data[60]</th>\n",
       "      <th>Data[61]</th>\n",
       "      <th>Data[62]</th>\n",
       "      <th>Data[63]</th>\n",
       "    </tr>\n",
       "  </thead>\n",
       "  <tbody>\n",
       "    <tr>\n",
       "      <th>0</th>\n",
       "      <td>0.000000</td>\n",
       "      <td>0</td>\n",
       "      <td>0</td>\n",
       "      <td>0</td>\n",
       "      <td>0</td>\n",
       "      <td>0</td>\n",
       "      <td>0</td>\n",
       "      <td>0</td>\n",
       "      <td>0</td>\n",
       "      <td>0</td>\n",
       "      <td>...</td>\n",
       "      <td>0</td>\n",
       "      <td>0</td>\n",
       "      <td>0</td>\n",
       "      <td>0</td>\n",
       "      <td>0</td>\n",
       "      <td>0</td>\n",
       "      <td>0</td>\n",
       "      <td>0</td>\n",
       "      <td>0</td>\n",
       "      <td>0</td>\n",
       "    </tr>\n",
       "    <tr>\n",
       "      <th>1</th>\n",
       "      <td>0.000180</td>\n",
       "      <td>0</td>\n",
       "      <td>0</td>\n",
       "      <td>0</td>\n",
       "      <td>0</td>\n",
       "      <td>0</td>\n",
       "      <td>0</td>\n",
       "      <td>0</td>\n",
       "      <td>0</td>\n",
       "      <td>0</td>\n",
       "      <td>...</td>\n",
       "      <td>0</td>\n",
       "      <td>0</td>\n",
       "      <td>0</td>\n",
       "      <td>0</td>\n",
       "      <td>0</td>\n",
       "      <td>0</td>\n",
       "      <td>0</td>\n",
       "      <td>0</td>\n",
       "      <td>0</td>\n",
       "      <td>0</td>\n",
       "    </tr>\n",
       "    <tr>\n",
       "      <th>2</th>\n",
       "      <td>0.000178</td>\n",
       "      <td>0</td>\n",
       "      <td>0</td>\n",
       "      <td>0</td>\n",
       "      <td>0</td>\n",
       "      <td>0</td>\n",
       "      <td>0</td>\n",
       "      <td>0</td>\n",
       "      <td>0</td>\n",
       "      <td>0</td>\n",
       "      <td>...</td>\n",
       "      <td>0</td>\n",
       "      <td>0</td>\n",
       "      <td>0</td>\n",
       "      <td>0</td>\n",
       "      <td>0</td>\n",
       "      <td>0</td>\n",
       "      <td>0</td>\n",
       "      <td>0</td>\n",
       "      <td>0</td>\n",
       "      <td>0</td>\n",
       "    </tr>\n",
       "    <tr>\n",
       "      <th>3</th>\n",
       "      <td>0.000179</td>\n",
       "      <td>0</td>\n",
       "      <td>0</td>\n",
       "      <td>0</td>\n",
       "      <td>0</td>\n",
       "      <td>0</td>\n",
       "      <td>0</td>\n",
       "      <td>0</td>\n",
       "      <td>0</td>\n",
       "      <td>0</td>\n",
       "      <td>...</td>\n",
       "      <td>0</td>\n",
       "      <td>0</td>\n",
       "      <td>0</td>\n",
       "      <td>0</td>\n",
       "      <td>0</td>\n",
       "      <td>0</td>\n",
       "      <td>0</td>\n",
       "      <td>0</td>\n",
       "      <td>0</td>\n",
       "      <td>0</td>\n",
       "    </tr>\n",
       "    <tr>\n",
       "      <th>4</th>\n",
       "      <td>0.000179</td>\n",
       "      <td>0</td>\n",
       "      <td>0</td>\n",
       "      <td>0</td>\n",
       "      <td>0</td>\n",
       "      <td>0</td>\n",
       "      <td>0</td>\n",
       "      <td>0</td>\n",
       "      <td>0</td>\n",
       "      <td>0</td>\n",
       "      <td>...</td>\n",
       "      <td>0</td>\n",
       "      <td>0</td>\n",
       "      <td>0</td>\n",
       "      <td>0</td>\n",
       "      <td>0</td>\n",
       "      <td>0</td>\n",
       "      <td>0</td>\n",
       "      <td>0</td>\n",
       "      <td>0</td>\n",
       "      <td>0</td>\n",
       "    </tr>\n",
       "  </tbody>\n",
       "</table>\n",
       "<p>5 rows × 66 columns</p>\n",
       "</div>"
      ],
      "text/plain": [
       "      dTIME  Arbitration_ID  Data[0]  Data[1]  Data[2]  Data[3]  Data[4]  \\\n",
       "0  0.000000               0        0        0        0        0        0   \n",
       "1  0.000180               0        0        0        0        0        0   \n",
       "2  0.000178               0        0        0        0        0        0   \n",
       "3  0.000179               0        0        0        0        0        0   \n",
       "4  0.000179               0        0        0        0        0        0   \n",
       "\n",
       "   Data[5]  Data[6]  Data[7]  ...  Data[54]  Data[55]  Data[56]  Data[57]  \\\n",
       "0        0        0        0  ...         0         0         0         0   \n",
       "1        0        0        0  ...         0         0         0         0   \n",
       "2        0        0        0  ...         0         0         0         0   \n",
       "3        0        0        0  ...         0         0         0         0   \n",
       "4        0        0        0  ...         0         0         0         0   \n",
       "\n",
       "   Data[58]  Data[59]  Data[60]  Data[61]  Data[62]  Data[63]  \n",
       "0         0         0         0         0         0         0  \n",
       "1         0         0         0         0         0         0  \n",
       "2         0         0         0         0         0         0  \n",
       "3         0         0         0         0         0         0  \n",
       "4         0         0         0         0         0         0  \n",
       "\n",
       "[5 rows x 66 columns]"
      ]
     },
     "execution_count": 7,
     "metadata": {},
     "output_type": "execute_result"
    }
   ],
   "source": [
    "X.head()"
   ]
  },
  {
   "cell_type": "code",
   "execution_count": 6,
   "metadata": {},
   "outputs": [
    {
     "name": "stdout",
     "output_type": "stream",
     "text": [
      "X_train shape: (4272361, 66), y_train shape: (4272361,)\n",
      "X_surrogate shape: (1424120, 66), y_surrogate shape: (1424120,)\n",
      "X_test shape: (1424121, 66), y_test shape: (1424121,)\n"
     ]
    }
   ],
   "source": [
    "from sklearn.model_selection import train_test_split\n",
    "\n",
    "# Split the data into train (60%), surrogate (20%), and test (20%)\n",
    "X_train, X_temp, y_train, y_temp = train_test_split(X, y, test_size=0.4, random_state=42)\n",
    "X_surrogate, X_test, y_surrogate, y_test = train_test_split(X_temp, y_temp, test_size=0.5, random_state=42)\n",
    "\n",
    "# Print the shapes of the datasets\n",
    "print(f\"X_train shape: {X_train.shape}, y_train shape: {y_train.shape}\")\n",
    "print(f\"X_surrogate shape: {X_surrogate.shape}, y_surrogate shape: {y_surrogate.shape}\")\n",
    "print(f\"X_test shape: {X_test.shape}, y_test shape: {y_test.shape}\")"
   ]
  },
  {
   "cell_type": "code",
   "execution_count": 9,
   "metadata": {},
   "outputs": [],
   "source": [
    "y_test_extended = np.asarray(y_extended)[y_test.index]"
   ]
  },
  {
   "cell_type": "code",
   "execution_count": 7,
   "metadata": {},
   "outputs": [],
   "source": [
    "X_train.columns = [col.replace('[', '(').replace(']', ')') for col in X_train.columns]\n",
    "X_surrogate.columns = [col.replace('[', '(').replace(']', ')') for col in X_surrogate.columns]\n",
    "X_test.columns = [col.replace('[', '(').replace(']', ')') for col in X_test.columns]"
   ]
  },
  {
   "cell_type": "code",
   "execution_count": 10,
   "metadata": {},
   "outputs": [
    {
     "data": {
      "text/plain": [
       "Index(['dTIME', 'Arbitration_ID', 'Data(0)', 'Data(1)', 'Data(2)', 'Data(3)',\n",
       "       'Data(4)', 'Data(5)', 'Data(6)', 'Data(7)', 'Data(8)', 'Data(9)',\n",
       "       'Data(10)', 'Data(11)', 'Data(12)', 'Data(13)', 'Data(14)', 'Data(15)',\n",
       "       'Data(16)', 'Data(17)', 'Data(18)', 'Data(19)', 'Data(20)', 'Data(21)',\n",
       "       'Data(22)', 'Data(23)', 'Data(24)', 'Data(25)', 'Data(26)', 'Data(27)',\n",
       "       'Data(28)', 'Data(29)', 'Data(30)', 'Data(31)', 'Data(32)', 'Data(33)',\n",
       "       'Data(34)', 'Data(35)', 'Data(36)', 'Data(37)', 'Data(38)', 'Data(39)',\n",
       "       'Data(40)', 'Data(41)', 'Data(42)', 'Data(43)', 'Data(44)', 'Data(45)',\n",
       "       'Data(46)', 'Data(47)', 'Data(48)', 'Data(49)', 'Data(50)', 'Data(51)',\n",
       "       'Data(52)', 'Data(53)', 'Data(54)', 'Data(55)', 'Data(56)', 'Data(57)',\n",
       "       'Data(58)', 'Data(59)', 'Data(60)', 'Data(61)', 'Data(62)', 'Data(63)'],\n",
       "      dtype='object')"
      ]
     },
     "execution_count": 10,
     "metadata": {},
     "output_type": "execute_result"
    }
   ],
   "source": [
    "X_train.columns"
   ]
  },
  {
   "cell_type": "code",
   "execution_count": 8,
   "metadata": {},
   "outputs": [
    {
     "data": {
      "text/plain": [
       "XGBClassifier(base_score=None, booster=None, callbacks=None,\n",
       "              colsample_bylevel=None, colsample_bynode=None,\n",
       "              colsample_bytree=None, device=None, early_stopping_rounds=None,\n",
       "              enable_categorical=False, eval_metric=None, feature_types=None,\n",
       "              gamma=None, grow_policy=None, importance_type=None,\n",
       "              interaction_constraints=None, learning_rate=None, max_bin=None,\n",
       "              max_cat_threshold=None, max_cat_to_onehot=None,\n",
       "              max_delta_step=None, max_depth=10, max_leaves=None,\n",
       "              min_child_weight=None, missing=nan, monotone_constraints=None,\n",
       "              multi_strategy=None, n_estimators=254, n_jobs=None,\n",
       "              num_parallel_tree=None, random_state=None, ...)"
      ]
     },
     "execution_count": 8,
     "metadata": {},
     "output_type": "execute_result"
    }
   ],
   "source": [
    "from xgboost import XGBClassifier\n",
    "\n",
    "params = {\n",
    "    'max_depth': 10,  # Maximum depth of each tree\n",
    "    'n_estimators': 254,  # Number of trees\n",
    "    'seed': 42,  # Random seed\n",
    "}\n",
    "\n",
    "# Initialize XGBoost classifier\n",
    "model1 = XGBClassifier(**params)\n",
    "model1.fit(X_train, y_train)"
   ]
  },
  {
   "cell_type": "code",
   "execution_count": 68,
   "metadata": {},
   "outputs": [
    {
     "name": "stdout",
     "output_type": "stream",
     "text": [
      "Accuracy:  0.9999943824998017 \n",
      "\n",
      "True Positive Rate (TPR): 1.000\n",
      "True Negative Rate (TNR): 1.000\n",
      "False Positive Rate (FPR): 0.000\n",
      "False Negative Rate (FNR): 0.000\n"
     ]
    }
   ],
   "source": [
    "ypred = model1.predict(X_test)\n",
    "print(\"Accuracy: \", accuracy_score(ypred, y_test), \"\\n\")\n",
    "\n",
    "tn, fp, fn, tp = confusion_matrix(ypred, y_test).ravel()\n",
    "tpr = tp / (tp + fn)  # True positive rate\n",
    "tnr = tn / (tn + fp)  # True negative rate\n",
    "fpr = fp / (fp + tn)  # False positive rate\n",
    "fnr = fn / (fn + tp)  # False negative rate\n",
    "print(f\"True Positive Rate (TPR): {tpr:.3f}\")\n",
    "print(f\"True Negative Rate (TNR): {tnr:.3f}\")\n",
    "print(f\"False Positive Rate (FPR): {fpr:.3f}\")\n",
    "print(f\"False Negative Rate (FNR): {fnr:.3f}\")"
   ]
  },
  {
   "cell_type": "code",
   "execution_count": 69,
   "metadata": {},
   "outputs": [
    {
     "data": {
      "text/plain": [
       "XGBClassifier(base_score=None, booster=None, callbacks=None,\n",
       "              colsample_bylevel=None, colsample_bynode=None,\n",
       "              colsample_bytree=None, device=None, early_stopping_rounds=None,\n",
       "              enable_categorical=False, eval_metric=None, feature_types=None,\n",
       "              gamma=None, grow_policy=None, importance_type=None,\n",
       "              interaction_constraints=None, learning_rate=None, max_bin=None,\n",
       "              max_cat_threshold=None, max_cat_to_onehot=None,\n",
       "              max_delta_step=None, max_depth=10, max_leaves=None,\n",
       "              min_child_weight=None, missing=nan, monotone_constraints=None,\n",
       "              multi_strategy=None, n_estimators=254, n_jobs=None,\n",
       "              num_parallel_tree=None, random_state=None, ...)"
      ]
     },
     "execution_count": 69,
     "metadata": {},
     "output_type": "execute_result"
    }
   ],
   "source": [
    "model2 = XGBClassifier(**params)\n",
    "model2.fit(X_surrogate, y_surrogate)"
   ]
  },
  {
   "cell_type": "code",
   "execution_count": 70,
   "metadata": {},
   "outputs": [
    {
     "name": "stdout",
     "output_type": "stream",
     "text": [
      "Accuracy:  0.9999929781247521 \n",
      "\n",
      "True Positive Rate (TPR): 1.000\n",
      "True Negative Rate (TNR): 1.000\n",
      "False Positive Rate (FPR): 0.000\n",
      "False Negative Rate (FNR): 0.000\n"
     ]
    }
   ],
   "source": [
    "ypred = model2.predict(X_test)\n",
    "print(\"Accuracy: \", accuracy_score(ypred, y_test), \"\\n\")\n",
    "\n",
    "tn, fp, fn, tp = confusion_matrix(ypred, y_test).ravel()\n",
    "tpr = tp / (tp + fn)  # True positive rate\n",
    "tnr = tn / (tn + fp)  # True negative rate\n",
    "fpr = fp / (fp + tn)  # False positive rate\n",
    "fnr = fn / (fn + tp)  # False negative rate\n",
    "print(f\"True Positive Rate (TPR): {tpr:.3f}\")\n",
    "print(f\"True Negative Rate (TNR): {tnr:.3f}\")\n",
    "print(f\"False Positive Rate (FPR): {fpr:.3f}\")\n",
    "print(f\"False Negative Rate (FNR): {fnr:.3f}\")"
   ]
  },
  {
   "cell_type": "code",
   "execution_count": 11,
   "metadata": {},
   "outputs": [
    {
     "name": "stdout",
     "output_type": "stream",
     "text": [
      "X_test_filtered shape: (326229, 66)\n",
      "y_test_filtered shape: (326229,)\n",
      "y_test_extended_filtered shape: (326229,)\n"
     ]
    }
   ],
   "source": [
    "X_test_filtered = X_test[y_test == 1]\n",
    "y_test_filtered = y_test[y_test == 1]\n",
    "y_test_extended_filtered = y_test_extended[y_test_extended != 0]\n",
    "\n",
    "# Print the shapes of the filtered datasets\n",
    "print(f\"X_test_filtered shape: {X_test_filtered.shape}\")\n",
    "print(f\"y_test_filtered shape: {y_test_filtered.shape}\")\n",
    "print(f\"y_test_extended_filtered shape: {y_test_extended_filtered.shape}\")"
   ]
  },
  {
   "cell_type": "code",
   "execution_count": 92,
   "metadata": {},
   "outputs": [
    {
     "name": "stdout",
     "output_type": "stream",
     "text": [
      "Finding Adversarial Examples\n"
     ]
    },
    {
     "name": "stderr",
     "output_type": "stream",
     "text": [
      "  0%|          | 0/326229 [00:00<?, ?it/s]"
     ]
    },
    {
     "name": "stderr",
     "output_type": "stream",
     "text": [
      "100%|██████████| 326229/326229 [21:51<00:00, 248.67it/s]\n"
     ]
    },
    {
     "name": "stdout",
     "output_type": "stream",
     "text": [
      "Adversarial Examples Found:  77175\n",
      "Accuracy on Adversarial Examples:  0.0\n"
     ]
    }
   ],
   "source": [
    "%%script echo skipping\n",
    "\n",
    "A_, L_, L_extended = [], [], []\n",
    "\n",
    "def label_checker(expected, mapping):\n",
    "    return vote.mapping_check_argmax(mapping, expected)\n",
    "\n",
    "print('Finding Adversarial Examples')\n",
    "e = vote.Ensemble.from_xgboost(model2)\n",
    "deltas = [0, 0] + [15] * 64 \n",
    "\n",
    "for i in tqdm(range(len(y_test_filtered))):\n",
    "    def check_robustness(m):\n",
    "        o = vote.mapping_check_argmax(m, y_test_filtered.iloc[i])\n",
    "        if o == vote.FAIL:\n",
    "            center = [m.inputs[dim].lower + (m.inputs[dim].upper - m.inputs[dim].lower) / 2 for dim in range(m.nb_inputs)]\n",
    "            if(model1.predict([center]) != y_test_filtered.iloc[i]):\n",
    "                A_.append(center)\n",
    "                L_.append(y_test_filtered.iloc[i])\n",
    "                L_extended.append(y_test_extended_filtered[i])\n",
    "        return o\n",
    "    \n",
    "    domain = [(max(x - delta, 0), min(65535, x + delta)) if (idx == 0 or idx == 1) else (max(x - delta, 0), min(255, x + delta)) for idx, (x, delta) in enumerate(zip(X_test_filtered.iloc[i].values, deltas))]\n",
    "    e.absref(check_robustness, domain)\n",
    "\n",
    "y_pred = model1.predict(A_)\n",
    "print('Adversarial Examples Found: ', len(A_))\n",
    "print(\"Accuracy on Adversarial Examples: \", accuracy_score(y_pred, L_))\n",
    "\n",
    "np.save('adversarial_examples_fd.npy', A_)\n",
    "np.save('true_labels_fd.npy', L_)\n",
    "np.save('true_labels_fd_extended.npy', L_extended)"
   ]
  },
  {
   "cell_type": "code",
   "execution_count": 9,
   "metadata": {},
   "outputs": [],
   "source": [
    "adversarial_examples = np.load('adversarial_examples_fd.npy')\n",
    "true_labels = np.load('true_labels_fd.npy')\n",
    "true_labels_extended = np.load('true_labels_fd_extended.npy')"
   ]
  },
  {
   "cell_type": "code",
   "execution_count": 21,
   "metadata": {},
   "outputs": [],
   "source": [
    "random.seed(42)\n",
    "\n",
    "num_samples = len(adversarial_examples)\n",
    "\n",
    "selected_indices = random.sample(range(len(X_test)), num_samples)\n",
    "\n",
    "X_selected = X_test.iloc[selected_indices].values\n",
    "y_selected = y_test.iloc[selected_indices].values"
   ]
  },
  {
   "cell_type": "code",
   "execution_count": 22,
   "metadata": {},
   "outputs": [
    {
     "name": "stdout",
     "output_type": "stream",
     "text": [
      "Evaluation Samples: 154350\n"
     ]
    }
   ],
   "source": [
    "test_set = np.concatenate((X_selected, adversarial_examples))\n",
    "test_lab_sym = np.concatenate((np.zeros(len(y_selected), dtype=bool), np.ones(len(true_labels), dtype=bool)))\n",
    "\n",
    "test_lab = np.concatenate((y_selected, true_labels))\n",
    "\n",
    "print(\"Evaluation Samples:\", len(test_set))"
   ]
  },
  {
   "cell_type": "code",
   "execution_count": 19,
   "metadata": {},
   "outputs": [
    {
     "name": "stdout",
     "output_type": "stream",
     "text": [
      "Initializing Maverick...\n"
     ]
    },
    {
     "name": "stderr",
     "output_type": "stream",
     "text": [
      "2024-12-23 18:10:51.803814: W tensorflow/tsl/framework/cpu_allocator_impl.cc:83] Allocation of 3689610096 exceeds 10% of free system memory.\n",
      "2024-12-23 18:11:46.811725: W tensorflow/tsl/framework/cpu_allocator_impl.cc:83] Allocation of 3689610096 exceeds 10% of free system memory.\n",
      "2024-12-23 18:12:46.176911: W tensorflow/tsl/framework/cpu_allocator_impl.cc:83] Allocation of 3689610096 exceeds 10% of free system memory.\n",
      "2024-12-23 18:12:48.996115: W tensorflow/tsl/framework/cpu_allocator_impl.cc:83] Allocation of 3689610096 exceeds 10% of free system memory.\n"
     ]
    },
    {
     "name": "stdout",
     "output_type": "stream",
     "text": [
      "Epoch 1/50\n",
      "14185/14186 [============================>.] - ETA: 0s - loss: 0.0387"
     ]
    },
    {
     "name": "stderr",
     "output_type": "stream",
     "text": [
      "2024-12-23 18:17:32.436484: W tensorflow/tsl/framework/cpu_allocator_impl.cc:83] Allocation of 651108680 exceeds 10% of free system memory.\n"
     ]
    },
    {
     "name": "stdout",
     "output_type": "stream",
     "text": [
      "14186/14186 [==============================] - 290s 15ms/step - loss: 0.0387 - val_loss: 0.0282\n",
      "Epoch 2/50\n",
      "14186/14186 [==============================] - 223s 16ms/step - loss: 0.0273 - val_loss: 0.0181\n",
      "Epoch 3/50\n",
      "14186/14186 [==============================] - 222s 16ms/step - loss: 0.0171 - val_loss: 0.0183\n",
      "Epoch 4/50\n",
      "14186/14186 [==============================] - 220s 15ms/step - loss: 0.0158 - val_loss: 0.0145\n",
      "Epoch 5/50\n",
      "14186/14186 [==============================] - 213s 15ms/step - loss: 0.0148 - val_loss: 0.0136\n",
      "Epoch 6/50\n",
      "14186/14186 [==============================] - 220s 15ms/step - loss: 0.0135 - val_loss: 0.0122\n",
      "Epoch 7/50\n",
      "14186/14186 [==============================] - 223s 16ms/step - loss: 0.0129 - val_loss: 0.0124\n",
      "Epoch 8/50\n",
      "14186/14186 [==============================] - 213s 15ms/step - loss: 0.0125 - val_loss: 0.0144\n",
      "Epoch 9/50\n",
      "14186/14186 [==============================] - 213s 15ms/step - loss: 0.0120 - val_loss: 0.0123\n",
      "Epoch 10/50\n",
      "14186/14186 [==============================] - 220s 16ms/step - loss: 0.0119 - val_loss: 0.0198\n",
      "Epoch 11/50\n",
      "14186/14186 [==============================] - 221s 16ms/step - loss: 0.0117 - val_loss: 0.0112\n",
      "Epoch 12/50\n",
      "14186/14186 [==============================] - 221s 16ms/step - loss: 0.0115 - val_loss: 0.0124\n",
      "Epoch 13/50\n",
      "14186/14186 [==============================] - 213s 15ms/step - loss: 0.0113 - val_loss: 0.0103\n",
      "Epoch 14/50\n",
      "14186/14186 [==============================] - 219s 15ms/step - loss: 0.0100 - val_loss: 0.0089\n",
      "Epoch 15/50\n",
      "14186/14186 [==============================] - 227s 16ms/step - loss: 0.0099 - val_loss: 0.0095\n",
      "Epoch 16/50\n",
      "14186/14186 [==============================] - 212s 15ms/step - loss: 0.0099 - val_loss: 0.0099\n",
      "Epoch 17/50\n",
      "14186/14186 [==============================] - 214s 15ms/step - loss: 0.0098 - val_loss: 0.0140\n",
      "Epoch 18/50\n",
      "14186/14186 [==============================] - 216s 15ms/step - loss: 0.0096 - val_loss: 0.0097\n",
      "Epoch 19/50\n",
      "14186/14186 [==============================] - 214s 15ms/step - loss: 0.0095 - val_loss: 0.0089\n",
      "Epoch 20/50\n",
      "14186/14186 [==============================] - 218s 15ms/step - loss: 0.0091 - val_loss: 0.0097\n",
      "Epoch 21/50\n",
      "14186/14186 [==============================] - 212s 15ms/step - loss: 0.0088 - val_loss: 0.0078\n",
      "Epoch 22/50\n",
      "14186/14186 [==============================] - 212s 15ms/step - loss: 0.0089 - val_loss: 0.0174\n",
      "Epoch 23/50\n",
      "14186/14186 [==============================] - 212s 15ms/step - loss: 0.0088 - val_loss: 0.0082\n",
      "Epoch 24/50\n",
      "14186/14186 [==============================] - 215s 15ms/step - loss: 0.0087 - val_loss: 0.0082\n",
      "Epoch 25/50\n",
      "14186/14186 [==============================] - 219s 15ms/step - loss: 0.0086 - val_loss: 0.0081\n",
      "Epoch 26/50\n",
      "14186/14186 [==============================] - 215s 15ms/step - loss: 0.0086 - val_loss: 0.0078\n",
      "Epoch 27/50\n",
      "14186/14186 [==============================] - 212s 15ms/step - loss: 0.0085 - val_loss: 0.0085\n",
      "Epoch 28/50\n",
      "14186/14186 [==============================] - 210s 15ms/step - loss: 0.0085 - val_loss: 0.0082\n",
      "Epoch 29/50\n",
      "14186/14186 [==============================] - 215s 15ms/step - loss: 0.0083 - val_loss: 0.0080\n",
      "Epoch 30/50\n",
      "14186/14186 [==============================] - 217s 15ms/step - loss: 0.0083 - val_loss: 0.0074\n",
      "Epoch 31/50\n",
      "14186/14186 [==============================] - 217s 15ms/step - loss: 0.0082 - val_loss: 0.0075\n",
      "Epoch 32/50\n",
      "14186/14186 [==============================] - 211s 15ms/step - loss: 0.0082 - val_loss: 0.0074\n",
      "Epoch 33/50\n",
      "14186/14186 [==============================] - 212s 15ms/step - loss: 0.0080 - val_loss: 0.0085\n",
      "Epoch 34/50\n",
      "14186/14186 [==============================] - 216s 15ms/step - loss: 0.0080 - val_loss: 0.0085\n",
      "Epoch 35/50\n",
      "14186/14186 [==============================] - 215s 15ms/step - loss: 0.0081 - val_loss: 0.0073\n",
      "Epoch 36/50\n",
      "14186/14186 [==============================] - 216s 15ms/step - loss: 0.0081 - val_loss: 0.0082\n",
      "Epoch 37/50\n",
      "14186/14186 [==============================] - 210s 15ms/step - loss: 0.0079 - val_loss: 0.0070\n",
      "Epoch 38/50\n",
      "14186/14186 [==============================] - 213s 15ms/step - loss: 0.0079 - val_loss: 0.0100\n",
      "Epoch 39/50\n",
      "14186/14186 [==============================] - 211s 15ms/step - loss: 0.0080 - val_loss: 0.0088\n",
      "Epoch 40/50\n",
      "14186/14186 [==============================] - 216s 15ms/step - loss: 0.0079 - val_loss: 0.0097\n",
      "Epoch 41/50\n",
      "14186/14186 [==============================] - 221s 16ms/step - loss: 0.0079 - val_loss: 0.0073\n",
      "Epoch 42/50\n",
      "14186/14186 [==============================] - 217s 15ms/step - loss: 0.0078 - val_loss: 0.0108\n",
      "Epoch 43/50\n",
      "14186/14186 [==============================] - 212s 15ms/step - loss: 0.0078 - val_loss: 0.0070\n",
      "Epoch 44/50\n",
      "14186/14186 [==============================] - 212s 15ms/step - loss: 0.0077 - val_loss: 0.0080\n",
      "Epoch 45/50\n",
      "14186/14186 [==============================] - 211s 15ms/step - loss: 0.0078 - val_loss: 0.0075\n",
      "Epoch 46/50\n",
      "14186/14186 [==============================] - 216s 15ms/step - loss: 0.0077 - val_loss: 0.0074\n",
      "Epoch 47/50\n",
      "14186/14186 [==============================] - 216s 15ms/step - loss: 0.0079 - val_loss: 0.0072\n",
      "Epoch 48/50\n",
      "14186/14186 [==============================] - 214s 15ms/step - loss: 0.0078 - val_loss: 0.0084\n",
      "Epoch 49/50\n",
      "14186/14186 [==============================] - 212s 15ms/step - loss: 0.0077 - val_loss: 0.0088\n",
      "Epoch 50/50\n",
      "14186/14186 [==============================] - 211s 15ms/step - loss: 0.0076 - val_loss: 0.0070\n",
      "Initialization Complete!\n"
     ]
    }
   ],
   "source": [
    "mav = Maverick(model1, X_train, y_train, save_filename = \"autoencoder_fd_new.h5\")"
   ]
  },
  {
   "cell_type": "code",
   "execution_count": 10,
   "metadata": {},
   "outputs": [
    {
     "name": "stdout",
     "output_type": "stream",
     "text": [
      "Initializing Maverick...\n",
      "Loading File: autoencoder_fd_new.h5\n",
      "Initialization Complete!\n"
     ]
    }
   ],
   "source": [
    "mav = Maverick(model1, load_filename=\"autoencoder_fd_new.h5\")"
   ]
  },
  {
   "cell_type": "code",
   "execution_count": 24,
   "metadata": {},
   "outputs": [
    {
     "name": "stdout",
     "output_type": "stream",
     "text": [
      "603/603 [==============================] - 5s 6ms/step\n"
     ]
    },
    {
     "data": {
      "image/png": "[encoded data removed]",
      "text/plain": [
       "<Figure size 1000x600 with 1 Axes>"
      ]
     },
     "metadata": {},
     "output_type": "display_data"
    }
   ],
   "source": [
    "mav.plot_rmse_scores(pd.DataFrame(test_set, columns = X_test.columns), test_lab_sym)"
   ]
  },
  {
   "cell_type": "code",
   "execution_count": 25,
   "metadata": {},
   "outputs": [
    {
     "name": "stdout",
     "output_type": "stream",
     "text": [
      "603/603 [==============================] - 4s 6ms/step\n",
      "0.09086040253838136\n"
     ]
    }
   ],
   "source": [
    "scores = mav.anomaly_scores(pd.DataFrame(test_set, columns = X_test.columns))\n",
    "fpr, tpr, thresholds = roc_curve(test_lab_sym, scores, pos_label=1)\n",
    "optimal_idx = np.argmax(tpr - fpr)\n",
    "threshold = thresholds[optimal_idx]\n",
    "print(threshold)"
   ]
  },
  {
   "cell_type": "code",
   "execution_count": 26,
   "metadata": {},
   "outputs": [
    {
     "name": "stdout",
     "output_type": "stream",
     "text": [
      "603/603 [==============================] - 4s 6ms/step\n",
      "Maverick Average Prediction Time:  44.646 μs\n",
      "\n",
      "Accuracy:  1.0\n",
      "F1-Score:  1.0\n",
      "MCC:  1.0\n",
      "True Positive Rate (TPR): 1.000\n",
      "True Negative Rate (TNR): 1.000\n",
      "False Positive Rate (FPR): 0.000\n",
      "False Negative Rate (FNR): 0.000\n"
     ]
    }
   ],
   "source": [
    "mav.get_metrics(pd.DataFrame(test_set, columns = X_test.columns), test_lab, threshold=0.09)"
   ]
  },
  {
   "cell_type": "code",
   "execution_count": 13,
   "metadata": {},
   "outputs": [
    {
     "name": "stdout",
     "output_type": "stream",
     "text": [
      "X_train_attack shape: (978184, 66)\n",
      "y_train_attack shape: (978184,)\n"
     ]
    }
   ],
   "source": [
    "X_train_attack = X_train[y_train != 0]\n",
    "y_train_tmp = np.asarray(y_extended)[y_train.index]\n",
    "y_train_attack = y_train_tmp[y_train_tmp != 0]\n",
    "\n",
    "# Print the shapes of the filtered datasets\n",
    "print(f\"X_train_attack shape: {X_train_attack.shape}\")\n",
    "print(f\"y_train_attack shape: {y_train_attack.shape}\")"
   ]
  },
  {
   "cell_type": "markdown",
   "metadata": {},
   "source": [
    "## Detecting the attacker's intentions!"
   ]
  },
  {
   "cell_type": "code",
   "execution_count": 14,
   "metadata": {},
   "outputs": [],
   "source": [
    "import os\n",
    "import pickle\n",
    "import numpy as np\n",
    "import tensorflow as tf\n",
    "from tensorflow.keras.models import Model\n",
    "from tensorflow.keras.layers import Input, Dense\n",
    "from tensorflow.keras.optimizers import Adam\n",
    "from tensorflow.keras.callbacks import EarlyStopping\n",
    "from sklearn.preprocessing import MinMaxScaler\n",
    "\n",
    "autoencoder_dir = \"autoencoders\"\n",
    "os.makedirs(autoencoder_dir, exist_ok=True)\n",
    "\n",
    "label_autoencoders_file = os.path.join(autoencoder_dir, 'label_autoencoders.pkl')\n",
    "label_autoencoders = {}\n",
    "\n",
    "if os.path.exists(label_autoencoders_file):\n",
    "    @tf.keras.utils.register_keras_serializable(package=\"Custom\")\n",
    "    def rmse_loss(y_true, y_pred):\n",
    "        y_true = tf.cast(y_true, tf.float32) \n",
    "        y_pred = tf.cast(y_pred, tf.float32)\n",
    "        return tf.sqrt(tf.reduce_mean(tf.square(y_true - y_pred)))\n",
    "    with open(label_autoencoders_file, 'rb') as f:\n",
    "        label_autoencoders = pickle.load(f)\n",
    "else:\n",
    "    scaler = MinMaxScaler()\n",
    "    X_train_attack_ = scaler.fit_transform(X_train_attack)\n",
    "\n",
    "    input_dim = X_train_attack.shape[1]\n",
    "    encoded_dim = 5\n",
    "\n",
    "    def build_autoencoder(input_dim, encoded_dim):\n",
    "        input_layer = Input(shape=(input_dim,))\n",
    "        encoded = Dense(encoded_dim, activation='relu')(input_layer)\n",
    "        decoded = Dense(input_dim, activation='sigmoid')(encoded)\n",
    "        autoencoder = Model(inputs=input_layer, outputs=decoded)\n",
    "        return autoencoder\n",
    "\n",
    "    def rmse_loss(y_true, y_pred):\n",
    "        y_true = tf.cast(y_true, tf.float32) \n",
    "        y_pred = tf.cast(y_pred, tf.float32)\n",
    "        return tf.sqrt(tf.reduce_mean(tf.square(y_true - y_pred)))\n",
    "\n",
    "    unique_labels = np.unique(y_train_attack)\n",
    "    label_autoencoders = {}\n",
    "    histories = {}\n",
    "\n",
    "    for label in unique_labels:\n",
    "        print(f\"Training autoencoder for label {label}\")\n",
    "        label_data = X_train_attack_[y_train_attack == label]\n",
    "        autoencoder = build_autoencoder(input_dim, encoded_dim)\n",
    "        autoencoder.compile(optimizer=Adam(learning_rate=0.001), loss=rmse_loss)\n",
    "\n",
    "        # Set up EarlyStopping callback\n",
    "        early_stopping = EarlyStopping(monitor='val_loss', patience=7, restore_best_weights=True, min_delta=1e-5)\n",
    "\n",
    "        history = autoencoder.fit(\n",
    "            label_data, label_data, \n",
    "            epochs=250,\n",
    "            batch_size=256,\n",
    "            shuffle=True,\n",
    "            validation_split=0.1,\n",
    "            callbacks=[early_stopping]\n",
    "        )\n",
    "\n",
    "        label_autoencoders[label] = autoencoder\n",
    "        histories[label] = history\n",
    "\n",
    "    with open(os.path.join(autoencoder_dir, 'label_autoencoders.pkl'), 'wb') as f:\n",
    "        pickle.dump(label_autoencoders, f)"
   ]
  },
  {
   "cell_type": "code",
   "execution_count": 21,
   "metadata": {},
   "outputs": [
    {
     "name": "stdout",
     "output_type": "stream",
     "text": [
      "302/302 [==============================] - 1s 3ms/step\n",
      "302/302 [==============================] - 1s 2ms/step\n",
      "302/302 [==============================] - 1s 3ms/step\n"
     ]
    }
   ],
   "source": [
    "unique_labels = np.unique(y_train_attack)\n",
    "\n",
    "scaler_adv = MinMaxScaler()\n",
    "adversarial_examples_ = scaler_adv.fit_transform(adversarial_examples) \n",
    "\n",
    "all_losses = []\n",
    "for label in unique_labels:\n",
    "    autoencoder = label_autoencoders[label]\n",
    "    reconstructed = autoencoder.predict(adversarial_examples_, batch_size=256)\n",
    "    losses = np.sqrt(np.mean((adversarial_examples_ - reconstructed) ** 2, axis=1))\n",
    "    all_losses.append(losses)\n",
    "\n",
    "all_losses = np.array(all_losses).T  # Shape: (num_examples, num_labels)\n",
    "predicted_labels = unique_labels[np.argmin(all_losses, axis=1)]  # Label with lowest loss per example"
   ]
  },
  {
   "cell_type": "code",
   "execution_count": 22,
   "metadata": {},
   "outputs": [
    {
     "name": "stdout",
     "output_type": "stream",
     "text": [
      "Balanced Accuracy: 1.000\n",
      "Precision (macro-average): 1.000\n",
      "Recall (macro-average): 1.000\n",
      "F1 Score (macro-average): 1.000\n"
     ]
    }
   ],
   "source": [
    "from sklearn.metrics import f1_score, precision_score, recall_score, balanced_accuracy_score\n",
    "\n",
    "precision = precision_score(true_labels_extended, predicted_labels, average='macro') \n",
    "recall = recall_score(true_labels_extended, predicted_labels, average='macro') \n",
    "f1 = f1_score(true_labels_extended, predicted_labels, average='macro') \n",
    "balanced_acc = balanced_accuracy_score(true_labels_extended, predicted_labels)\n",
    "\n",
    "print(f\"Balanced Accuracy: {balanced_acc:.3f}\")\n",
    "print(f\"Precision (macro-average): {precision:.3f}\")\n",
    "print(f\"Recall (macro-average): {recall:.3f}\")\n",
    "print(f\"F1 Score (macro-average): {f1:.3f}\")\n"
   ]
  },
  {
   "cell_type": "markdown",
   "metadata": {},
   "source": [
    "# Tuning the ratio of Adversarial:Non-Adversarial Samples for Evaluation"
   ]
  },
  {
   "cell_type": "code",
   "execution_count": 11,
   "metadata": {},
   "outputs": [
    {
     "name": "stdout",
     "output_type": "stream",
     "text": [
      "Ratio (Adv : Non-Adv) - 0 77175\n",
      "302/302 [==============================] - 2s 6ms/step\n",
      "Ratio (Adv : Non-Adv) - 772 76403\n",
      "302/302 [==============================] - 2s 5ms/step\n",
      "Ratio (Adv : Non-Adv) - 1544 75631\n",
      "302/302 [==============================] - 2s 5ms/step\n",
      "Ratio (Adv : Non-Adv) - 2316 74859\n",
      "302/302 [==============================] - 2s 6ms/step\n",
      "Ratio (Adv : Non-Adv) - 3087 74088\n",
      "302/302 [==============================] - 2s 5ms/step\n",
      "Ratio (Adv : Non-Adv) - 3859 73316\n",
      "302/302 [==============================] - 2s 6ms/step\n",
      "Ratio (Adv : Non-Adv) - 4631 72544\n",
      "302/302 [==============================] - 2s 5ms/step\n",
      "Ratio (Adv : Non-Adv) - 5403 71772\n",
      "302/302 [==============================] - 2s 6ms/step\n",
      "Ratio (Adv : Non-Adv) - 6174 71001\n",
      "302/302 [==============================] - 2s 6ms/step\n",
      "Ratio (Adv : Non-Adv) - 6946 70229\n",
      "302/302 [==============================] - 2s 6ms/step\n",
      "Ratio (Adv : Non-Adv) - 7718 69457\n",
      "302/302 [==============================] - 2s 6ms/step\n"
     ]
    }
   ],
   "source": [
    "import math\n",
    "import numpy as np\n",
    "import pandas as pd\n",
    "from sklearn.metrics import precision_score, recall_score, confusion_matrix, accuracy_score, f1_score, matthews_corrcoef, roc_auc_score\n",
    "import plotly.graph_objects as go\n",
    "\n",
    "from plotly.subplots import make_subplots\n",
    "\n",
    "random.seed(42)\n",
    "np.random.seed(42)\n",
    "\n",
    "dataset_name = 'HCRL-CAN-FD'\n",
    "\n",
    "num_samples = len(adversarial_examples)\n",
    "selected_indices = random.sample(range(len(X_test)), num_samples)\n",
    "\n",
    "X_test_ = X_test.iloc[selected_indices].values\n",
    "y_test_ = y_test.iloc[selected_indices].values\n",
    "\n",
    "# Ratios to analyze\n",
    "ratios = [0, 1, 2, 3, 4, 5, 6, 7, 8, 9, 10]\n",
    "\n",
    "# Metrics storage\n",
    "mcc_list, f1score_list, precision_list, recall_list, fpr_list, fnr_list, accuracy_list, auc_list = [], [], [], [], [], [], [], []\n",
    "ratio_labels = []\n",
    "\n",
    "for adv_count in ratios:\n",
    "\n",
    "    # Sampling with fixed seed\n",
    "    np.random.seed(42)\n",
    "\n",
    "    # Sample the indices for original and adversarial examples based on the desired ratio\n",
    "    adv_indices = np.random.choice(len(adversarial_examples), math.ceil((adv_count/100)*len(adversarial_examples)))\n",
    "\n",
    "    np.random.seed(42)\n",
    "    remove_indices = np.random.choice(len(X_test_), len(adv_indices), replace=False)\n",
    "    X_test__ = np.delete(X_test_, remove_indices, axis=0)\n",
    "    y_test__ = np.delete(y_test_, remove_indices, axis=0)\n",
    "    \n",
    "    # Combine the data\n",
    "    combined_data = np.vstack((X_test__, adversarial_examples[adv_indices]))\n",
    "    combined_labels = np.hstack((y_test__, true_labels[adv_indices]))\n",
    "\n",
    "    print(\"Ratio (Adv : Non-Adv) -\", len(adversarial_examples[adv_indices]), len(X_test__))\n",
    "\n",
    "    # Calculate and print ratio\n",
    "    r = adv_count\n",
    "    ratio_labels.append(f\"{r}:{100-r}\")  # Corrected formatting\n",
    "\n",
    "    # Predictions\n",
    "    predictions = mav.predict(pd.DataFrame(combined_data, columns=X_test.columns), threshold=0.09)\n",
    "\n",
    "    # Metrics\n",
    "    mcc = matthews_corrcoef(combined_labels, predictions)\n",
    "    accuracy = accuracy_score(combined_labels, predictions)\n",
    "    f1score = f1_score(combined_labels, predictions)\n",
    "    precision = precision_score(combined_labels, predictions)\n",
    "    recall = recall_score(combined_labels, predictions)\n",
    "    accuracy = accuracy_score(combined_labels, predictions)\n",
    "    auc = roc_auc_score(combined_labels, predictions)\n",
    "\n",
    "    TN, FP, FN, TP = confusion_matrix(combined_labels, predictions).ravel()\n",
    "    fpr = FP / (FP + TN) \n",
    "    fnr = FN / (FN + TP)\n",
    "\n",
    "    # Store metrics\n",
    "    f1score_list.append(f1score)\n",
    "    precision_list.append(precision)\n",
    "    recall_list.append(recall)\n",
    "    fpr_list.append(fpr)\n",
    "    fnr_list.append(fnr)\n",
    "    mcc_list.append(mcc)\n",
    "    accuracy_list.append(accuracy)\n",
    "    auc_list.append(auc)"
   ]
  },
  {
   "cell_type": "code",
   "execution_count": 21,
   "metadata": {},
   "outputs": [
    {
     "data": {
      "application/vnd.plotly.v1+json": {
       "config": {
        "plotlyServerURL": "https://plot.ly"
       },
       "data": [
        {
         "mode": "lines+markers",
         "name": "F1-Score",
         "type": "scatter",
         "x": [
          "0:100",
          "1:99",
          "2:98",
          "3:97",
          "4:96",
          "5:95",
          "6:94",
          "7:93",
          "8:92",
          "9:91",
          "10:90"
         ],
         "xaxis": "x",
         "y": [
          0.9994238303756625,
          0.9994435479383451,
          0.9994609164420485,
          0.9994777795185127,
          0.9994935939636401,
          0.9995085753599685,
          0.9995226958140423,
          0.9995821533033102,
          0.9995933122458202,
          0.9996260037399626,
          0.9996572407883462
         ],
         "yaxis": "y"
        },
        {
         "mode": "lines+markers",
         "name": "Precision",
         "type": "scatter",
         "x": [
          "0:100",
          "1:99",
          "2:98",
          "3:97",
          "4:96",
          "5:95",
          "6:94",
          "7:93",
          "8:92",
          "9:91",
          "10:90"
         ],
         "xaxis": "x2",
         "y": [
          0.9998847129352086,
          0.9998886600233814,
          0.9998921367705749,
          0.9998955122511886,
          0.9998986777445666,
          0.9999016764170886,
          0.9999045026977987,
          0.9999071149916403,
          0.9999095963476925,
          0.9999119757052947,
          0.9999142881631954
         ],
         "yaxis": "y2"
        },
        {
         "mode": "lines+markers",
         "name": "Recall",
         "type": "scatter",
         "x": [
          "0:100",
          "1:99",
          "2:98",
          "3:97",
          "4:96",
          "5:95",
          "6:94",
          "7:93",
          "8:92",
          "9:91",
          "10:90"
         ],
         "xaxis": "x3",
         "y": [
          0.9989633724948168,
          0.9989988319706324,
          0.9990300678952473,
          0.9990603956778201,
          0.9990888382687927,
          0.9991157832686545,
          0.9991411803998282,
          0.9992574027661747,
          0.9992772281700321,
          0.9993401953021905,
          0.9994003255375653
         ],
         "yaxis": "y3"
        },
        {
         "mode": "lines+markers",
         "name": "Accuracy",
         "type": "scatter",
         "x": [
          "0:100",
          "1:99",
          "2:98",
          "3:97",
          "4:96",
          "5:95",
          "6:94",
          "7:93",
          "8:92",
          "9:91",
          "10:90"
         ],
         "xaxis": "x4",
         "y": [
          0.9997408487204406,
          0.9997408487204406,
          0.9997408487204406,
          0.9997408487204406,
          0.9997408487204406,
          0.9997408487204406,
          0.9997408487204406,
          0.9997667638483965,
          0.9997667638483965,
          0.9997797214123745,
          0.9997926789763525
         ],
         "yaxis": "y4"
        },
        {
         "mode": "lines+markers",
         "name": "FPR",
         "type": "scatter",
         "x": [
          "0:100",
          "1:99",
          "2:98",
          "3:97",
          "4:96",
          "5:95",
          "6:94",
          "7:93",
          "8:92",
          "9:91",
          "10:90"
         ],
         "xaxis": "x5",
         "y": [
          0.00003343866512848807,
          0.000033786066626123385,
          0.000034119794598836514,
          0.00003447206039504981,
          0.00003483106931382794,
          0.00003520011264036045,
          0.000035577059911768894,
          0.00003595247083355804,
          0.00003633852974308659,
          0.00003673701805624438,
          0.00003715469356666481
         ],
         "yaxis": "y5"
        },
        {
         "mode": "lines+markers",
         "name": "FNR",
         "type": "scatter",
         "x": [
          "0:100",
          "1:99",
          "2:98",
          "3:97",
          "4:96",
          "5:95",
          "6:94",
          "7:93",
          "8:92",
          "9:91",
          "10:90"
         ],
         "xaxis": "x6",
         "y": [
          0.0010366275051831375,
          0.0010011680293675956,
          0.0009699321047526673,
          0.000939604322179882,
          0.0009111617312072893,
          0.0008842167313454831,
          0.0008588196001717639,
          0.000742597233825304,
          0.000722771829967927,
          0.0006598046978094484,
          0.0005996744624346784
         ],
         "yaxis": "y6"
        },
        {
         "mode": "lines+markers",
         "name": "MCC",
         "type": "scatter",
         "x": [
          "0:100",
          "1:99",
          "2:98",
          "3:97",
          "4:96",
          "5:95",
          "6:94",
          "7:93",
          "8:92",
          "9:91",
          "10:90"
         ],
         "xaxis": "x7",
         "y": [
          0.9992568361420022,
          0.9992748087205047,
          0.9992905018337029,
          0.9993055972835491,
          0.9993196110171726,
          0.9993327420515264,
          0.9993449731278743,
          0.9994204891196343,
          0.9994299079617667,
          0.999469972192753,
          0.999508706462492
         ],
         "yaxis": "y7"
        },
        {
         "mode": "lines+markers",
         "name": "AUC",
         "type": "scatter",
         "x": [
          "0:100",
          "1:99",
          "2:98",
          "3:97",
          "4:96",
          "5:95",
          "6:94",
          "7:93",
          "8:92",
          "9:91",
          "10:90"
         ],
         "xaxis": "x8",
         "y": [
          0.9994649669148442,
          0.9994825229520032,
          0.9994979740503243,
          0.9995129618087125,
          0.9995270035997394,
          0.9995402915780071,
          0.9995528016699583,
          0.9996107251476706,
          0.9996204448201444,
          0.9996517291420671,
          0.9996815854219994
         ],
         "yaxis": "y8"
        }
       ],
       "layout": {
        "annotations": [
         {
          "font": {
           "size": 9
          },
          "showarrow": false,
          "text": "F1-Score",
          "x": 0.11375,
          "xanchor": "center",
          "xref": "paper",
          "y": 1,
          "yanchor": "bottom",
          "yref": "paper"
         },
         {
          "font": {
           "size": 9
          },
          "showarrow": false,
          "text": "Precision",
          "x": 0.37124999999999997,
          "xanchor": "center",
          "xref": "paper",
          "y": 1,
          "yanchor": "bottom",
          "yref": "paper"
         },
         {
          "font": {
           "size": 9
          },
          "showarrow": false,
          "text": "Recall",
          "x": 0.62875,
          "xanchor": "center",
          "xref": "paper",
          "y": 1,
          "yanchor": "bottom",
          "yref": "paper"
         },
         {
          "font": {
           "size": 9
          },
          "showarrow": false,
          "text": "Accuracy",
          "x": 0.88625,
          "xanchor": "center",
          "xref": "paper",
          "y": 1,
          "yanchor": "bottom",
          "yref": "paper"
         },
         {
          "font": {
           "size": 9
          },
          "showarrow": false,
          "text": "FPR",
          "x": 0.11375,
          "xanchor": "center",
          "xref": "paper",
          "y": 0.44,
          "yanchor": "bottom",
          "yref": "paper"
         },
         {
          "font": {
           "size": 9
          },
          "showarrow": false,
          "text": "FNR",
          "x": 0.37124999999999997,
          "xanchor": "center",
          "xref": "paper",
          "y": 0.44,
          "yanchor": "bottom",
          "yref": "paper"
         },
         {
          "font": {
           "size": 9
          },
          "showarrow": false,
          "text": "MCC",
          "x": 0.62875,
          "xanchor": "center",
          "xref": "paper",
          "y": 0.44,
          "yanchor": "bottom",
          "yref": "paper"
         },
         {
          "font": {
           "size": 9
          },
          "showarrow": false,
          "text": "AUC",
          "x": 0.88625,
          "xanchor": "center",
          "xref": "paper",
          "y": 0.44,
          "yanchor": "bottom",
          "yref": "paper"
         }
        ],
        "font": {
         "size": 8
        },
        "height": 300,
        "margin": {
         "b": 10,
         "l": 10,
         "r": 10,
         "t": 40
        },
        "showlegend": false,
        "template": {
         "data": {
          "bar": [
           {
            "error_x": {
             "color": "#2a3f5f"
            },
            "error_y": {
             "color": "#2a3f5f"
            },
            "marker": {
             "line": {
              "color": "#E5ECF6",
              "width": 0.5
             },
             "pattern": {
              "fillmode": "overlay",
              "size": 10,
              "solidity": 0.2
             }
            },
            "type": "bar"
           }
          ],
          "barpolar": [
           {
            "marker": {
             "line": {
              "color": "#E5ECF6",
              "width": 0.5
             },
             "pattern": {
              "fillmode": "overlay",
              "size": 10,
              "solidity": 0.2
             }
            },
            "type": "barpolar"
           }
          ],
          "carpet": [
           {
            "aaxis": {
             "endlinecolor": "#2a3f5f",
             "gridcolor": "white",
             "linecolor": "white",
             "minorgridcolor": "white",
             "startlinecolor": "#2a3f5f"
            },
            "baxis": {
             "endlinecolor": "#2a3f5f",
             "gridcolor": "white",
             "linecolor": "white",
             "minorgridcolor": "white",
             "startlinecolor": "#2a3f5f"
            },
            "type": "carpet"
           }
          ],
          "choropleth": [
           {
            "colorbar": {
             "outlinewidth": 0,
             "ticks": ""
            },
            "type": "choropleth"
           }
          ],
          "contour": [
           {
            "colorbar": {
             "outlinewidth": 0,
             "ticks": ""
            },
            "colorscale": [
             [
              0,
              "#0d0887"
             ],
             [
              0.1111111111111111,
              "#46039f"
             ],
             [
              0.2222222222222222,
              "#7201a8"
             ],
             [
              0.3333333333333333,
              "#9c179e"
             ],
             [
              0.4444444444444444,
              "#bd3786"
             ],
             [
              0.5555555555555556,
              "#d8576b"
             ],
             [
              0.6666666666666666,
              "#ed7953"
             ],
             [
              0.7777777777777778,
              "#fb9f3a"
             ],
             [
              0.8888888888888888,
              "#fdca26"
             ],
             [
              1,
              "#f0f921"
             ]
            ],
            "type": "contour"
           }
          ],
          "contourcarpet": [
           {
            "colorbar": {
             "outlinewidth": 0,
             "ticks": ""
            },
            "type": "contourcarpet"
           }
          ],
          "heatmap": [
           {
            "colorbar": {
             "outlinewidth": 0,
             "ticks": ""
            },
            "colorscale": [
             [
              0,
              "#0d0887"
             ],
             [
              0.1111111111111111,
              "#46039f"
             ],
             [
              0.2222222222222222,
              "#7201a8"
             ],
             [
              0.3333333333333333,
              "#9c179e"
             ],
             [
              0.4444444444444444,
              "#bd3786"
             ],
             [
              0.5555555555555556,
              "#d8576b"
             ],
             [
              0.6666666666666666,
              "#ed7953"
             ],
             [
              0.7777777777777778,
              "#fb9f3a"
             ],
             [
              0.8888888888888888,
              "#fdca26"
             ],
             [
              1,
              "#f0f921"
             ]
            ],
            "type": "heatmap"
           }
          ],
          "heatmapgl": [
           {
            "colorbar": {
             "outlinewidth": 0,
             "ticks": ""
            },
            "colorscale": [
             [
              0,
              "#0d0887"
             ],
             [
              0.1111111111111111,
              "#46039f"
             ],
             [
              0.2222222222222222,
              "#7201a8"
             ],
             [
              0.3333333333333333,
              "#9c179e"
             ],
             [
              0.4444444444444444,
              "#bd3786"
             ],
             [
              0.5555555555555556,
              "#d8576b"
             ],
             [
              0.6666666666666666,
              "#ed7953"
             ],
             [
              0.7777777777777778,
              "#fb9f3a"
             ],
             [
              0.8888888888888888,
              "#fdca26"
             ],
             [
              1,
              "#f0f921"
             ]
            ],
            "type": "heatmapgl"
           }
          ],
          "histogram": [
           {
            "marker": {
             "pattern": {
              "fillmode": "overlay",
              "size": 10,
              "solidity": 0.2
             }
            },
            "type": "histogram"
           }
          ],
          "histogram2d": [
           {
            "colorbar": {
             "outlinewidth": 0,
             "ticks": ""
            },
            "colorscale": [
             [
              0,
              "#0d0887"
             ],
             [
              0.1111111111111111,
              "#46039f"
             ],
             [
              0.2222222222222222,
              "#7201a8"
             ],
             [
              0.3333333333333333,
              "#9c179e"
             ],
             [
              0.4444444444444444,
              "#bd3786"
             ],
             [
              0.5555555555555556,
              "#d8576b"
             ],
             [
              0.6666666666666666,
              "#ed7953"
             ],
             [
              0.7777777777777778,
              "#fb9f3a"
             ],
             [
              0.8888888888888888,
              "#fdca26"
             ],
             [
              1,
              "#f0f921"
             ]
            ],
            "type": "histogram2d"
           }
          ],
          "histogram2dcontour": [
           {
            "colorbar": {
             "outlinewidth": 0,
             "ticks": ""
            },
            "colorscale": [
             [
              0,
              "#0d0887"
             ],
             [
              0.1111111111111111,
              "#46039f"
             ],
             [
              0.2222222222222222,
              "#7201a8"
             ],
             [
              0.3333333333333333,
              "#9c179e"
             ],
             [
              0.4444444444444444,
              "#bd3786"
             ],
             [
              0.5555555555555556,
              "#d8576b"
             ],
             [
              0.6666666666666666,
              "#ed7953"
             ],
             [
              0.7777777777777778,
              "#fb9f3a"
             ],
             [
              0.8888888888888888,
              "#fdca26"
             ],
             [
              1,
              "#f0f921"
             ]
            ],
            "type": "histogram2dcontour"
           }
          ],
          "mesh3d": [
           {
            "colorbar": {
             "outlinewidth": 0,
             "ticks": ""
            },
            "type": "mesh3d"
           }
          ],
          "parcoords": [
           {
            "line": {
             "colorbar": {
              "outlinewidth": 0,
              "ticks": ""
             }
            },
            "type": "parcoords"
           }
          ],
          "pie": [
           {
            "automargin": true,
            "type": "pie"
           }
          ],
          "scatter": [
           {
            "fillpattern": {
             "fillmode": "overlay",
             "size": 10,
             "solidity": 0.2
            },
            "type": "scatter"
           }
          ],
          "scatter3d": [
           {
            "line": {
             "colorbar": {
              "outlinewidth": 0,
              "ticks": ""
             }
            },
            "marker": {
             "colorbar": {
              "outlinewidth": 0,
              "ticks": ""
             }
            },
            "type": "scatter3d"
           }
          ],
          "scattercarpet": [
           {
            "marker": {
             "colorbar": {
              "outlinewidth": 0,
              "ticks": ""
             }
            },
            "type": "scattercarpet"
           }
          ],
          "scattergeo": [
           {
            "marker": {
             "colorbar": {
              "outlinewidth": 0,
              "ticks": ""
             }
            },
            "type": "scattergeo"
           }
          ],
          "scattergl": [
           {
            "marker": {
             "colorbar": {
              "outlinewidth": 0,
              "ticks": ""
             }
            },
            "type": "scattergl"
           }
          ],
          "scattermapbox": [
           {
            "marker": {
             "colorbar": {
              "outlinewidth": 0,
              "ticks": ""
             }
            },
            "type": "scattermapbox"
           }
          ],
          "scatterpolar": [
           {
            "marker": {
             "colorbar": {
              "outlinewidth": 0,
              "ticks": ""
             }
            },
            "type": "scatterpolar"
           }
          ],
          "scatterpolargl": [
           {
            "marker": {
             "colorbar": {
              "outlinewidth": 0,
              "ticks": ""
             }
            },
            "type": "scatterpolargl"
           }
          ],
          "scatterternary": [
           {
            "marker": {
             "colorbar": {
              "outlinewidth": 0,
              "ticks": ""
             }
            },
            "type": "scatterternary"
           }
          ],
          "surface": [
           {
            "colorbar": {
             "outlinewidth": 0,
             "ticks": ""
            },
            "colorscale": [
             [
              0,
              "#0d0887"
             ],
             [
              0.1111111111111111,
              "#46039f"
             ],
             [
              0.2222222222222222,
              "#7201a8"
             ],
             [
              0.3333333333333333,
              "#9c179e"
             ],
             [
              0.4444444444444444,
              "#bd3786"
             ],
             [
              0.5555555555555556,
              "#d8576b"
             ],
             [
              0.6666666666666666,
              "#ed7953"
             ],
             [
              0.7777777777777778,
              "#fb9f3a"
             ],
             [
              0.8888888888888888,
              "#fdca26"
             ],
             [
              1,
              "#f0f921"
             ]
            ],
            "type": "surface"
           }
          ],
          "table": [
           {
            "cells": {
             "fill": {
              "color": "#EBF0F8"
             },
             "line": {
              "color": "white"
             }
            },
            "header": {
             "fill": {
              "color": "#C8D4E3"
             },
             "line": {
              "color": "white"
             }
            },
            "type": "table"
           }
          ]
         },
         "layout": {
          "annotationdefaults": {
           "arrowcolor": "#2a3f5f",
           "arrowhead": 0,
           "arrowwidth": 1
          },
          "autotypenumbers": "strict",
          "coloraxis": {
           "colorbar": {
            "outlinewidth": 0,
            "ticks": ""
           }
          },
          "colorscale": {
           "diverging": [
            [
             0,
             "#8e0152"
            ],
            [
             0.1,
             "#c51b7d"
            ],
            [
             0.2,
             "#de77ae"
            ],
            [
             0.3,
             "#f1b6da"
            ],
            [
             0.4,
             "#fde0ef"
            ],
            [
             0.5,
             "#f7f7f7"
            ],
            [
             0.6,
             "#e6f5d0"
            ],
            [
             0.7,
             "#b8e186"
            ],
            [
             0.8,
             "#7fbc41"
            ],
            [
             0.9,
             "#4d9221"
            ],
            [
             1,
             "#276419"
            ]
           ],
           "sequential": [
            [
             0,
             "#0d0887"
            ],
            [
             0.1111111111111111,
             "#46039f"
            ],
            [
             0.2222222222222222,
             "#7201a8"
            ],
            [
             0.3333333333333333,
             "#9c179e"
            ],
            [
             0.4444444444444444,
             "#bd3786"
            ],
            [
             0.5555555555555556,
             "#d8576b"
            ],
            [
             0.6666666666666666,
             "#ed7953"
            ],
            [
             0.7777777777777778,
             "#fb9f3a"
            ],
            [
             0.8888888888888888,
             "#fdca26"
            ],
            [
             1,
             "#f0f921"
            ]
           ],
           "sequentialminus": [
            [
             0,
             "#0d0887"
            ],
            [
             0.1111111111111111,
             "#46039f"
            ],
            [
             0.2222222222222222,
             "#7201a8"
            ],
            [
             0.3333333333333333,
             "#9c179e"
            ],
            [
             0.4444444444444444,
             "#bd3786"
            ],
            [
             0.5555555555555556,
             "#d8576b"
            ],
            [
             0.6666666666666666,
             "#ed7953"
            ],
            [
             0.7777777777777778,
             "#fb9f3a"
            ],
            [
             0.8888888888888888,
             "#fdca26"
            ],
            [
             1,
             "#f0f921"
            ]
           ]
          },
          "colorway": [
           "#636efa",
           "#EF553B",
           "#00cc96",
           "#ab63fa",
           "#FFA15A",
           "#19d3f3",
           "#FF6692",
           "#B6E880",
           "#FF97FF",
           "#FECB52"
          ],
          "font": {
           "color": "#2a3f5f"
          },
          "geo": {
           "bgcolor": "white",
           "lakecolor": "white",
           "landcolor": "#E5ECF6",
           "showlakes": true,
           "showland": true,
           "subunitcolor": "white"
          },
          "hoverlabel": {
           "align": "left"
          },
          "hovermode": "closest",
          "mapbox": {
           "style": "light"
          },
          "paper_bgcolor": "white",
          "plot_bgcolor": "#E5ECF6",
          "polar": {
           "angularaxis": {
            "gridcolor": "white",
            "linecolor": "white",
            "ticks": ""
           },
           "bgcolor": "#E5ECF6",
           "radialaxis": {
            "gridcolor": "white",
            "linecolor": "white",
            "ticks": ""
           }
          },
          "scene": {
           "xaxis": {
            "backgroundcolor": "#E5ECF6",
            "gridcolor": "white",
            "gridwidth": 2,
            "linecolor": "white",
            "showbackground": true,
            "ticks": "",
            "zerolinecolor": "white"
           },
           "yaxis": {
            "backgroundcolor": "#E5ECF6",
            "gridcolor": "white",
            "gridwidth": 2,
            "linecolor": "white",
            "showbackground": true,
            "ticks": "",
            "zerolinecolor": "white"
           },
           "zaxis": {
            "backgroundcolor": "#E5ECF6",
            "gridcolor": "white",
            "gridwidth": 2,
            "linecolor": "white",
            "showbackground": true,
            "ticks": "",
            "zerolinecolor": "white"
           }
          },
          "shapedefaults": {
           "line": {
            "color": "#2a3f5f"
           }
          },
          "ternary": {
           "aaxis": {
            "gridcolor": "white",
            "linecolor": "white",
            "ticks": ""
           },
           "baxis": {
            "gridcolor": "white",
            "linecolor": "white",
            "ticks": ""
           },
           "bgcolor": "#E5ECF6",
           "caxis": {
            "gridcolor": "white",
            "linecolor": "white",
            "ticks": ""
           }
          },
          "title": {
           "x": 0.05
          },
          "xaxis": {
           "automargin": true,
           "gridcolor": "white",
           "linecolor": "white",
           "ticks": "",
           "title": {
            "standoff": 15
           },
           "zerolinecolor": "white",
           "zerolinewidth": 2
          },
          "yaxis": {
           "automargin": true,
           "gridcolor": "white",
           "linecolor": "white",
           "ticks": "",
           "title": {
            "standoff": 15
           },
           "zerolinecolor": "white",
           "zerolinewidth": 2
          }
         }
        },
        "title": {
         "text": "Varying the ratio of Adversarial to Non-Adversarial Samples during Evaluation for HCRL-CAN-FD (X-axis: Adversarial:Non-Adversarial Ratio, Y-axis: Metric Value)",
         "x": 0.5,
         "xanchor": "center"
        },
        "width": 950,
        "xaxis": {
         "anchor": "y",
         "domain": [
          0,
          0.2275
         ],
         "dtick": 0.1,
         "linecolor": "pink",
         "linewidth": 0.5,
         "mirror": true,
         "tickfont": {
          "size": 5
         },
         "ticklabelposition": "outside",
         "ticklabelstandoff": 2
        },
        "xaxis2": {
         "anchor": "y2",
         "domain": [
          0.2575,
          0.485
         ],
         "dtick": 0.1,
         "linecolor": "pink",
         "linewidth": 0.5,
         "mirror": true,
         "tickfont": {
          "size": 5
         },
         "ticklabelposition": "outside",
         "ticklabelstandoff": 2
        },
        "xaxis3": {
         "anchor": "y3",
         "domain": [
          0.515,
          0.7425
         ],
         "dtick": 0.1,
         "linecolor": "pink",
         "linewidth": 0.5,
         "mirror": true,
         "tickfont": {
          "size": 5
         },
         "ticklabelposition": "outside",
         "ticklabelstandoff": 2
        },
        "xaxis4": {
         "anchor": "y4",
         "domain": [
          0.7725,
          1
         ],
         "dtick": 0.1,
         "linecolor": "pink",
         "linewidth": 0.5,
         "mirror": true,
         "tickfont": {
          "size": 5
         },
         "ticklabelposition": "outside",
         "ticklabelstandoff": 2
        },
        "xaxis5": {
         "anchor": "y5",
         "domain": [
          0,
          0.2275
         ],
         "dtick": 0.1,
         "linecolor": "pink",
         "linewidth": 0.5,
         "mirror": true,
         "tickfont": {
          "size": 5
         },
         "ticklabelposition": "outside",
         "ticklabelstandoff": 2
        },
        "xaxis6": {
         "anchor": "y6",
         "domain": [
          0.2575,
          0.485
         ],
         "dtick": 0.1,
         "linecolor": "pink",
         "linewidth": 0.5,
         "mirror": true,
         "tickfont": {
          "size": 5
         },
         "ticklabelposition": "outside",
         "ticklabelstandoff": 2
        },
        "xaxis7": {
         "anchor": "y7",
         "domain": [
          0.515,
          0.7425
         ],
         "dtick": 0.1,
         "linecolor": "pink",
         "linewidth": 0.5,
         "mirror": true,
         "tickfont": {
          "size": 5
         },
         "ticklabelposition": "outside",
         "ticklabelstandoff": 2
        },
        "xaxis8": {
         "anchor": "y8",
         "domain": [
          0.7725,
          1
         ],
         "dtick": 0.1,
         "linecolor": "pink",
         "linewidth": 0.5,
         "mirror": true,
         "tickfont": {
          "size": 5
         },
         "ticklabelposition": "outside",
         "ticklabelstandoff": 2
        },
        "yaxis": {
         "anchor": "x",
         "domain": [
          0.56,
          1
         ],
         "dtick": 0.25,
         "linecolor": "pink",
         "linewidth": 0.5,
         "mirror": true,
         "range": [
          0,
          1.05
         ],
         "tickfont": {
          "size": 5
         },
         "ticklabelposition": "outside",
         "ticklabelstandoff": 2,
         "zeroline": true
        },
        "yaxis2": {
         "anchor": "x2",
         "domain": [
          0.56,
          1
         ],
         "dtick": 0.25,
         "linecolor": "pink",
         "linewidth": 0.5,
         "mirror": true,
         "range": [
          0,
          1.05
         ],
         "tickfont": {
          "size": 5
         },
         "ticklabelposition": "outside",
         "ticklabelstandoff": 2,
         "zeroline": true
        },
        "yaxis3": {
         "anchor": "x3",
         "domain": [
          0.56,
          1
         ],
         "dtick": 0.25,
         "linecolor": "pink",
         "linewidth": 0.5,
         "mirror": true,
         "range": [
          0,
          1.05
         ],
         "tickfont": {
          "size": 5
         },
         "ticklabelposition": "outside",
         "ticklabelstandoff": 2,
         "zeroline": true
        },
        "yaxis4": {
         "anchor": "x4",
         "domain": [
          0.56,
          1
         ],
         "dtick": 0.25,
         "linecolor": "pink",
         "linewidth": 0.5,
         "mirror": true,
         "range": [
          0,
          1.05
         ],
         "tickfont": {
          "size": 5
         },
         "ticklabelposition": "outside",
         "ticklabelstandoff": 2,
         "zeroline": true
        },
        "yaxis5": {
         "anchor": "x5",
         "domain": [
          0,
          0.44
         ],
         "dtick": 0.25,
         "linecolor": "pink",
         "linewidth": 0.5,
         "mirror": true,
         "range": [
          -0.05,
          1
         ],
         "tickfont": {
          "size": 5
         },
         "ticklabelposition": "outside",
         "ticklabelstandoff": 2,
         "zeroline": false
        },
        "yaxis6": {
         "anchor": "x6",
         "domain": [
          0,
          0.44
         ],
         "dtick": 0.25,
         "linecolor": "pink",
         "linewidth": 0.5,
         "mirror": true,
         "range": [
          -0.05,
          1
         ],
         "tickfont": {
          "size": 5
         },
         "ticklabelposition": "outside",
         "ticklabelstandoff": 2,
         "zeroline": false
        },
        "yaxis7": {
         "anchor": "x7",
         "domain": [
          0,
          0.44
         ],
         "dtick": 0.5,
         "linecolor": "pink",
         "linewidth": 0.5,
         "mirror": true,
         "range": [
          -1,
          1.1
         ],
         "tickfont": {
          "size": 5
         },
         "ticklabelposition": "outside",
         "ticklabelstandoff": 2,
         "zeroline": false
        },
        "yaxis8": {
         "anchor": "x8",
         "domain": [
          0,
          0.44
         ],
         "dtick": 0.25,
         "linecolor": "pink",
         "linewidth": 0.5,
         "mirror": true,
         "range": [
          0,
          1.05
         ],
         "tickfont": {
          "size": 5
         },
         "ticklabelposition": "outside",
         "ticklabelstandoff": 2,
         "zeroline": true
        }
       }
      },
      "text/html": [
       "<div>                            <div id=\"908b1022-ea6e-4fc0-b68c-59bff69d1916\" class=\"plotly-graph-div\" style=\"height:300px; width:950px;\"></div>            <script type=\"text/javascript\">                require([\"plotly\"], function(Plotly) {                    window.PLOTLYENV=window.PLOTLYENV || {};                                    if (document.getElementById(\"908b1022-ea6e-4fc0-b68c-59bff69d1916\")) {                    Plotly.newPlot(                        \"908b1022-ea6e-4fc0-b68c-59bff69d1916\",                        [{\"mode\":\"lines+markers\",\"name\":\"F1-Score\",\"x\":[\"0:100\",\"1:99\",\"2:98\",\"3:97\",\"4:96\",\"5:95\",\"6:94\",\"7:93\",\"8:92\",\"9:91\",\"10:90\"],\"y\":[0.9994238303756625,0.9994435479383451,0.9994609164420485,0.9994777795185127,0.9994935939636401,0.9995085753599685,0.9995226958140423,0.9995821533033102,0.9995933122458202,0.9996260037399626,0.9996572407883462],\"type\":\"scatter\",\"xaxis\":\"x\",\"yaxis\":\"y\"},{\"mode\":\"lines+markers\",\"name\":\"Precision\",\"x\":[\"0:100\",\"1:99\",\"2:98\",\"3:97\",\"4:96\",\"5:95\",\"6:94\",\"7:93\",\"8:92\",\"9:91\",\"10:90\"],\"y\":[0.9998847129352086,0.9998886600233814,0.9998921367705749,0.9998955122511886,0.9998986777445666,0.9999016764170886,0.9999045026977987,0.9999071149916403,0.9999095963476925,0.9999119757052947,0.9999142881631954],\"type\":\"scatter\",\"xaxis\":\"x2\",\"yaxis\":\"y2\"},{\"mode\":\"lines+markers\",\"name\":\"Recall\",\"x\":[\"0:100\",\"1:99\",\"2:98\",\"3:97\",\"4:96\",\"5:95\",\"6:94\",\"7:93\",\"8:92\",\"9:91\",\"10:90\"],\"y\":[0.9989633724948168,0.9989988319706324,0.9990300678952473,0.9990603956778201,0.9990888382687927,0.9991157832686545,0.9991411803998282,0.9992574027661747,0.9992772281700321,0.9993401953021905,0.9994003255375653],\"type\":\"scatter\",\"xaxis\":\"x3\",\"yaxis\":\"y3\"},{\"mode\":\"lines+markers\",\"name\":\"Accuracy\",\"x\":[\"0:100\",\"1:99\",\"2:98\",\"3:97\",\"4:96\",\"5:95\",\"6:94\",\"7:93\",\"8:92\",\"9:91\",\"10:90\"],\"y\":[0.9997408487204406,0.9997408487204406,0.9997408487204406,0.9997408487204406,0.9997408487204406,0.9997408487204406,0.9997408487204406,0.9997667638483965,0.9997667638483965,0.9997797214123745,0.9997926789763525],\"type\":\"scatter\",\"xaxis\":\"x4\",\"yaxis\":\"y4\"},{\"mode\":\"lines+markers\",\"name\":\"FPR\",\"x\":[\"0:100\",\"1:99\",\"2:98\",\"3:97\",\"4:96\",\"5:95\",\"6:94\",\"7:93\",\"8:92\",\"9:91\",\"10:90\"],\"y\":[3.343866512848807e-05,3.3786066626123385e-05,3.4119794598836514e-05,3.447206039504981e-05,3.483106931382794e-05,3.520011264036045e-05,3.5577059911768894e-05,3.595247083355804e-05,3.633852974308659e-05,3.673701805624438e-05,3.715469356666481e-05],\"type\":\"scatter\",\"xaxis\":\"x5\",\"yaxis\":\"y5\"},{\"mode\":\"lines+markers\",\"name\":\"FNR\",\"x\":[\"0:100\",\"1:99\",\"2:98\",\"3:97\",\"4:96\",\"5:95\",\"6:94\",\"7:93\",\"8:92\",\"9:91\",\"10:90\"],\"y\":[0.0010366275051831375,0.0010011680293675956,0.0009699321047526673,0.000939604322179882,0.0009111617312072893,0.0008842167313454831,0.0008588196001717639,0.000742597233825304,0.000722771829967927,0.0006598046978094484,0.0005996744624346784],\"type\":\"scatter\",\"xaxis\":\"x6\",\"yaxis\":\"y6\"},{\"mode\":\"lines+markers\",\"name\":\"MCC\",\"x\":[\"0:100\",\"1:99\",\"2:98\",\"3:97\",\"4:96\",\"5:95\",\"6:94\",\"7:93\",\"8:92\",\"9:91\",\"10:90\"],\"y\":[0.9992568361420022,0.9992748087205047,0.9992905018337029,0.9993055972835491,0.9993196110171726,0.9993327420515264,0.9993449731278743,0.9994204891196343,0.9994299079617667,0.999469972192753,0.999508706462492],\"type\":\"scatter\",\"xaxis\":\"x7\",\"yaxis\":\"y7\"},{\"mode\":\"lines+markers\",\"name\":\"AUC\",\"x\":[\"0:100\",\"1:99\",\"2:98\",\"3:97\",\"4:96\",\"5:95\",\"6:94\",\"7:93\",\"8:92\",\"9:91\",\"10:90\"],\"y\":[0.9994649669148442,0.9994825229520032,0.9994979740503243,0.9995129618087125,0.9995270035997394,0.9995402915780071,0.9995528016699583,0.9996107251476706,0.9996204448201444,0.9996517291420671,0.9996815854219994],\"type\":\"scatter\",\"xaxis\":\"x8\",\"yaxis\":\"y8\"}],                        {\"template\":{\"data\":{\"histogram2dcontour\":[{\"type\":\"histogram2dcontour\",\"colorbar\":{\"outlinewidth\":0,\"ticks\":\"\"},\"colorscale\":[[0.0,\"#0d0887\"],[0.1111111111111111,\"#46039f\"],[0.2222222222222222,\"#7201a8\"],[0.3333333333333333,\"#9c179e\"],[0.4444444444444444,\"#bd3786\"],[0.5555555555555556,\"#d8576b\"],[0.6666666666666666,\"#ed7953\"],[0.7777777777777778,\"#fb9f3a\"],[0.8888888888888888,\"#fdca26\"],[1.0,\"#f0f921\"]]}],\"choropleth\":[{\"type\":\"choropleth\",\"colorbar\":{\"outlinewidth\":0,\"ticks\":\"\"}}],\"histogram2d\":[{\"type\":\"histogram2d\",\"colorbar\":{\"outlinewidth\":0,\"ticks\":\"\"},\"colorscale\":[[0.0,\"#0d0887\"],[0.1111111111111111,\"#46039f\"],[0.2222222222222222,\"#7201a8\"],[0.3333333333333333,\"#9c179e\"],[0.4444444444444444,\"#bd3786\"],[0.5555555555555556,\"#d8576b\"],[0.6666666666666666,\"#ed7953\"],[0.7777777777777778,\"#fb9f3a\"],[0.8888888888888888,\"#fdca26\"],[1.0,\"#f0f921\"]]}],\"heatmap\":[{\"type\":\"heatmap\",\"colorbar\":{\"outlinewidth\":0,\"ticks\":\"\"},\"colorscale\":[[0.0,\"#0d0887\"],[0.1111111111111111,\"#46039f\"],[0.2222222222222222,\"#7201a8\"],[0.3333333333333333,\"#9c179e\"],[0.4444444444444444,\"#bd3786\"],[0.5555555555555556,\"#d8576b\"],[0.6666666666666666,\"#ed7953\"],[0.7777777777777778,\"#fb9f3a\"],[0.8888888888888888,\"#fdca26\"],[1.0,\"#f0f921\"]]}],\"heatmapgl\":[{\"type\":\"heatmapgl\",\"colorbar\":{\"outlinewidth\":0,\"ticks\":\"\"},\"colorscale\":[[0.0,\"#0d0887\"],[0.1111111111111111,\"#46039f\"],[0.2222222222222222,\"#7201a8\"],[0.3333333333333333,\"#9c179e\"],[0.4444444444444444,\"#bd3786\"],[0.5555555555555556,\"#d8576b\"],[0.6666666666666666,\"#ed7953\"],[0.7777777777777778,\"#fb9f3a\"],[0.8888888888888888,\"#fdca26\"],[1.0,\"#f0f921\"]]}],\"contourcarpet\":[{\"type\":\"contourcarpet\",\"colorbar\":{\"outlinewidth\":0,\"ticks\":\"\"}}],\"contour\":[{\"type\":\"contour\",\"colorbar\":{\"outlinewidth\":0,\"ticks\":\"\"},\"colorscale\":[[0.0,\"#0d0887\"],[0.1111111111111111,\"#46039f\"],[0.2222222222222222,\"#7201a8\"],[0.3333333333333333,\"#9c179e\"],[0.4444444444444444,\"#bd3786\"],[0.5555555555555556,\"#d8576b\"],[0.6666666666666666,\"#ed7953\"],[0.7777777777777778,\"#fb9f3a\"],[0.8888888888888888,\"#fdca26\"],[1.0,\"#f0f921\"]]}],\"surface\":[{\"type\":\"surface\",\"colorbar\":{\"outlinewidth\":0,\"ticks\":\"\"},\"colorscale\":[[0.0,\"#0d0887\"],[0.1111111111111111,\"#46039f\"],[0.2222222222222222,\"#7201a8\"],[0.3333333333333333,\"#9c179e\"],[0.4444444444444444,\"#bd3786\"],[0.5555555555555556,\"#d8576b\"],[0.6666666666666666,\"#ed7953\"],[0.7777777777777778,\"#fb9f3a\"],[0.8888888888888888,\"#fdca26\"],[1.0,\"#f0f921\"]]}],\"mesh3d\":[{\"type\":\"mesh3d\",\"colorbar\":{\"outlinewidth\":0,\"ticks\":\"\"}}],\"scatter\":[{\"fillpattern\":{\"fillmode\":\"overlay\",\"size\":10,\"solidity\":0.2},\"type\":\"scatter\"}],\"parcoords\":[{\"type\":\"parcoords\",\"line\":{\"colorbar\":{\"outlinewidth\":0,\"ticks\":\"\"}}}],\"scatterpolargl\":[{\"type\":\"scatterpolargl\",\"marker\":{\"colorbar\":{\"outlinewidth\":0,\"ticks\":\"\"}}}],\"bar\":[{\"error_x\":{\"color\":\"#2a3f5f\"},\"error_y\":{\"color\":\"#2a3f5f\"},\"marker\":{\"line\":{\"color\":\"#E5ECF6\",\"width\":0.5},\"pattern\":{\"fillmode\":\"overlay\",\"size\":10,\"solidity\":0.2}},\"type\":\"bar\"}],\"scattergeo\":[{\"type\":\"scattergeo\",\"marker\":{\"colorbar\":{\"outlinewidth\":0,\"ticks\":\"\"}}}],\"scatterpolar\":[{\"type\":\"scatterpolar\",\"marker\":{\"colorbar\":{\"outlinewidth\":0,\"ticks\":\"\"}}}],\"histogram\":[{\"marker\":{\"pattern\":{\"fillmode\":\"overlay\",\"size\":10,\"solidity\":0.2}},\"type\":\"histogram\"}],\"scattergl\":[{\"type\":\"scattergl\",\"marker\":{\"colorbar\":{\"outlinewidth\":0,\"ticks\":\"\"}}}],\"scatter3d\":[{\"type\":\"scatter3d\",\"line\":{\"colorbar\":{\"outlinewidth\":0,\"ticks\":\"\"}},\"marker\":{\"colorbar\":{\"outlinewidth\":0,\"ticks\":\"\"}}}],\"scattermapbox\":[{\"type\":\"scattermapbox\",\"marker\":{\"colorbar\":{\"outlinewidth\":0,\"ticks\":\"\"}}}],\"scatterternary\":[{\"type\":\"scatterternary\",\"marker\":{\"colorbar\":{\"outlinewidth\":0,\"ticks\":\"\"}}}],\"scattercarpet\":[{\"type\":\"scattercarpet\",\"marker\":{\"colorbar\":{\"outlinewidth\":0,\"ticks\":\"\"}}}],\"carpet\":[{\"aaxis\":{\"endlinecolor\":\"#2a3f5f\",\"gridcolor\":\"white\",\"linecolor\":\"white\",\"minorgridcolor\":\"white\",\"startlinecolor\":\"#2a3f5f\"},\"baxis\":{\"endlinecolor\":\"#2a3f5f\",\"gridcolor\":\"white\",\"linecolor\":\"white\",\"minorgridcolor\":\"white\",\"startlinecolor\":\"#2a3f5f\"},\"type\":\"carpet\"}],\"table\":[{\"cells\":{\"fill\":{\"color\":\"#EBF0F8\"},\"line\":{\"color\":\"white\"}},\"header\":{\"fill\":{\"color\":\"#C8D4E3\"},\"line\":{\"color\":\"white\"}},\"type\":\"table\"}],\"barpolar\":[{\"marker\":{\"line\":{\"color\":\"#E5ECF6\",\"width\":0.5},\"pattern\":{\"fillmode\":\"overlay\",\"size\":10,\"solidity\":0.2}},\"type\":\"barpolar\"}],\"pie\":[{\"automargin\":true,\"type\":\"pie\"}]},\"layout\":{\"autotypenumbers\":\"strict\",\"colorway\":[\"#636efa\",\"#EF553B\",\"#00cc96\",\"#ab63fa\",\"#FFA15A\",\"#19d3f3\",\"#FF6692\",\"#B6E880\",\"#FF97FF\",\"#FECB52\"],\"font\":{\"color\":\"#2a3f5f\"},\"hovermode\":\"closest\",\"hoverlabel\":{\"align\":\"left\"},\"paper_bgcolor\":\"white\",\"plot_bgcolor\":\"#E5ECF6\",\"polar\":{\"bgcolor\":\"#E5ECF6\",\"angularaxis\":{\"gridcolor\":\"white\",\"linecolor\":\"white\",\"ticks\":\"\"},\"radialaxis\":{\"gridcolor\":\"white\",\"linecolor\":\"white\",\"ticks\":\"\"}},\"ternary\":{\"bgcolor\":\"#E5ECF6\",\"aaxis\":{\"gridcolor\":\"white\",\"linecolor\":\"white\",\"ticks\":\"\"},\"baxis\":{\"gridcolor\":\"white\",\"linecolor\":\"white\",\"ticks\":\"\"},\"caxis\":{\"gridcolor\":\"white\",\"linecolor\":\"white\",\"ticks\":\"\"}},\"coloraxis\":{\"colorbar\":{\"outlinewidth\":0,\"ticks\":\"\"}},\"colorscale\":{\"sequential\":[[0.0,\"#0d0887\"],[0.1111111111111111,\"#46039f\"],[0.2222222222222222,\"#7201a8\"],[0.3333333333333333,\"#9c179e\"],[0.4444444444444444,\"#bd3786\"],[0.5555555555555556,\"#d8576b\"],[0.6666666666666666,\"#ed7953\"],[0.7777777777777778,\"#fb9f3a\"],[0.8888888888888888,\"#fdca26\"],[1.0,\"#f0f921\"]],\"sequentialminus\":[[0.0,\"#0d0887\"],[0.1111111111111111,\"#46039f\"],[0.2222222222222222,\"#7201a8\"],[0.3333333333333333,\"#9c179e\"],[0.4444444444444444,\"#bd3786\"],[0.5555555555555556,\"#d8576b\"],[0.6666666666666666,\"#ed7953\"],[0.7777777777777778,\"#fb9f3a\"],[0.8888888888888888,\"#fdca26\"],[1.0,\"#f0f921\"]],\"diverging\":[[0,\"#8e0152\"],[0.1,\"#c51b7d\"],[0.2,\"#de77ae\"],[0.3,\"#f1b6da\"],[0.4,\"#fde0ef\"],[0.5,\"#f7f7f7\"],[0.6,\"#e6f5d0\"],[0.7,\"#b8e186\"],[0.8,\"#7fbc41\"],[0.9,\"#4d9221\"],[1,\"#276419\"]]},\"xaxis\":{\"gridcolor\":\"white\",\"linecolor\":\"white\",\"ticks\":\"\",\"title\":{\"standoff\":15},\"zerolinecolor\":\"white\",\"automargin\":true,\"zerolinewidth\":2},\"yaxis\":{\"gridcolor\":\"white\",\"linecolor\":\"white\",\"ticks\":\"\",\"title\":{\"standoff\":15},\"zerolinecolor\":\"white\",\"automargin\":true,\"zerolinewidth\":2},\"scene\":{\"xaxis\":{\"backgroundcolor\":\"#E5ECF6\",\"gridcolor\":\"white\",\"linecolor\":\"white\",\"showbackground\":true,\"ticks\":\"\",\"zerolinecolor\":\"white\",\"gridwidth\":2},\"yaxis\":{\"backgroundcolor\":\"#E5ECF6\",\"gridcolor\":\"white\",\"linecolor\":\"white\",\"showbackground\":true,\"ticks\":\"\",\"zerolinecolor\":\"white\",\"gridwidth\":2},\"zaxis\":{\"backgroundcolor\":\"#E5ECF6\",\"gridcolor\":\"white\",\"linecolor\":\"white\",\"showbackground\":true,\"ticks\":\"\",\"zerolinecolor\":\"white\",\"gridwidth\":2}},\"shapedefaults\":{\"line\":{\"color\":\"#2a3f5f\"}},\"annotationdefaults\":{\"arrowcolor\":\"#2a3f5f\",\"arrowhead\":0,\"arrowwidth\":1},\"geo\":{\"bgcolor\":\"white\",\"landcolor\":\"#E5ECF6\",\"subunitcolor\":\"white\",\"showland\":true,\"showlakes\":true,\"lakecolor\":\"white\"},\"title\":{\"x\":0.05},\"mapbox\":{\"style\":\"light\"}}},\"xaxis\":{\"anchor\":\"y\",\"domain\":[0.0,0.2275],\"tickfont\":{\"size\":5},\"linewidth\":0.5,\"linecolor\":\"pink\",\"mirror\":true,\"ticklabelposition\":\"outside\",\"ticklabelstandoff\":2,\"dtick\":0.1},\"yaxis\":{\"anchor\":\"x\",\"domain\":[0.56,1.0],\"range\":[0,1.05],\"zeroline\":true,\"dtick\":0.25,\"tickfont\":{\"size\":5},\"linewidth\":0.5,\"linecolor\":\"pink\",\"mirror\":true,\"ticklabelposition\":\"outside\",\"ticklabelstandoff\":2},\"xaxis2\":{\"anchor\":\"y2\",\"domain\":[0.2575,0.485],\"tickfont\":{\"size\":5},\"linewidth\":0.5,\"linecolor\":\"pink\",\"mirror\":true,\"ticklabelposition\":\"outside\",\"ticklabelstandoff\":2,\"dtick\":0.1},\"yaxis2\":{\"anchor\":\"x2\",\"domain\":[0.56,1.0],\"range\":[0,1.05],\"zeroline\":true,\"dtick\":0.25,\"tickfont\":{\"size\":5},\"linewidth\":0.5,\"linecolor\":\"pink\",\"mirror\":true,\"ticklabelposition\":\"outside\",\"ticklabelstandoff\":2},\"xaxis3\":{\"anchor\":\"y3\",\"domain\":[0.515,0.7425],\"tickfont\":{\"size\":5},\"linewidth\":0.5,\"linecolor\":\"pink\",\"mirror\":true,\"ticklabelposition\":\"outside\",\"ticklabelstandoff\":2,\"dtick\":0.1},\"yaxis3\":{\"anchor\":\"x3\",\"domain\":[0.56,1.0],\"range\":[0,1.05],\"zeroline\":true,\"dtick\":0.25,\"tickfont\":{\"size\":5},\"linewidth\":0.5,\"linecolor\":\"pink\",\"mirror\":true,\"ticklabelposition\":\"outside\",\"ticklabelstandoff\":2},\"xaxis4\":{\"anchor\":\"y4\",\"domain\":[0.7725,1.0],\"tickfont\":{\"size\":5},\"linewidth\":0.5,\"linecolor\":\"pink\",\"mirror\":true,\"ticklabelposition\":\"outside\",\"ticklabelstandoff\":2,\"dtick\":0.1},\"yaxis4\":{\"anchor\":\"x4\",\"domain\":[0.56,1.0],\"range\":[0,1.05],\"zeroline\":true,\"dtick\":0.25,\"tickfont\":{\"size\":5},\"linewidth\":0.5,\"linecolor\":\"pink\",\"mirror\":true,\"ticklabelposition\":\"outside\",\"ticklabelstandoff\":2},\"xaxis5\":{\"anchor\":\"y5\",\"domain\":[0.0,0.2275],\"tickfont\":{\"size\":5},\"linewidth\":0.5,\"linecolor\":\"pink\",\"mirror\":true,\"ticklabelposition\":\"outside\",\"ticklabelstandoff\":2,\"dtick\":0.1},\"yaxis5\":{\"anchor\":\"x5\",\"domain\":[0.0,0.44],\"range\":[-0.05,1],\"zeroline\":false,\"dtick\":0.25,\"tickfont\":{\"size\":5},\"linewidth\":0.5,\"linecolor\":\"pink\",\"mirror\":true,\"ticklabelposition\":\"outside\",\"ticklabelstandoff\":2},\"xaxis6\":{\"anchor\":\"y6\",\"domain\":[0.2575,0.485],\"tickfont\":{\"size\":5},\"linewidth\":0.5,\"linecolor\":\"pink\",\"mirror\":true,\"ticklabelposition\":\"outside\",\"ticklabelstandoff\":2,\"dtick\":0.1},\"yaxis6\":{\"anchor\":\"x6\",\"domain\":[0.0,0.44],\"range\":[-0.05,1],\"zeroline\":false,\"dtick\":0.25,\"tickfont\":{\"size\":5},\"linewidth\":0.5,\"linecolor\":\"pink\",\"mirror\":true,\"ticklabelposition\":\"outside\",\"ticklabelstandoff\":2},\"xaxis7\":{\"anchor\":\"y7\",\"domain\":[0.515,0.7425],\"tickfont\":{\"size\":5},\"linewidth\":0.5,\"linecolor\":\"pink\",\"mirror\":true,\"ticklabelposition\":\"outside\",\"ticklabelstandoff\":2,\"dtick\":0.1},\"yaxis7\":{\"anchor\":\"x7\",\"domain\":[0.0,0.44],\"range\":[-1,1.1],\"zeroline\":false,\"dtick\":0.5,\"tickfont\":{\"size\":5},\"linewidth\":0.5,\"linecolor\":\"pink\",\"mirror\":true,\"ticklabelposition\":\"outside\",\"ticklabelstandoff\":2},\"xaxis8\":{\"anchor\":\"y8\",\"domain\":[0.7725,1.0],\"tickfont\":{\"size\":5},\"linewidth\":0.5,\"linecolor\":\"pink\",\"mirror\":true,\"ticklabelposition\":\"outside\",\"ticklabelstandoff\":2,\"dtick\":0.1},\"yaxis8\":{\"anchor\":\"x8\",\"domain\":[0.0,0.44],\"range\":[0,1.05],\"zeroline\":true,\"dtick\":0.25,\"tickfont\":{\"size\":5},\"linewidth\":0.5,\"linecolor\":\"pink\",\"mirror\":true,\"ticklabelposition\":\"outside\",\"ticklabelstandoff\":2},\"annotations\":[{\"font\":{\"size\":9},\"showarrow\":false,\"text\":\"F1-Score\",\"x\":0.11375,\"xanchor\":\"center\",\"xref\":\"paper\",\"y\":1.0,\"yanchor\":\"bottom\",\"yref\":\"paper\"},{\"font\":{\"size\":9},\"showarrow\":false,\"text\":\"Precision\",\"x\":0.37124999999999997,\"xanchor\":\"center\",\"xref\":\"paper\",\"y\":1.0,\"yanchor\":\"bottom\",\"yref\":\"paper\"},{\"font\":{\"size\":9},\"showarrow\":false,\"text\":\"Recall\",\"x\":0.62875,\"xanchor\":\"center\",\"xref\":\"paper\",\"y\":1.0,\"yanchor\":\"bottom\",\"yref\":\"paper\"},{\"font\":{\"size\":9},\"showarrow\":false,\"text\":\"Accuracy\",\"x\":0.88625,\"xanchor\":\"center\",\"xref\":\"paper\",\"y\":1.0,\"yanchor\":\"bottom\",\"yref\":\"paper\"},{\"font\":{\"size\":9},\"showarrow\":false,\"text\":\"FPR\",\"x\":0.11375,\"xanchor\":\"center\",\"xref\":\"paper\",\"y\":0.44,\"yanchor\":\"bottom\",\"yref\":\"paper\"},{\"font\":{\"size\":9},\"showarrow\":false,\"text\":\"FNR\",\"x\":0.37124999999999997,\"xanchor\":\"center\",\"xref\":\"paper\",\"y\":0.44,\"yanchor\":\"bottom\",\"yref\":\"paper\"},{\"font\":{\"size\":9},\"showarrow\":false,\"text\":\"MCC\",\"x\":0.62875,\"xanchor\":\"center\",\"xref\":\"paper\",\"y\":0.44,\"yanchor\":\"bottom\",\"yref\":\"paper\"},{\"font\":{\"size\":9},\"showarrow\":false,\"text\":\"AUC\",\"x\":0.88625,\"xanchor\":\"center\",\"xref\":\"paper\",\"y\":0.44,\"yanchor\":\"bottom\",\"yref\":\"paper\"}],\"title\":{\"text\":\"Varying the ratio of Adversarial to Non-Adversarial Samples during Evaluation for HCRL-CAN-FD (X-axis: Adversarial:Non-Adversarial Ratio, Y-axis: Metric Value)\",\"x\":0.5,\"xanchor\":\"center\"},\"margin\":{\"l\":10,\"r\":10,\"t\":40,\"b\":10},\"font\":{\"size\":8},\"height\":300,\"width\":950,\"showlegend\":false},                        {\"responsive\": true}                    ).then(function(){\n",
       "                            \n",
       "var gd = document.getElementById('908b1022-ea6e-4fc0-b68c-59bff69d1916');\n",
       "var x = new MutationObserver(function (mutations, observer) {{\n",
       "        var display = window.getComputedStyle(gd).display;\n",
       "        if (!display || display === 'none') {{\n",
       "            console.log([gd, 'removed!']);\n",
       "            Plotly.purge(gd);\n",
       "            observer.disconnect();\n",
       "        }}\n",
       "}});\n",
       "\n",
       "// Listen for the removal of the full notebook cells\n",
       "var notebookContainer = gd.closest('#notebook-container');\n",
       "if (notebookContainer) {{\n",
       "    x.observe(notebookContainer, {childList: true});\n",
       "}}\n",
       "\n",
       "// Listen for the clearing of the current output cell\n",
       "var outputEl = gd.closest('.output');\n",
       "if (outputEl) {{\n",
       "    x.observe(outputEl, {childList: true});\n",
       "}}\n",
       "\n",
       "                        })                };                });            </script>        </div>"
      ]
     },
     "metadata": {},
     "output_type": "display_data"
    }
   ],
   "source": [
    "# Creating subplots\n",
    "fig = make_subplots(\n",
    "    rows=2, cols=4, \n",
    "    subplot_titles=(\"F1-Score\", \"Precision\", \"Recall\", \"Accuracy\", \"FPR\", \"FNR\", \"MCC\", \"AUC\"),\n",
    "    horizontal_spacing=0.03, vertical_spacing=0.12\n",
    ")\n",
    "\n",
    "# Adding traces\n",
    "fig.add_trace(go.Scatter(x=ratio_labels, y=f1score_list, mode='lines+markers', name='F1-Score'), row=1, col=1)\n",
    "fig.add_trace(go.Scatter(x=ratio_labels, y=precision_list, mode='lines+markers', name='Precision'), row=1, col=2)\n",
    "fig.add_trace(go.Scatter(x=ratio_labels, y=recall_list, mode='lines+markers', name='Recall'), row=1, col=3)\n",
    "fig.add_trace(go.Scatter(x=ratio_labels, y=accuracy_list, mode='lines+markers', name='Accuracy'), row=1, col=4)\n",
    "fig.add_trace(go.Scatter(x=ratio_labels, y=fpr_list, mode='lines+markers', name='FPR'), row=2, col=1)\n",
    "fig.add_trace(go.Scatter(x=ratio_labels, y=fnr_list, mode='lines+markers', name='FNR'), row=2, col=2)\n",
    "fig.add_trace(go.Scatter(x=ratio_labels, y=mcc_list, mode='lines+markers', name='MCC'), row=2, col=3)\n",
    "fig.add_trace(go.Scatter(x=ratio_labels, y=auc_list, mode='lines+markers', name='AUC'), row=2, col=4)\n",
    "\n",
    "# Update layout\n",
    "fig.update_layout(\n",
    "    title={'text': f'Varying the ratio of Adversarial to Non-Adversarial Samples during Evaluation for {dataset_name} (X-axis: Adversarial:Non-Adversarial Ratio, Y-axis: Metric Value)', 'x': 0.5, 'xanchor': 'center'},\n",
    "    height=300, width=950,\n",
    "    showlegend=False,\n",
    "    margin=dict(l=10, r=10, t=40, b=10),\n",
    "    font=dict(size=8),  # General font size for axis text and other elements\n",
    ")\n",
    "\n",
    "# Update subplot titles font size\n",
    "fig.update_layout(\n",
    "    annotations=[dict(\n",
    "        font=dict(size=9),  # Reduced font size for subplot titles\n",
    "        xref=\"paper\", yref=\"paper\",\n",
    "        showarrow=False\n",
    "    ) for _ in range(8)]\n",
    ")\n",
    "\n",
    "eps = 0.05\n",
    "\n",
    "fig.update_yaxes(range=[0, 1+eps], row=1, col=1, zeroline=True, dtick=0.25)\n",
    "fig.update_yaxes(range=[0, 1+eps], row=1, col=2, zeroline=True, dtick=0.25)\n",
    "fig.update_yaxes(range=[0, 1+eps], row=1, col=3, zeroline=True, dtick=0.25)\n",
    "fig.update_yaxes(range=[0, 1+eps], row=1, col=4, zeroline=True, dtick=0.25)\n",
    "fig.update_yaxes(range=[0-eps, 1], row=2, col=1, zeroline=False, dtick=0.25)\n",
    "fig.update_yaxes(range=[0-eps, 1], row=2, col=2, zeroline=False, dtick=0.25)\n",
    "fig.update_yaxes(range=[-1, 1+0.1], row=2, col=3, zeroline=False, dtick=0.50)\n",
    "fig.update_yaxes(range=[0, 1+eps], row=2, col=4, zeroline=True, dtick=0.25)\n",
    "\n",
    "# Increase the spacing between the graph and the ratio labels\n",
    "fig.update_xaxes(linewidth=0.5, linecolor='pink', mirror=True, tickfont=dict(size=5), ticklabelposition=\"outside\", ticklabelstandoff=2, dtick=0.1)\n",
    "fig.update_yaxes(linewidth=0.5, linecolor='pink', mirror=True, tickfont=dict(size=5), ticklabelposition=\"outside\", ticklabelstandoff=2)\n",
    "\n",
    "fig.show()"
   ]
  },
  {
   "cell_type": "code",
   "execution_count": 22,
   "metadata": {},
   "outputs": [],
   "source": [
    "fig.write_image(\"hcrl-vary.png\", width=900, height=300, scale=5) "
   ]
  },
  {
   "cell_type": "code",
   "execution_count": 30,
   "metadata": {},
   "outputs": [
    {
     "name": "stdout",
     "output_type": "stream",
     "text": [
      "+-------+----------+-----------+--------+----------+-------+-------+-------+-------+\n",
      "| Ratio | F1-Score | Precision | Recall | Accuracy |  FPR  |  FNR  |  MCC  |  AUC  |\n",
      "+-------+----------+-----------+--------+----------+-------+-------+-------+-------+\n",
      "| 0:100 |  0.999   |   1.000   | 0.999  |  1.000   | 0.000 | 0.001 | 0.999 | 0.999 |\n",
      "|  1:99 |  0.999   |   1.000   | 0.999  |  1.000   | 0.000 | 0.001 | 0.999 | 0.999 |\n",
      "|  2:98 |  0.999   |   1.000   | 0.999  |  1.000   | 0.000 | 0.001 | 0.999 | 0.999 |\n",
      "|  3:97 |  0.999   |   1.000   | 0.999  |  1.000   | 0.000 | 0.001 | 0.999 | 1.000 |\n",
      "|  4:96 |  0.999   |   1.000   | 0.999  |  1.000   | 0.000 | 0.001 | 0.999 | 1.000 |\n",
      "|  5:95 |  1.000   |   1.000   | 0.999  |  1.000   | 0.000 | 0.001 | 0.999 | 1.000 |\n",
      "|  6:94 |  1.000   |   1.000   | 0.999  |  1.000   | 0.000 | 0.001 | 0.999 | 1.000 |\n",
      "|  7:93 |  1.000   |   1.000   | 0.999  |  1.000   | 0.000 | 0.001 | 0.999 | 1.000 |\n",
      "|  8:92 |  1.000   |   1.000   | 0.999  |  1.000   | 0.000 | 0.001 | 0.999 | 1.000 |\n",
      "|  9:91 |  1.000   |   1.000   | 0.999  |  1.000   | 0.000 | 0.001 | 0.999 | 1.000 |\n",
      "| 10:90 |  1.000   |   1.000   | 0.999  |  1.000   | 0.000 | 0.001 | 1.000 | 1.000 |\n",
      "+-------+----------+-----------+--------+----------+-------+-------+-------+-------+\n"
     ]
    }
   ],
   "source": [
    "from prettytable import PrettyTable\n",
    "\n",
    "# Initialize table\n",
    "table = PrettyTable()\n",
    "table.field_names = [\"Ratio\", \"F1-Score\", \"Precision\", \"Recall\", \"Accuracy\", \"FPR\", \"FNR\", \"MCC\", \"AUC\"]\n",
    "\n",
    "# Add rows with formatted values\n",
    "for i in range(len(ratio_labels)):\n",
    "    table.add_row([\n",
    "        ratio_labels[i], \n",
    "        f\"{f1score_list[i]:.3f}\", f\"{precision_list[i]:.3f}\", f\"{recall_list[i]:.3f}\", \n",
    "        f\"{accuracy_list[i]:.3f}\", f\"{fpr_list[i]:.3f}\", f\"{fnr_list[i]:.3f}\", \n",
    "        f\"{mcc_list[i]:.3f}\", f\"{auc_list[i]:.3f}\"\n",
    "    ])\n",
    "\n",
    "# Print table\n",
    "print(table)\n"
   ]
  }
 ],
 "metadata": {
  "kernelspec": {
   "display_name": "Python 3",
   "language": "python",
   "name": "python3"
  },
  "language_info": {
   "codemirror_mode": {
    "name": "ipython",
    "version": 3
   },
   "file_extension": ".py",
   "mimetype": "text/x-python",
   "name": "python",
   "nbconvert_exporter": "python",
   "pygments_lexer": "ipython3",
   "version": "3.8.10"
  }
 },
 "nbformat": 4,
 "nbformat_minor": 2
}
