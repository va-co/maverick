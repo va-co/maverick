{
 "cells": [
  {
   "cell_type": "code",
   "execution_count": 1,
   "metadata": {},
   "outputs": [],
   "source": [
    "import os, sys\n",
    "import pandas as pd"
   ]
  },
  {
   "cell_type": "code",
   "execution_count": 2,
   "metadata": {},
   "outputs": [],
   "source": [
    "folder_path = '/home/ubuntu/Maverick/can-fd/CAN-FD_Intrusion_Dataset/'\n",
    "csv_files = [file for file in os.listdir(folder_path) if file.endswith('.csv')]"
   ]
  },
  {
   "cell_type": "code",
   "execution_count": 3,
   "metadata": {},
   "outputs": [
    {
     "name": "stdout",
     "output_type": "stream",
     "text": [
      "['CANFD_Malfunction.csv', 'CANFD_Flooding.csv', 'CANFD_Fuzzing.csv']\n"
     ]
    }
   ],
   "source": [
    "print(csv_files)"
   ]
  },
  {
   "cell_type": "code",
   "execution_count": 4,
   "metadata": {},
   "outputs": [],
   "source": [
    "def process_csv(filename):\n",
    "    \n",
    "    print(\"Dataset Processing: \", filename)\n",
    "    \n",
    "    processed_data, further_processed_data = [], []\n",
    "    \n",
    "    with open(folder_path + '/' + filename, 'r') as f:\n",
    "        data = [row.strip().split(',') for row in f.readlines()]\n",
    "        \n",
    "    df = pd.DataFrame(data)\n",
    "\n",
    "    for _, row in df.iterrows():\n",
    "        timestamp = float(row[0])\n",
    "        arb_id = int(row[1], 16)\n",
    "        dlc = int(row[2])  \n",
    "        data_padding = [int(0)] * (64 - dlc) # Pad with zeros to make 64 data fields\n",
    "        data_cols = [int(val, 16) for val in row[3:3 + dlc]] # Extract data columns and convert to decimal\n",
    "        data = data_padding + data_cols\n",
    "        label = 1 if row.iloc[3+dlc] == 'T' else 0\n",
    "        processed_row = [timestamp, arb_id] + data + [label]\n",
    "        processed_data.append(processed_row)\n",
    "\n",
    "    processed_df = pd.DataFrame(processed_data, columns=['Timestamp', 'Arbitration_ID'] + [f'Data[{i}]' for i in range(len(data))] + ['Label'])\n",
    "    \n",
    "    # Iterate over each group\n",
    "    for _, group_df in processed_df.groupby('Arbitration_ID'):\n",
    "        # Sort by Timestamp within each group\n",
    "        group_df = group_df.sort_values(by='Timestamp', ascending=True)\n",
    "        # Calculate dTIME (time difference between consecutive messages with the same Arbitration_ID)\n",
    "        group_df['dTIME'] = group_df['Timestamp'].diff().fillna(0)\n",
    "        group_df = group_df.drop(columns=['Timestamp'])\n",
    "        group_df = group_df[['dTIME', 'Arbitration_ID'] + [col for col in group_df.columns if col != 'Arbitration_ID' and col != 'dTIME']]\n",
    "        further_processed_data.append(group_df)\n",
    "        \n",
    "    further_processed_df = pd.concat(further_processed_data)   \n",
    "    further_processed_df.to_csv(\"processed_\"+filename, index=False) \n",
    "    print(\"Dataset Processed: \", filename)\n",
    "    del further_processed_df, processed_df, df\n",
    "    "
   ]
  },
  {
   "cell_type": "code",
   "execution_count": 5,
   "metadata": {},
   "outputs": [
    {
     "name": "stdout",
     "output_type": "stream",
     "text": [
      "Dataset Processing:  CANFD_Malfunction.csv\n",
      "Dataset Processed:  CANFD_Malfunction.csv\n",
      "Dataset Processing:  CANFD_Flooding.csv\n",
      "Dataset Processed:  CANFD_Flooding.csv\n",
      "Dataset Processing:  CANFD_Fuzzing.csv\n",
      "Dataset Processed:  CANFD_Fuzzing.csv\n"
     ]
    }
   ],
   "source": [
    "for file in csv_files:\n",
    "    process_csv(file)"
   ]
  }
 ],
 "metadata": {
  "kernelspec": {
   "display_name": "Python 3",
   "language": "python",
   "name": "python3"
  },
  "language_info": {
   "codemirror_mode": {
    "name": "ipython",
    "version": 3
   },
   "file_extension": ".py",
   "mimetype": "text/x-python",
   "name": "python",
   "nbconvert_exporter": "python",
   "pygments_lexer": "ipython3",
   "version": "3.8.10"
  }
 },
 "nbformat": 4,
 "nbformat_minor": 2
}
