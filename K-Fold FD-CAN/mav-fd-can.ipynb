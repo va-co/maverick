{
 "cells": [
  {
   "cell_type": "code",
   "execution_count": 1,
   "metadata": {},
   "outputs": [
    {
     "name": "stderr",
     "output_type": "stream",
     "text": [
      "2025-01-19 23:15:15.620044: I tensorflow/tsl/cuda/cudart_stub.cc:28] Could not find cuda drivers on your machine, GPU will not be used.\n",
      "2025-01-19 23:15:15.714097: I tensorflow/tsl/cuda/cudart_stub.cc:28] Could not find cuda drivers on your machine, GPU will not be used.\n",
      "2025-01-19 23:15:15.716963: I tensorflow/core/platform/cpu_feature_guard.cc:182] This TensorFlow binary is optimized to use available CPU instructions in performance-critical operations.\n",
      "To enable the following instructions: AVX2 FMA, in other operations, rebuild TensorFlow with the appropriate compiler flags.\n",
      "2025-01-19 23:15:16.839788: W tensorflow/compiler/tf2tensorrt/utils/py_utils.cc:38] TF-TRT Warning: Could not find TensorRT\n"
     ]
    }
   ],
   "source": [
    "import os\n",
    "import gc\n",
    "import sys\n",
    "import vote\n",
    "import time\n",
    "import random\n",
    "import pickle\n",
    "import warnings\n",
    "import numpy as np\n",
    "import pandas as pd\n",
    "from tqdm import tqdm\n",
    "import plotly.io as pio\n",
    "from maverick import Maverick\n",
    "import plotly.graph_objs as go\n",
    "import matplotlib.pyplot as plt\n",
    "from collections import Counter\n",
    "np.set_printoptions(suppress=True)\n",
    "warnings.filterwarnings(\"ignore\")\n",
    "from IPython.display import clear_output\n",
    "from sklearn.metrics import accuracy_score, matthews_corrcoef, f1_score\n",
    "from sklearn.metrics import roc_curve, auc, RocCurveDisplay, confusion_matrix"
   ]
  },
  {
   "cell_type": "code",
   "execution_count": 2,
   "metadata": {},
   "outputs": [],
   "source": [
    "import tensorflow as tf\n",
    "os.environ['TF_CPP_MIN_LOG_LEVEL'] = '3'"
   ]
  },
  {
   "cell_type": "code",
   "execution_count": 3,
   "metadata": {},
   "outputs": [],
   "source": [
    "%load_ext memory_profiler"
   ]
  },
  {
   "cell_type": "code",
   "execution_count": 6,
   "metadata": {},
   "outputs": [],
   "source": [
    "repo_dir = \"can-fd\"\n",
    "if not os.path.exists(\"../can-fd\"):\n",
    "    !git clone https://github.com/val-co/can-fd\n",
    "\n",
    "DATASET_DIRECTORY = '/home/ubuntu/Maverick/' + repo_dir + '/'"
   ]
  },
  {
   "cell_type": "code",
   "execution_count": 5,
   "metadata": {},
   "outputs": [
    {
     "name": "stdout",
     "output_type": "stream",
     "text": [
      "skipping\n"
     ]
    }
   ],
   "source": [
    "%%script echo skipping\n",
    "\n",
    "csv_files = [file for file in os.listdir(DATASET_DIRECTORY) if file.endswith('.csv')]\n",
    "\n",
    "X_list = []\n",
    "y_list = []\n",
    "\n",
    "dataframes = {}\n",
    "\n",
    "for file in csv_files:\n",
    "    file_path = os.path.join(DATASET_DIRECTORY, file)\n",
    "    df = pd.read_csv(file_path)\n",
    "    X_list.append(df.iloc[:, :-1])  # Append all columns except the last one (features)\n",
    "    y_list.append(df.iloc[:, -1])   # Append only the last column (labels)\n",
    "    \n",
    "# Concatenate all DataFrames along the rows to create X (features)\n",
    "X = pd.concat(X_list, ignore_index=True)\n",
    "\n",
    "# Concatenate all Series (labels) along the rows to create y\n",
    "y = pd.concat(y_list, ignore_index=True)\n",
    "\n",
    "print(X.shape, Counter(y))\n",
    "\n",
    "with open(\"X_fd.pkl\", 'wb') as f1:\n",
    "    pickle.dump(X, f1)\n",
    "    \n",
    "with open(\"y_fd.pkl\", 'wb') as f2:\n",
    "    pickle.dump(y, f2)"
   ]
  },
  {
   "cell_type": "code",
   "execution_count": 8,
   "metadata": {},
   "outputs": [
    {
     "data": {
      "text/plain": [
       "['processed_CANFD_Flooding.csv',\n",
       " 'processed_CANFD_Malfunction.csv',\n",
       " 'processed_CANFD_Fuzzing.csv']"
      ]
     },
     "execution_count": 8,
     "metadata": {},
     "output_type": "execute_result"
    }
   ],
   "source": [
    "[file for file in os.listdir(DATASET_DIRECTORY) if file.endswith('.csv')]"
   ]
  },
  {
   "cell_type": "code",
   "execution_count": 9,
   "metadata": {},
   "outputs": [
    {
     "name": "stdout",
     "output_type": "stream",
     "text": [
      "(7120602, 66) Counter({0: 5490129, 1: 1630473})\n"
     ]
    }
   ],
   "source": [
    "with open(\"../Baseline Experiments/X_fd.pkl\", 'rb') as f1:\n",
    "    X = pickle.load(f1)\n",
    "    \n",
    "with open(\"../Baseline Experiments/y_fd.pkl\", 'rb') as f2:\n",
    "    y = pickle.load(f2)\n",
    "    \n",
    "print(X.shape, Counter(y))"
   ]
  },
  {
   "cell_type": "code",
   "execution_count": 8,
   "metadata": {},
   "outputs": [],
   "source": [
    "from sklearn.model_selection import train_test_split\n",
    "import pandas as pd\n",
    "\n",
    "def create_5folds(X, y, random_state=42):\n",
    "    X_folds, y_folds = {}, {}\n",
    "    X_train, X_surrogate, X_test = {}, {}, {}\n",
    "    y_train, y_surrogate, y_test = {}, {}, {}\n",
    "    \n",
    "    # First split: 80/20\n",
    "    X_80, X_folds[0], y_80, y_folds[0] = train_test_split(X, y, \n",
    "        test_size=0.2, random_state=random_state, shuffle=True,)\n",
    "    \n",
    "    # Split 80 into 40/40\n",
    "    X_40_1, X_40_2, y_40_1, y_40_2 = train_test_split(X_80, y_80, \n",
    "        test_size=0.5, random_state=random_state, shuffle=True,)\n",
    "    \n",
    "    # Split first 40 into 20/20\n",
    "    X_folds[1], X_folds[2], y_folds[1], y_folds[2] = train_test_split(X_40_1, y_40_1, \n",
    "        test_size=0.5, random_state=random_state, shuffle=True,)\n",
    "    \n",
    "    # Split second 40 into 20/20\n",
    "    X_folds[3], X_folds[4], y_folds[3], y_folds[4] = train_test_split(X_40_2, y_40_2, \n",
    "        test_size=0.5, random_state=random_state, shuffle=True,)\n",
    "    \n",
    "    fold_indices = {0, 1, 2, 3, 4}\n",
    "    \n",
    "    for fold in range(5):\n",
    "        test_fold = fold\n",
    "        surrogate_fold = (fold + 1) % 5\n",
    "        train_fold = fold_indices - {surrogate_fold, test_fold}\n",
    "        X_test[fold], y_test[fold] = X_folds[test_fold], y_folds[test_fold]\n",
    "        X_surrogate[fold], y_surrogate[fold] = X_folds[surrogate_fold], y_folds[surrogate_fold]\n",
    "        X_train[fold], y_train[fold] = pd.concat([X_folds[i] for i in train_fold]), pd.concat([y_folds[i] for i in train_fold])\n",
    "\n",
    "    del X_folds, y_folds\n",
    "    return X_train, y_train, X_surrogate, y_surrogate, X_test, y_test"
   ]
  },
  {
   "cell_type": "code",
   "execution_count": 9,
   "metadata": {},
   "outputs": [],
   "source": [
    "X_train, y_train, X_surrogate, y_surrogate, X_test, y_test = create_5folds(X, y)"
   ]
  },
  {
   "cell_type": "code",
   "execution_count": 10,
   "metadata": {},
   "outputs": [
    {
     "data": {
      "text/plain": [
       "22"
      ]
     },
     "execution_count": 10,
     "metadata": {},
     "output_type": "execute_result"
    }
   ],
   "source": [
    "del X, y\n",
    "gc.collect()"
   ]
  },
  {
   "cell_type": "code",
   "execution_count": 11,
   "metadata": {},
   "outputs": [],
   "source": [
    "for fold in range(5):\n",
    "    X_train[fold].columns = [col.replace('[', '(').replace(']', ')') for col in X_train[fold].columns]\n",
    "    X_surrogate[fold].columns = [col.replace('[', '(').replace(']', ')') for col in X_surrogate[fold].columns]\n",
    "    X_test[fold].columns = [col.replace('[', '(').replace(']', ')') for col in X_test[fold].columns]"
   ]
  },
  {
   "cell_type": "code",
   "execution_count": 12,
   "metadata": {},
   "outputs": [
    {
     "name": "stdout",
     "output_type": "stream",
     "text": [
      "Loaded Models\n"
     ]
    }
   ],
   "source": [
    "import joblib\n",
    "from pathlib import Path\n",
    "from xgboost import XGBClassifier\n",
    "from sklearn.ensemble import RandomForestClassifier\n",
    "\n",
    "params = {\n",
    "    'max_depth': 10,  # Maximum depth of each tree\n",
    "    'n_estimators': 254,  # Number of trees\n",
    "    'seed': 42,  # Random seed\n",
    "}\n",
    "\n",
    "Path(\"models\").mkdir(exist_ok=True)\n",
    "\n",
    "if not Path(\"models/xgb_model_fold_0.joblib\").exists():\n",
    "    model0 = XGBClassifier(**params)\n",
    "    model0.fit(X_train[0], y_train[0])\n",
    "    print(\"Model-0 Trained\")\n",
    "    joblib.dump(model0, \"models/xgb_model_fold_0.joblib\")\n",
    "\n",
    "if not Path(\"models/xgb_model_fold_1.joblib\").exists():\n",
    "    model1 = XGBClassifier(**params)\n",
    "    model1.fit(X_train[1], y_train[1])\n",
    "    print(\"Model-1 Trained\")\n",
    "    joblib.dump(model1, \"models/xgb_model_fold_1.joblib\")\n",
    "\n",
    "if not Path(\"models/xgb_model_fold_2.joblib\").exists():\n",
    "    model2 = XGBClassifier(**params)\n",
    "    model2.fit(X_train[2], y_train[2])\n",
    "    print(\"Model-2 Trained\")\n",
    "    joblib.dump(model2, \"models/xgb_model_fold_2.joblib\")\n",
    "\n",
    "if not Path(\"models/xgb_model_fold_3.joblib\").exists():\n",
    "    model3 = XGBClassifier(**params)\n",
    "    model3.fit(X_train[3], y_train[3])\n",
    "    print(\"Model-3 Trained\")\n",
    "    joblib.dump(model3, \"models/xgb_model_fold_3.joblib\")\n",
    "\n",
    "if not Path(\"models/xgb_model_fold_4.joblib\").exists():\n",
    "    model4 = XGBClassifier(**params)\n",
    "    model4.fit(X_train[4], y_train[4])\n",
    "    print(\"Model-4 Trained\")\n",
    "    joblib.dump(model4, \"models/xgb_model_fold_4.joblib\")\n",
    "\n",
    "model0 = joblib.load(\"models/xgb_model_fold_0.joblib\")\n",
    "model1 = joblib.load(\"models/xgb_model_fold_1.joblib\")\n",
    "model2 = joblib.load(\"models/xgb_model_fold_2.joblib\")\n",
    "model3 = joblib.load(\"models/xgb_model_fold_3.joblib\")\n",
    "model4 = joblib.load(\"models/xgb_model_fold_4.joblib\")\n",
    "print(\"Loaded Models\")"
   ]
  },
  {
   "cell_type": "code",
   "execution_count": 13,
   "metadata": {},
   "outputs": [
    {
     "name": "stdout",
     "output_type": "stream",
     "text": [
      "Maximum number of leaves (Model-0): 44\n",
      "Maximum number of leaves (Model-1): 45\n",
      "Maximum number of leaves (Model-2): 46\n",
      "Maximum number of leaves (Model-3): 45\n",
      "Maximum number of leaves (Model-4): 43\n"
     ]
    }
   ],
   "source": [
    "import xgboost as xgb\n",
    "\n",
    "if isinstance(model0, xgb.XGBClassifier):\n",
    "    booster = model0.get_booster()  # Access the Booster object\n",
    "    trees = booster.get_dump()  # Get the trees as text\n",
    "    max_leaves = 0\n",
    "    for tree in trees:\n",
    "        leaves = tree.count('leaf')\n",
    "        max_leaves = max(max_leaves, leaves)\n",
    "    print(f\"Maximum number of leaves (Model-0): {max_leaves}\")\n",
    "    \n",
    "if isinstance(model1, xgb.XGBClassifier):\n",
    "    booster = model1.get_booster()  # Access the Booster object\n",
    "    trees = booster.get_dump()  # Get the trees as text\n",
    "    max_leaves = 0\n",
    "    for tree in trees:\n",
    "        leaves = tree.count('leaf')\n",
    "        max_leaves = max(max_leaves, leaves)\n",
    "    print(f\"Maximum number of leaves (Model-1): {max_leaves}\")\n",
    "    \n",
    "if isinstance(model2, xgb.XGBClassifier):\n",
    "    booster = model2.get_booster()  # Access the Booster object\n",
    "    trees = booster.get_dump()  # Get the trees as text\n",
    "    max_leaves = 0\n",
    "    for tree in trees:\n",
    "        leaves = tree.count('leaf')\n",
    "        max_leaves = max(max_leaves, leaves)\n",
    "    print(f\"Maximum number of leaves (Model-2): {max_leaves}\")\n",
    "    \n",
    "if isinstance(model3, xgb.XGBClassifier):\n",
    "    booster = model3.get_booster()  # Access the Booster object\n",
    "    trees = booster.get_dump()  # Get the trees as text\n",
    "    max_leaves = 0\n",
    "    for tree in trees:\n",
    "        leaves = tree.count('leaf')\n",
    "        max_leaves = max(max_leaves, leaves)\n",
    "    print(f\"Maximum number of leaves (Model-3): {max_leaves}\")\n",
    "    \n",
    "if isinstance(model4, xgb.XGBClassifier):\n",
    "    booster = model4.get_booster()  # Access the Booster object\n",
    "    trees = booster.get_dump()  # Get the trees as text\n",
    "    max_leaves = 0\n",
    "    for tree in trees:\n",
    "        leaves = tree.count('leaf')\n",
    "        max_leaves = max(max_leaves, leaves)\n",
    "    print(f\"Maximum number of leaves (Model-4): {max_leaves}\")"
   ]
  },
  {
   "cell_type": "code",
   "execution_count": 14,
   "metadata": {},
   "outputs": [
    {
     "name": "stdout",
     "output_type": "stream",
     "text": [
      "\n",
      "Model Performance Metrics:\n",
      "================================================================================\n",
      "  Model Accuracy   TPR   TNR   FPR   FNR\n",
      "Model-0    1.000 1.000 1.000 0.000 0.000\n",
      "Model-1    1.000 1.000 1.000 0.000 0.000\n",
      "Model-2    1.000 1.000 1.000 0.000 0.000\n",
      "Model-3    1.000 1.000 1.000 0.000 0.000\n",
      "Model-4    1.000 1.000 1.000 0.000 0.000\n",
      "================================================================================\n"
     ]
    }
   ],
   "source": [
    "from sklearn.metrics import accuracy_score, confusion_matrix\n",
    "import pandas as pd\n",
    "\n",
    "# Create lists to store metrics for each model\n",
    "metrics = []\n",
    "\n",
    "# Calculate metrics for each model\n",
    "for i in range(5):\n",
    "    model = eval(f\"model{i}\")\n",
    "    ypred = model.predict(X_test[i])\n",
    "    \n",
    "    # Calculate accuracy\n",
    "    acc = accuracy_score(ypred, y_test[i])\n",
    "    \n",
    "    # Calculate confusion matrix metrics\n",
    "    tn, fp, fn, tp = confusion_matrix(ypred, y_test[i]).ravel()\n",
    "    tpr = tp / (tp + fn)  # True positive rate\n",
    "    tnr = tn / (tn + fp)  # True negative rate\n",
    "    fpr = fp / (fp + tn)  # False positive rate\n",
    "    fnr = fn / (fn + tp)  # False negative rate\n",
    "    \n",
    "    # Store metrics\n",
    "    metrics.append({\n",
    "        'Model': f'Model-{i}',\n",
    "        'Accuracy': f'{acc:.3f}',\n",
    "        'TPR': f'{tpr:.3f}',\n",
    "        'TNR': f'{tnr:.3f}',\n",
    "        'FPR': f'{fpr:.3f}',\n",
    "        'FNR': f'{fnr:.3f}'\n",
    "    })\n",
    "\n",
    "# Create DataFrame and display\n",
    "df_metrics = pd.DataFrame(metrics)\n",
    "print(\"\\nModel Performance Metrics:\")\n",
    "print(\"=\" * 80)\n",
    "print(df_metrics.to_string(index=False))\n",
    "print(\"=\" * 80)"
   ]
  },
  {
   "cell_type": "code",
   "execution_count": 14,
   "metadata": {},
   "outputs": [
    {
     "name": "stdout",
     "output_type": "stream",
     "text": [
      "Loaded Surrogates\n"
     ]
    }
   ],
   "source": [
    "import joblib\n",
    "from pathlib import Path\n",
    "from xgboost import XGBClassifier\n",
    "from sklearn.ensemble import RandomForestClassifier\n",
    "\n",
    "Path(\"surrogates\").mkdir(exist_ok=True)\n",
    "\n",
    "if not Path(\"surrogates/xgb_surrogate_fold_0.joblib\").exists():\n",
    "    surrogate0 = XGBClassifier(**params)\n",
    "    surrogate0.fit(X_surrogate[0], y_surrogate[0])\n",
    "    print(\"Surrogate-0 Trained\")\n",
    "    joblib.dump(surrogate0, \"surrogates/xgb_surrogate_fold_0.joblib\")\n",
    "\n",
    "if not Path(\"surrogates/xgb_surrogate_fold_1.joblib\").exists():\n",
    "    surrogate1 = XGBClassifier(**params)\n",
    "    surrogate1.fit(X_surrogate[1], y_surrogate[1])\n",
    "    print(\"Surrogate-1 Trained\")\n",
    "    joblib.dump(surrogate1, \"surrogates/xgb_surrogate_fold_1.joblib\")\n",
    "\n",
    "if not Path(\"surrogates/xgb_surrogate_fold_2.joblib\").exists():\n",
    "    surrogate2 = XGBClassifier(**params)\n",
    "    surrogate2.fit(X_surrogate[2], y_surrogate[2])\n",
    "    print(\"Surrogate-2 Trained\")\n",
    "    joblib.dump(surrogate2, \"surrogates/xgb_surrogate_fold_2.joblib\")\n",
    "\n",
    "if not Path(\"surrogates/xgb_surrogate_fold_3.joblib\").exists():\n",
    "    surrogate3 = XGBClassifier(**params)\n",
    "    surrogate3.fit(X_surrogate[3], y_surrogate[3])\n",
    "    print(\"Surrogate-3 Trained\")\n",
    "    joblib.dump(surrogate3, \"surrogates/xgb_surrogate_fold_3.joblib\")\n",
    "\n",
    "if not Path(\"surrogates/xgb_surrogate_fold_4.joblib\").exists():\n",
    "    surrogate4 = XGBClassifier(**params)\n",
    "    surrogate4.fit(X_surrogate[4], y_surrogate[4])\n",
    "    print(\"Surrogate-4 Trained\")\n",
    "    joblib.dump(surrogate4, \"surrogates/xgb_surrogate_fold_4.joblib\")\n",
    "\n",
    "surrogate0 = joblib.load(\"surrogates/xgb_surrogate_fold_0.joblib\")\n",
    "surrogate1 = joblib.load(\"surrogates/xgb_surrogate_fold_1.joblib\")\n",
    "surrogate2 = joblib.load(\"surrogates/xgb_surrogate_fold_2.joblib\")\n",
    "surrogate3 = joblib.load(\"surrogates/xgb_surrogate_fold_3.joblib\")\n",
    "surrogate4 = joblib.load(\"surrogates/xgb_surrogate_fold_4.joblib\")\n",
    "print(\"Loaded Surrogates\")"
   ]
  },
  {
   "cell_type": "code",
   "execution_count": 16,
   "metadata": {},
   "outputs": [
    {
     "name": "stdout",
     "output_type": "stream",
     "text": [
      "Surrogate Performance Metrics:\n",
      "================================================================================\n",
      "  Surrogate Accuracy   TPR   TNR   FPR   FNR\n",
      "Surrogate-0    1.000 1.000 1.000 0.000 0.000\n",
      "Surrogate-1    1.000 1.000 1.000 0.000 0.000\n",
      "Surrogate-2    1.000 1.000 1.000 0.000 0.000\n",
      "Surrogate-3    1.000 1.000 1.000 0.000 0.000\n",
      "Surrogate-4    1.000 1.000 1.000 0.000 0.000\n",
      "================================================================================\n"
     ]
    }
   ],
   "source": [
    "from sklearn.metrics import accuracy_score, confusion_matrix\n",
    "import pandas as pd\n",
    "\n",
    "# Create lists to store metrics for each model\n",
    "metrics = []\n",
    "\n",
    "# Calculate metrics for each model\n",
    "for i in range(5):\n",
    "    model = eval(f\"surrogate{i}\")\n",
    "    ypred = model.predict(X_test[i])\n",
    "    \n",
    "    # Calculate accuracy\n",
    "    acc = accuracy_score(ypred, y_test[i])\n",
    "    \n",
    "    # Calculate confusion matrix metrics\n",
    "    tn, fp, fn, tp = confusion_matrix(ypred, y_test[i]).ravel()\n",
    "    tpr = tp / (tp + fn)  # True positive rate\n",
    "    tnr = tn / (tn + fp)  # True negative rate\n",
    "    fpr = fp / (fp + tn)  # False positive rate\n",
    "    fnr = fn / (fn + tp)  # False negative rate\n",
    "    \n",
    "    # Store metrics\n",
    "    metrics.append({\n",
    "        'Surrogate': f'Surrogate-{i}',\n",
    "        'Accuracy': f'{acc:.3f}',\n",
    "        'TPR': f'{tpr:.3f}',\n",
    "        'TNR': f'{tnr:.3f}',\n",
    "        'FPR': f'{fpr:.3f}',\n",
    "        'FNR': f'{fnr:.3f}'\n",
    "    })\n",
    "\n",
    "# Create DataFrame and display\n",
    "df_metrics = pd.DataFrame(metrics)\n",
    "print(\"Surrogate Performance Metrics:\")\n",
    "print(\"=\" * 80)\n",
    "print(df_metrics.to_string(index=False))\n",
    "print(\"=\" * 80)"
   ]
  },
  {
   "cell_type": "code",
   "execution_count": 15,
   "metadata": {},
   "outputs": [
    {
     "name": "stdout",
     "output_type": "stream",
     "text": [
      "Fold 0 - X_test_filtered shape:  {(326523, 66)}\n",
      "Fold 1 - X_test_filtered shape:  {(326535, 66)}\n",
      "Fold 2 - X_test_filtered shape:  {(326521, 66)}\n",
      "Fold 3 - X_test_filtered shape:  {(325729, 66)}\n",
      "Fold 4 - X_test_filtered shape:  {(325165, 66)}\n"
     ]
    }
   ],
   "source": [
    "X_test_filtered = {}\n",
    "y_test_filtered = {}\n",
    "\n",
    "for fold in range(5):\n",
    "    # Filter the surrogate set to only include samples where y_surrogate == 1\n",
    "    X_test_filtered[fold] = X_test[fold][y_test[fold] == 1]\n",
    "    y_test_filtered[fold] = y_test[fold][y_test[fold] == 1]\n",
    "    print(f\"Fold\", str(fold),\"- X_test_filtered shape: \",{X_test_filtered[fold].shape})"
   ]
  },
  {
   "cell_type": "code",
   "execution_count": 16,
   "metadata": {},
   "outputs": [
    {
     "name": "stdout",
     "output_type": "stream",
     "text": [
      "Loaded Adversarial Examples\n"
     ]
    }
   ],
   "source": [
    "folder_path = \"adversarials\"\n",
    "os.makedirs(folder_path, exist_ok=True)\n",
    "\n",
    "A_path = os.path.join(folder_path, \"A.pkl\")\n",
    "L_path = os.path.join(folder_path, \"L.pkl\")\n",
    "\n",
    "A_exists = os.path.exists(A_path)\n",
    "L_exists = os.path.exists(L_path)\n",
    "\n",
    "if A_exists and L_exists:\n",
    "    with open(A_path, \"rb\") as a_file:\n",
    "        A = pickle.load(a_file)\n",
    "    with open(L_path, \"rb\") as l_file:\n",
    "        L = pickle.load(l_file)\n",
    "    print(\"Loaded Adversarial Examples\")\n",
    "else:\n",
    "    A, L = {}, {}\n",
    "    for fold in range(5):\n",
    "        random.seed(42)\n",
    "        A[fold], L[fold] = [], []\n",
    "        def label_checker(expected, mapping):\n",
    "            return vote.mapping_check_argmax(mapping, expected)\n",
    "        print('Finding Adversarial Examples for fold ', str(fold))\n",
    "        model = eval(f\"surrogate{fold}\")\n",
    "        ids = eval(f\"model{fold}\")\n",
    "        e = vote.Ensemble.from_xgboost(model)\n",
    "        deltas = [0, 0] + [15] * 64 \n",
    "        for i in tqdm(range(len(y_test_filtered[fold]))):\n",
    "            def check_robustness(m):\n",
    "                o = vote.mapping_check_argmax(m, 1)\n",
    "                if o == vote.FAIL:\n",
    "                    center = [m.inputs[dim].lower + (m.inputs[dim].upper - m.inputs[dim].lower) / 2 for dim in range(m.nb_inputs)]\n",
    "                    if(ids.predict([center]) != 1):\n",
    "                        A[fold].append(center)\n",
    "                        L[fold].append(1)\n",
    "                return o\n",
    "            domain = [(max(x - delta, 0), min(65535, x + delta)) if (idx == 0 or idx == 1) else (max(x - delta, 0), min(255, x + delta)) for idx, (x, delta) in enumerate(zip(X_test_filtered[fold].iloc[i].values, deltas))]\n",
    "            e.absref(check_robustness, domain)\n",
    "        print('Adversarial Examples Found: ', len(A[fold]), \"\\n\")\n",
    "\n",
    "    with open(A_path, \"wb\") as a_file:\n",
    "        pickle.dump(A, a_file)\n",
    "\n",
    "    with open(L_path, \"wb\") as l_file:\n",
    "        pickle.dump(L, l_file)"
   ]
  },
  {
   "cell_type": "code",
   "execution_count": 17,
   "metadata": {},
   "outputs": [
    {
     "data": {
      "text/plain": [
       "0"
      ]
     },
     "execution_count": 17,
     "metadata": {},
     "output_type": "execute_result"
    }
   ],
   "source": [
    "del X_test_filtered, y_test_filtered, surrogate0, surrogate1, surrogate2, surrogate3, surrogate4 \n",
    "gc.collect()"
   ]
  },
  {
   "cell_type": "code",
   "execution_count": 18,
   "metadata": {},
   "outputs": [
    {
     "data": {
      "text/plain": [
       "117783"
      ]
     },
     "execution_count": 18,
     "metadata": {},
     "output_type": "execute_result"
    }
   ],
   "source": [
    "sum(len(A[fold]) for fold in range(5))"
   ]
  },
  {
   "cell_type": "code",
   "execution_count": 19,
   "metadata": {},
   "outputs": [
    {
     "name": "stdout",
     "output_type": "stream",
     "text": [
      "Evaluation Samples, Fold  0 : 70696\n",
      "Evaluation Samples, Fold  1 : 54426\n",
      "Evaluation Samples, Fold  2 : 54508\n",
      "Evaluation Samples, Fold  3 : 48886\n",
      "Evaluation Samples, Fold  4 : 7050\n"
     ]
    }
   ],
   "source": [
    "test_set, test_lab = {}, {}\n",
    "test_lab_sym = {}\n",
    "\n",
    "for fold in range(5):\n",
    "    random.seed(42)\n",
    "    num_samples = len(A[fold])\n",
    "    selected_indices = random.sample(range(len(X_test[fold])), num_samples)\n",
    "    X_selected = X_test[fold].iloc[selected_indices].values\n",
    "    y_selected = y_test[fold].iloc[selected_indices].values\n",
    "    test_set[fold] = np.concatenate((X_selected, A[fold]))\n",
    "    test_lab_sym[fold] = np.concatenate((np.zeros(len(y_selected), dtype=bool), np.ones(len(L[fold]), dtype=bool)))\n",
    "    test_lab[fold] = np.concatenate((y_selected, L[fold]))\n",
    "    print(\"Evaluation Samples, Fold \", str(fold), \":\", len(test_set[fold]))"
   ]
  },
  {
   "cell_type": "code",
   "execution_count": 20,
   "metadata": {},
   "outputs": [
    {
     "name": "stdout",
     "output_type": "stream",
     "text": [
      "/home/ubuntu/Maverick/K-Fold FD-CAN/ocscore\n",
      "Requirement already satisfied: cython in /home/ubuntu/.local/lib/python3.8/site-packages (3.0.11)\n",
      "Requirement already satisfied: numpy in /home/ubuntu/.local/lib/python3.8/site-packages (1.24.3)\n",
      "Requirement already satisfied: dtai-veritas in /home/ubuntu/.local/lib/python3.8/site-packages (0.2.3)\n",
      "running build_ext\n",
      "Already up to date.\n",
      "/home/ubuntu/Maverick/K-Fold FD-CAN\n"
     ]
    }
   ],
   "source": [
    "if not os.path.exists(\"ocscore\"):\n",
    "    !git clone https://github.com/laudv/ocscore.git\n",
    "%cd ocscore\n",
    "!pip install cython numpy dtai-veritas\n",
    "!python3 setup.py build_ext --inplace\n",
    "!git pull\n",
    "\n",
    "%cd ..\n",
    "sys.path.append('/home/ubuntu/Maverick/K-Fold FD-CAN/ocscore') "
   ]
  },
  {
   "cell_type": "code",
   "execution_count": 22,
   "metadata": {},
   "outputs": [
    {
     "name": "stdout",
     "output_type": "stream",
     "text": [
      "List of functions:\n",
      "__pyx_unpickle_Enum\n",
      "_prep_input\n",
      "_validate_input\n",
      "mapids\n",
      "ocscores\n",
      "ocscores_topk\n"
     ]
    }
   ],
   "source": [
    "import ocscore\n",
    "# Get all attributes of the module\n",
    "module_attributes = dir(ocscore)\n",
    "\n",
    "# Filter out functions from the attributes\n",
    "functions = [attr for attr in module_attributes if callable(getattr(ocscore, attr))]\n",
    "\n",
    "# Print the list of functions\n",
    "print(\"List of functions:\")\n",
    "for function in functions:\n",
    "    print(function)"
   ]
  },
  {
   "cell_type": "code",
   "execution_count": 23,
   "metadata": {},
   "outputs": [
    {
     "name": "stdout",
     "output_type": "stream",
     "text": [
      "Generated Reference and Query Set for Fold  0\n",
      "Generated Reference and Query Set for Fold  1\n",
      "Generated Reference and Query Set for Fold  2\n",
      "Generated Reference and Query Set for Fold  3\n",
      "Generated Reference and Query Set for Fold  4\n"
     ]
    }
   ],
   "source": [
    "idref, idquery = {}, {}\n",
    "\n",
    "for fold in range(5):\n",
    "    ids = eval(f\"model{fold}\")\n",
    "    ytrain_pred = ids.predict(X_train[fold]) \n",
    "    xref_mask = ytrain_pred == y_train[fold]\n",
    "    xref = X_train[fold][xref_mask]\n",
    "    dtype = np.uint8\n",
    "    idref[fold] = ids.apply(xref).astype(dtype)\n",
    "    test_set[fold] = pd.DataFrame(test_set[fold], columns=X_test[fold].columns)\n",
    "    idquery[fold] = ids.apply(test_set[fold]).astype(dtype)\n",
    "    print(\"Generated Reference and Query Set for Fold \", str(fold))"
   ]
  },
  {
   "cell_type": "code",
   "execution_count": 24,
   "metadata": {},
   "outputs": [
    {
     "name": "stdout",
     "output_type": "stream",
     "text": [
      "Finding OC-Scores for Fold  0\n",
      "Done, OC-score Average Prediction Time:  29736.39 μs \n",
      "\n",
      "Finding OC-Scores for Fold  1\n",
      "Done, OC-score Average Prediction Time:  28976.58 μs \n",
      "\n",
      "Finding OC-Scores for Fold  2\n",
      "Done, OC-score Average Prediction Time:  28077.64 μs \n",
      "\n",
      "Finding OC-Scores for Fold  3\n",
      "Done, OC-score Average Prediction Time:  32004.31 μs \n",
      "\n",
      "Finding OC-Scores for Fold  4\n",
      "Done, OC-score Average Prediction Time:  32461.78 μs \n",
      "\n"
     ]
    }
   ],
   "source": [
    "S = {}\n",
    "times = {}\n",
    "\n",
    "Path(\"ocscore_experiments\").mkdir(exist_ok=True)\n",
    "S_path = Path(f\"ocscore_experiments/S.pkl\")\n",
    "T_path = Path(f\"ocscore_experiments/times.pkl\")\n",
    "\n",
    "if not (S_path.exists() and T_path.exists()):\n",
    "    for fold in range(5):\n",
    "        print(\"Finding OC-Scores for Fold \", str(fold))\n",
    "        t1 = time.time()\n",
    "        S[fold] = ocscore.ocscores(idref[fold], idquery[fold])\n",
    "        t2 = time.time()\n",
    "        times[fold] = round(((1000000.0*(t2 - t1))/len(S[fold])), 2)\n",
    "        print(f\"Done, OC-score Average Prediction Time: \", round(((1000000.0*(t2 - t1))/len(S[fold])), 2), \"μs\", \"\\n\")\n",
    "    with open(S_path, 'wb') as f:\n",
    "        pickle.dump(S, f)\n",
    "    with open(T_path, 'wb') as f:\n",
    "        pickle.dump(times, f)\n",
    "else:\n",
    "    with open(S_path, 'rb') as f:\n",
    "        S = pickle.load(f)\n",
    "    with open(T_path, 'rb') as f:\n",
    "        times = pickle.load(f)\n",
    "    print(\"Loaded OC-scores and Times from disk.\")      "
   ]
  },
  {
   "cell_type": "code",
   "execution_count": 25,
   "metadata": {},
   "outputs": [
    {
     "data": {
      "image/png": "[encoded data removed]",
      "text/plain": [
       "<Figure size 1000x600 with 1 Axes>"
      ]
     },
     "metadata": {},
     "output_type": "display_data"
    }
   ],
   "source": [
    "import matplotlib.pyplot as plt\n",
    "from collections import Counter\n",
    "\n",
    "colors = ['blue', 'green', 'orange', 'red', 'purple']\n",
    "plt.figure(figsize=(10, 6))\n",
    "\n",
    "for fold in range(5):\n",
    "    plt.plot(S[fold], label=f'Fold {fold}', color=colors[fold], markersize=1)\n",
    "    plt.axvline(x=Counter(test_lab_sym[fold])[0], color=colors[fold], linestyle='--', linewidth=1)\n",
    "plt.title('OC-Scores for Each Sample')\n",
    "plt.xlabel('Sample Index')\n",
    "plt.ylabel('OC-Score')\n",
    "plt.legend(title=\"Folds\")\n",
    "plt.grid(True)\n",
    "plt.legend()\n",
    "plt.show()"
   ]
  },
  {
   "cell_type": "code",
   "execution_count": 28,
   "metadata": {},
   "outputs": [
    {
     "name": "stdout",
     "output_type": "stream",
     "text": [
      "   Fold  Accuracy  F1-Score    MCC  AUC  TPR    TNR    FPR  FNR\n",
      "0     0       1.0       1.0  1.000  1.0  1.0  1.000  0.000  0.0\n",
      "1     1       1.0       1.0  1.000  1.0  1.0  1.000  0.000  0.0\n",
      "2     2       1.0       1.0  1.000  1.0  1.0  1.000  0.000  0.0\n",
      "3     3       1.0       1.0  0.999  1.0  1.0  0.999  0.001  0.0\n",
      "4     4       1.0       1.0  0.999  1.0  1.0  0.999  0.001  0.0\n"
     ]
    }
   ],
   "source": [
    "from sklearn.metrics import roc_auc_score, matthews_corrcoef\n",
    "\n",
    "threshold = {0:23, 1:17, 2:23, 3:10, 4:23}\n",
    "results = []\n",
    "\n",
    "for fold in range(5):\n",
    "    predictions = []\n",
    "    ids = eval(f\"model{fold}\")\n",
    "    preds = ids.predict(test_set[fold])\n",
    "    \n",
    "    for score, pred in zip(S[fold], preds):\n",
    "        if score <= threshold[fold]:\n",
    "            predictions.append(pred)\n",
    "        else:\n",
    "            predictions.append(abs(1-pred))\n",
    "    \n",
    "    acc = round(accuracy_score(predictions, test_lab[fold]), 3)\n",
    "    f1 = round(f1_score(predictions, test_lab[fold]), 3)\n",
    "    mcc = round(matthews_corrcoef(predictions, test_lab[fold]), 3)\n",
    "    auc = round(roc_auc_score(predictions, test_lab[fold]), 3)\n",
    "    tn, fp, fn, tp = confusion_matrix(predictions, test_lab[fold]).ravel()\n",
    "    tpr = round(tp / (tp + fn), 3)  # True positive rate\n",
    "    tnr = round(tn / (tn + fp), 3)  # True negative rate\n",
    "    fpr = round(fp / (fp + tn), 3)  # False positive rate\n",
    "    fnr = round(fn / (fn + tp), 3)  # False negative rate\n",
    "\n",
    "    results.append({\n",
    "        'Fold': fold, 'Accuracy': acc, 'F1-Score': f1, 'MCC': mcc, 'AUC': auc, 'TPR': tpr, 'TNR': tnr, 'FPR': fpr, 'FNR': fnr\n",
    "    })\n",
    "df_results = pd.DataFrame(results)\n",
    "print(df_results)"
   ]
  },
  {
   "cell_type": "code",
   "execution_count": 29,
   "metadata": {},
   "outputs": [],
   "source": [
    "def convert(number, unit='micro'):\n",
    "    if unit == 'micro':\n",
    "        result = number * 1e6\n",
    "    elif unit == 'milli':\n",
    "        result = number * 1e3\n",
    "    elif unit == 'nano':\n",
    "        result = number * 1e9\n",
    "    else:\n",
    "        raise ValueError(\"Invalid unit. Choose from 'micro', 'milli', or 'nano'.\")\n",
    "    return round(result, 3)"
   ]
  },
  {
   "cell_type": "code",
   "execution_count": 30,
   "metadata": {},
   "outputs": [
    {
     "name": "stdout",
     "output_type": "stream",
     "text": [
      "Initializing Maverick...\n",
      "Training Autoencoder\n"
     ]
    },
    {
     "name": "stderr",
     "output_type": "stream",
     "text": [
      "2025-01-15 07:07:48.037605: W tensorflow/tsl/framework/cpu_allocator_impl.cc:83] Allocation of 3689610096 exceeds 10% of free system memory.\n",
      "2025-01-15 07:08:33.504245: W tensorflow/tsl/framework/cpu_allocator_impl.cc:83] Allocation of 3689610096 exceeds 10% of free system memory.\n",
      "2025-01-15 07:09:17.058005: W tensorflow/tsl/framework/cpu_allocator_impl.cc:83] Allocation of 3689610096 exceeds 10% of free system memory.\n",
      "2025-01-15 07:09:20.186838: W tensorflow/tsl/framework/cpu_allocator_impl.cc:83] Allocation of 3689610096 exceeds 10% of free system memory.\n"
     ]
    },
    {
     "name": "stdout",
     "output_type": "stream",
     "text": [
      "Epoch 1/50\n",
      "14184/14186 [============================>.] - ETA: 0s - loss: 0.0315"
     ]
    },
    {
     "name": "stderr",
     "output_type": "stream",
     "text": [
      "2025-01-15 07:13:38.681305: W tensorflow/tsl/framework/cpu_allocator_impl.cc:83] Allocation of 651108680 exceeds 10% of free system memory.\n"
     ]
    },
    {
     "name": "stdout",
     "output_type": "stream",
     "text": [
      "14186/14186 [==============================] - 255s 16ms/step - loss: 0.0315 - val_loss: 0.0219\n",
      "Epoch 2/50\n",
      "14186/14186 [==============================] - 212s 15ms/step - loss: 0.0182 - val_loss: 0.0175\n",
      "Epoch 3/50\n",
      "14186/14186 [==============================] - 214s 15ms/step - loss: 0.0157 - val_loss: 0.0145\n",
      "Epoch 4/50\n",
      "14186/14186 [==============================] - 221s 16ms/step - loss: 0.0141 - val_loss: 0.0176\n",
      "Epoch 5/50\n",
      "14186/14186 [==============================] - 215s 15ms/step - loss: 0.0132 - val_loss: 0.0120\n",
      "Epoch 6/50\n",
      "14186/14186 [==============================] - 209s 15ms/step - loss: 0.0125 - val_loss: 0.0110\n",
      "Epoch 7/50\n",
      "14186/14186 [==============================] - 220s 16ms/step - loss: 0.0118 - val_loss: 0.0125\n",
      "Epoch 8/50\n",
      "14186/14186 [==============================] - 221s 16ms/step - loss: 0.0114 - val_loss: 0.0106\n",
      "Epoch 9/50\n",
      "14186/14186 [==============================] - 212s 15ms/step - loss: 0.0110 - val_loss: 0.0101\n",
      "Epoch 10/50\n",
      "14186/14186 [==============================] - 218s 15ms/step - loss: 0.0107 - val_loss: 0.0097\n",
      "Epoch 11/50\n",
      "14186/14186 [==============================] - 217s 15ms/step - loss: 0.0105 - val_loss: 0.0098\n",
      "Epoch 12/50\n",
      "14186/14186 [==============================] - 218s 15ms/step - loss: 0.0102 - val_loss: 0.0107\n",
      "Epoch 13/50\n",
      "14186/14186 [==============================] - 214s 15ms/step - loss: 0.0100 - val_loss: 0.0108\n",
      "Epoch 14/50\n",
      "14186/14186 [==============================] - 214s 15ms/step - loss: 0.0099 - val_loss: 0.0131\n",
      "Epoch 15/50\n",
      "14186/14186 [==============================] - 214s 15ms/step - loss: 0.0097 - val_loss: 0.0091\n",
      "Epoch 16/50\n",
      "14186/14186 [==============================] - 219s 15ms/step - loss: 0.0096 - val_loss: 0.0091\n",
      "Epoch 17/50\n",
      "14186/14186 [==============================] - 213s 15ms/step - loss: 0.0095 - val_loss: 0.0083\n",
      "Epoch 18/50\n",
      "14186/14186 [==============================] - 210s 15ms/step - loss: 0.0095 - val_loss: 0.0115\n",
      "Epoch 19/50\n",
      "14186/14186 [==============================] - 209s 15ms/step - loss: 0.0094 - val_loss: 0.0084\n",
      "Epoch 20/50\n",
      "14186/14186 [==============================] - 213s 15ms/step - loss: 0.0093 - val_loss: 0.0082\n",
      "Epoch 21/50\n",
      "14186/14186 [==============================] - 215s 15ms/step - loss: 0.0092 - val_loss: 0.0129\n",
      "Epoch 22/50\n",
      "14186/14186 [==============================] - 208s 15ms/step - loss: 0.0091 - val_loss: 0.0087\n",
      "Epoch 23/50\n",
      "14186/14186 [==============================] - 215s 15ms/step - loss: 0.0090 - val_loss: 0.0082\n",
      "Epoch 24/50\n",
      "14186/14186 [==============================] - 210s 15ms/step - loss: 0.0090 - val_loss: 0.0107\n",
      "Epoch 25/50\n",
      "14186/14186 [==============================] - 220s 15ms/step - loss: 0.0090 - val_loss: 0.0106\n",
      "Epoch 26/50\n",
      "14186/14186 [==============================] - 216s 15ms/step - loss: 0.0090 - val_loss: 0.0086\n",
      "Epoch 27/50\n",
      "14186/14186 [==============================] - 210s 15ms/step - loss: 0.0088 - val_loss: 0.0088\n",
      "Epoch 28/50\n",
      "14186/14186 [==============================] - 209s 15ms/step - loss: 0.0087 - val_loss: 0.0092\n",
      "Epoch 29/50\n",
      "14186/14186 [==============================] - 215s 15ms/step - loss: 0.0087 - val_loss: 0.0077\n",
      "Epoch 30/50\n",
      "14186/14186 [==============================] - 215s 15ms/step - loss: 0.0087 - val_loss: 0.0080\n",
      "Epoch 31/50\n",
      "14186/14186 [==============================] - 220s 15ms/step - loss: 0.0086 - val_loss: 0.0085\n",
      "Epoch 32/50\n",
      "14186/14186 [==============================] - 209s 15ms/step - loss: 0.0086 - val_loss: 0.0093\n",
      "Epoch 33/50\n",
      "14186/14186 [==============================] - 208s 15ms/step - loss: 0.0087 - val_loss: 0.0084\n",
      "Epoch 34/50\n",
      "14186/14186 [==============================] - 208s 15ms/step - loss: 0.0085 - val_loss: 0.0107\n",
      "Epoch 35/50\n",
      "14186/14186 [==============================] - 213s 15ms/step - loss: 0.0085 - val_loss: 0.0081\n",
      "Epoch 36/50\n",
      "14186/14186 [==============================] - 214s 15ms/step - loss: 0.0084 - val_loss: 0.0086\n",
      "Epoch 37/50\n",
      "14186/14186 [==============================] - 219s 15ms/step - loss: 0.0085 - val_loss: 0.0081\n",
      "Epoch 38/50\n",
      "14186/14186 [==============================] - 209s 15ms/step - loss: 0.0084 - val_loss: 0.0097\n",
      "Epoch 39/50\n",
      "14186/14186 [==============================] - 209s 15ms/step - loss: 0.0083 - val_loss: 0.0078\n",
      "Epoch 40/50\n",
      "14186/14186 [==============================] - 214s 15ms/step - loss: 0.0085 - val_loss: 0.0087\n",
      "Epoch 41/50\n",
      "14186/14186 [==============================] - 220s 16ms/step - loss: 0.0083 - val_loss: 0.0084\n",
      "Epoch 42/50\n",
      "14186/14186 [==============================] - 209s 15ms/step - loss: 0.0083 - val_loss: 0.0073\n",
      "Epoch 43/50\n",
      "14186/14186 [==============================] - 210s 15ms/step - loss: 0.0084 - val_loss: 0.0095\n",
      "Epoch 44/50\n",
      "14186/14186 [==============================] - 210s 15ms/step - loss: 0.0082 - val_loss: 0.0075\n",
      "Epoch 45/50\n",
      "14186/14186 [==============================] - 212s 15ms/step - loss: 0.0083 - val_loss: 0.0079\n",
      "Epoch 46/50\n",
      "14186/14186 [==============================] - 213s 15ms/step - loss: 0.0082 - val_loss: 0.0069\n",
      "Epoch 47/50\n",
      "14186/14186 [==============================] - 217s 15ms/step - loss: 0.0082 - val_loss: 0.0075\n",
      "Epoch 48/50\n",
      "14186/14186 [==============================] - 210s 15ms/step - loss: 0.0081 - val_loss: 0.0071\n",
      "Epoch 49/50\n",
      "14186/14186 [==============================] - 211s 15ms/step - loss: 0.0082 - val_loss: 0.0073\n",
      "Epoch 50/50\n",
      "14186/14186 [==============================] - 208s 15ms/step - loss: 0.0083 - val_loss: 0.0079\n",
      "Initialization Complete!\n",
      "Initializing Maverick...\n",
      "Training Autoencoder\n",
      "Epoch 1/50\n",
      "14186/14186 [==============================] - 254s 16ms/step - loss: 0.0315 - val_loss: 0.0193\n",
      "Epoch 2/50\n",
      "14186/14186 [==============================] - 213s 15ms/step - loss: 0.0172 - val_loss: 0.0154\n",
      "Epoch 3/50\n",
      "14186/14186 [==============================] - 218s 15ms/step - loss: 0.0148 - val_loss: 0.0130\n",
      "Epoch 4/50\n",
      "14186/14186 [==============================] - 220s 15ms/step - loss: 0.0135 - val_loss: 0.0141\n",
      "Epoch 5/50\n",
      "14186/14186 [==============================] - 220s 16ms/step - loss: 0.0127 - val_loss: 0.0114\n",
      "Epoch 6/50\n",
      "14186/14186 [==============================] - 216s 15ms/step - loss: 0.0120 - val_loss: 0.0116\n",
      "Epoch 7/50\n",
      "14186/14186 [==============================] - 212s 15ms/step - loss: 0.0115 - val_loss: 0.0114\n",
      "Epoch 8/50\n",
      "14186/14186 [==============================] - 213s 15ms/step - loss: 0.0111 - val_loss: 0.0106\n",
      "Epoch 9/50\n",
      "14186/14186 [==============================] - 217s 15ms/step - loss: 0.0110 - val_loss: 0.0114\n",
      "Epoch 10/50\n",
      "14186/14186 [==============================] - 218s 15ms/step - loss: 0.0105 - val_loss: 0.0097\n",
      "Epoch 11/50\n",
      "14186/14186 [==============================] - 214s 15ms/step - loss: 0.0103 - val_loss: 0.0150\n",
      "Epoch 12/50\n",
      "14186/14186 [==============================] - 214s 15ms/step - loss: 0.0102 - val_loss: 0.0102\n",
      "Epoch 13/50\n",
      "14186/14186 [==============================] - 220s 16ms/step - loss: 0.0100 - val_loss: 0.0096\n",
      "Epoch 14/50\n",
      "14186/14186 [==============================] - 221s 16ms/step - loss: 0.0098 - val_loss: 0.0093\n",
      "Epoch 15/50\n",
      "14186/14186 [==============================] - 218s 15ms/step - loss: 0.0096 - val_loss: 0.0092\n",
      "Epoch 16/50\n",
      "14186/14186 [==============================] - 214s 15ms/step - loss: 0.0094 - val_loss: 0.0091\n",
      "Epoch 17/50\n",
      "14186/14186 [==============================] - 214s 15ms/step - loss: 0.0093 - val_loss: 0.0113\n",
      "Epoch 18/50\n",
      "14186/14186 [==============================] - 219s 15ms/step - loss: 0.0093 - val_loss: 0.0082\n",
      "Epoch 19/50\n",
      "14186/14186 [==============================] - 217s 15ms/step - loss: 0.0092 - val_loss: 0.0091\n",
      "Epoch 20/50\n",
      "14186/14186 [==============================] - 214s 15ms/step - loss: 0.0092 - val_loss: 0.0080\n",
      "Epoch 21/50\n",
      "14186/14186 [==============================] - 213s 15ms/step - loss: 0.0091 - val_loss: 0.0090\n",
      "Epoch 22/50\n",
      "14186/14186 [==============================] - 211s 15ms/step - loss: 0.0090 - val_loss: 0.0084\n",
      "Epoch 23/50\n",
      "14186/14186 [==============================] - 218s 15ms/step - loss: 0.0088 - val_loss: 0.0078\n",
      "Epoch 24/50\n",
      "14186/14186 [==============================] - 220s 15ms/step - loss: 0.0088 - val_loss: 0.0083\n",
      "Epoch 25/50\n",
      "14186/14186 [==============================] - 212s 15ms/step - loss: 0.0089 - val_loss: 0.0081\n",
      "Epoch 26/50\n",
      "14186/14186 [==============================] - 212s 15ms/step - loss: 0.0087 - val_loss: 0.0078\n",
      "Epoch 27/50\n",
      "14186/14186 [==============================] - 212s 15ms/step - loss: 0.0088 - val_loss: 0.0086\n",
      "Epoch 28/50\n",
      "14186/14186 [==============================] - 223s 16ms/step - loss: 0.0087 - val_loss: 0.0083\n",
      "Epoch 29/50\n",
      "14186/14186 [==============================] - 223s 16ms/step - loss: 0.0086 - val_loss: 0.0084\n",
      "Epoch 30/50\n",
      "14186/14186 [==============================] - 212s 15ms/step - loss: 0.0085 - val_loss: 0.0075\n",
      "Epoch 31/50\n",
      "14186/14186 [==============================] - 214s 15ms/step - loss: 0.0085 - val_loss: 0.0082\n",
      "Epoch 32/50\n",
      "14186/14186 [==============================] - 211s 15ms/step - loss: 0.0084 - val_loss: 0.0093\n",
      "Epoch 33/50\n",
      "14186/14186 [==============================] - 221s 16ms/step - loss: 0.0084 - val_loss: 0.0077\n",
      "Epoch 34/50\n",
      "14186/14186 [==============================] - 221s 16ms/step - loss: 0.0085 - val_loss: 0.0079\n",
      "Epoch 35/50\n",
      "14186/14186 [==============================] - 213s 15ms/step - loss: 0.0083 - val_loss: 0.0079\n",
      "Epoch 36/50\n",
      "14186/14186 [==============================] - 212s 15ms/step - loss: 0.0084 - val_loss: 0.0076\n",
      "Epoch 37/50\n",
      "14186/14186 [==============================] - 213s 15ms/step - loss: 0.0084 - val_loss: 0.0078\n",
      "Epoch 38/50\n",
      "14186/14186 [==============================] - 218s 15ms/step - loss: 0.0082 - val_loss: 0.0083\n",
      "Epoch 39/50\n",
      "14186/14186 [==============================] - 219s 15ms/step - loss: 0.0082 - val_loss: 0.0076\n",
      "Epoch 40/50\n",
      "14186/14186 [==============================] - 218s 15ms/step - loss: 0.0081 - val_loss: 0.0075\n",
      "Epoch 41/50\n",
      "14186/14186 [==============================] - 211s 15ms/step - loss: 0.0081 - val_loss: 0.0084\n",
      "Epoch 42/50\n",
      "14186/14186 [==============================] - 217s 15ms/step - loss: 0.0084 - val_loss: 0.0083\n",
      "Epoch 43/50\n",
      "14186/14186 [==============================] - 218s 15ms/step - loss: 0.0081 - val_loss: 0.0081\n",
      "Epoch 44/50\n",
      "14186/14186 [==============================] - 216s 15ms/step - loss: 0.0081 - val_loss: 0.0073\n",
      "Epoch 45/50\n",
      "14186/14186 [==============================] - 219s 15ms/step - loss: 0.0079 - val_loss: 0.0083\n",
      "Epoch 46/50\n",
      "14186/14186 [==============================] - 213s 15ms/step - loss: 0.0084 - val_loss: 0.0075\n",
      "Epoch 47/50\n",
      "14186/14186 [==============================] - 211s 15ms/step - loss: 0.0078 - val_loss: 0.0081\n",
      "Epoch 48/50\n",
      "14186/14186 [==============================] - 220s 15ms/step - loss: 0.0080 - val_loss: 0.0073\n",
      "Epoch 49/50\n",
      "14186/14186 [==============================] - 220s 15ms/step - loss: 0.0078 - val_loss: 0.0074\n",
      "Epoch 50/50\n",
      "14186/14186 [==============================] - 212s 15ms/step - loss: 0.0078 - val_loss: 0.0086\n",
      "Initialization Complete!\n",
      "Initializing Maverick...\n",
      "Training Autoencoder\n",
      "Epoch 1/50\n",
      "14186/14186 [==============================] - 278s 17ms/step - loss: 0.0322 - val_loss: 0.0223\n",
      "Epoch 2/50\n",
      "14186/14186 [==============================] - 214s 15ms/step - loss: 0.0191 - val_loss: 0.0192\n",
      "Epoch 3/50\n",
      "14186/14186 [==============================] - 214s 15ms/step - loss: 0.0165 - val_loss: 0.0157\n",
      "Epoch 4/50\n",
      "14186/14186 [==============================] - 223s 16ms/step - loss: 0.0145 - val_loss: 0.0302\n",
      "Epoch 5/50\n",
      "14186/14186 [==============================] - 220s 15ms/step - loss: 0.0136 - val_loss: 0.0143\n",
      "Epoch 6/50\n",
      "14186/14186 [==============================] - 212s 15ms/step - loss: 0.0129 - val_loss: 0.0123\n",
      "Epoch 7/50\n",
      "14186/14186 [==============================] - 212s 15ms/step - loss: 0.0124 - val_loss: 0.0119\n",
      "Epoch 8/50\n",
      "14186/14186 [==============================] - 220s 16ms/step - loss: 0.0121 - val_loss: 0.0116\n",
      "Epoch 9/50\n",
      "14186/14186 [==============================] - 219s 15ms/step - loss: 0.0121 - val_loss: 0.0114\n",
      "Epoch 10/50\n",
      "14186/14186 [==============================] - 214s 15ms/step - loss: 0.0116 - val_loss: 0.0111\n",
      "Epoch 11/50\n",
      "14186/14186 [==============================] - 218s 15ms/step - loss: 0.0113 - val_loss: 0.0116\n",
      "Epoch 12/50\n",
      "14186/14186 [==============================] - 223s 16ms/step - loss: 0.0113 - val_loss: 0.0116\n",
      "Epoch 13/50\n",
      "14186/14186 [==============================] - 214s 15ms/step - loss: 0.0109 - val_loss: 0.0120\n",
      "Epoch 14/50\n",
      "14186/14186 [==============================] - 212s 15ms/step - loss: 0.0108 - val_loss: 0.0110\n",
      "Epoch 15/50\n",
      "14186/14186 [==============================] - 214s 15ms/step - loss: 0.0107 - val_loss: 0.0129\n",
      "Epoch 16/50\n",
      "14186/14186 [==============================] - 220s 16ms/step - loss: 0.0105 - val_loss: 0.0107\n",
      "Epoch 17/50\n",
      "14186/14186 [==============================] - 214s 15ms/step - loss: 0.0104 - val_loss: 0.0150\n",
      "Epoch 18/50\n",
      "14186/14186 [==============================] - 210s 15ms/step - loss: 0.0102 - val_loss: 0.0098\n",
      "Epoch 19/50\n",
      "14186/14186 [==============================] - 216s 15ms/step - loss: 0.0101 - val_loss: 0.0121\n",
      "Epoch 20/50\n",
      "14186/14186 [==============================] - 225s 16ms/step - loss: 0.0101 - val_loss: 0.0092\n",
      "Epoch 21/50\n",
      "14186/14186 [==============================] - 217s 15ms/step - loss: 0.0101 - val_loss: 0.0105\n",
      "Epoch 22/50\n",
      "14186/14186 [==============================] - 217s 15ms/step - loss: 0.0099 - val_loss: 0.0095\n",
      "Epoch 23/50\n",
      "14186/14186 [==============================] - 219s 15ms/step - loss: 0.0096 - val_loss: 0.0090\n",
      "Epoch 24/50\n",
      "14186/14186 [==============================] - 217s 15ms/step - loss: 0.0096 - val_loss: 0.0087\n",
      "Epoch 25/50\n",
      "14186/14186 [==============================] - 217s 15ms/step - loss: 0.0096 - val_loss: 0.0097\n",
      "Epoch 26/50\n",
      "14186/14186 [==============================] - 219s 15ms/step - loss: 0.0096 - val_loss: 0.0091\n",
      "Epoch 27/50\n",
      "14186/14186 [==============================] - 218s 15ms/step - loss: 0.0094 - val_loss: 0.0093\n",
      "Epoch 28/50\n",
      "14186/14186 [==============================] - 211s 15ms/step - loss: 0.0095 - val_loss: 0.0088\n",
      "Epoch 29/50\n",
      "14186/14186 [==============================] - 215s 15ms/step - loss: 0.0093 - val_loss: 0.0088\n",
      "Epoch 30/50\n",
      "14186/14186 [==============================] - 224s 16ms/step - loss: 0.0093 - val_loss: 0.0089\n",
      "Epoch 31/50\n",
      "14186/14186 [==============================] - 212s 15ms/step - loss: 0.0092 - val_loss: 0.0089\n",
      "Epoch 32/50\n",
      "14186/14186 [==============================] - 211s 15ms/step - loss: 0.0092 - val_loss: 0.0095\n",
      "Epoch 33/50\n",
      "14186/14186 [==============================] - 212s 15ms/step - loss: 0.0093 - val_loss: 0.0088\n",
      "Epoch 34/50\n",
      "14186/14186 [==============================] - 214s 15ms/step - loss: 0.0093 - val_loss: 0.0090\n",
      "Epoch 35/50\n",
      "14186/14186 [==============================] - 225s 16ms/step - loss: 0.0090 - val_loss: 0.0081\n",
      "Epoch 36/50\n",
      "14186/14186 [==============================] - 216s 15ms/step - loss: 0.0089 - val_loss: 0.0099\n",
      "Epoch 37/50\n",
      "14186/14186 [==============================] - 212s 15ms/step - loss: 0.0092 - val_loss: 0.0089\n",
      "Epoch 38/50\n",
      "14186/14186 [==============================] - 209s 15ms/step - loss: 0.0089 - val_loss: 0.0087\n",
      "Epoch 39/50\n",
      "14186/14186 [==============================] - 209s 15ms/step - loss: 0.0089 - val_loss: 0.0085\n",
      "Epoch 40/50\n",
      "14186/14186 [==============================] - 217s 15ms/step - loss: 0.0088 - val_loss: 0.0083\n",
      "Epoch 41/50\n",
      "14186/14186 [==============================] - 220s 16ms/step - loss: 0.0087 - val_loss: 0.0399\n",
      "Epoch 42/50\n",
      "14186/14186 [==============================] - 210s 15ms/step - loss: 0.0089 - val_loss: 0.0083\n",
      "Epoch 43/50\n",
      "14186/14186 [==============================] - 211s 15ms/step - loss: 0.0087 - val_loss: 0.0092\n",
      "Epoch 44/50\n",
      "14186/14186 [==============================] - 212s 15ms/step - loss: 0.0087 - val_loss: 0.0085\n",
      "Epoch 45/50\n",
      "14186/14186 [==============================] - 210s 15ms/step - loss: 0.0088 - val_loss: 0.0081\n",
      "Epoch 46/50\n",
      "14186/14186 [==============================] - 216s 15ms/step - loss: 0.0086 - val_loss: 0.0079\n",
      "Epoch 47/50\n",
      "14186/14186 [==============================] - 218s 15ms/step - loss: 0.0086 - val_loss: 0.0083\n",
      "Epoch 48/50\n",
      "14186/14186 [==============================] - 211s 15ms/step - loss: 0.0086 - val_loss: 0.0085\n",
      "Epoch 49/50\n",
      "14186/14186 [==============================] - 217s 15ms/step - loss: 0.0086 - val_loss: 0.0078\n",
      "Epoch 50/50\n",
      "14186/14186 [==============================] - 219s 15ms/step - loss: 0.0086 - val_loss: 0.0082\n",
      "Initialization Complete!\n",
      "Initializing Maverick...\n",
      "Training Autoencoder\n",
      "Epoch 1/50\n",
      "14186/14186 [==============================] - 283s 16ms/step - loss: 0.0310 - val_loss: 0.0185\n",
      "Epoch 2/50\n",
      "14186/14186 [==============================] - 217s 15ms/step - loss: 0.0181 - val_loss: 0.0157\n",
      "Epoch 3/50\n",
      "14186/14186 [==============================] - 226s 16ms/step - loss: 0.0159 - val_loss: 0.0141\n",
      "Epoch 4/50\n",
      "14186/14186 [==============================] - 223s 16ms/step - loss: 0.0146 - val_loss: 0.0135\n",
      "Epoch 5/50\n",
      "14186/14186 [==============================] - 218s 15ms/step - loss: 0.0138 - val_loss: 0.0134\n",
      "Epoch 6/50\n",
      "14186/14186 [==============================] - 214s 15ms/step - loss: 0.0131 - val_loss: 0.0128\n",
      "Epoch 7/50\n",
      "14186/14186 [==============================] - 227s 16ms/step - loss: 0.0126 - val_loss: 0.0118\n",
      "Epoch 8/50\n",
      "14186/14186 [==============================] - 220s 16ms/step - loss: 0.0125 - val_loss: 0.0112\n",
      "Epoch 9/50\n",
      "14186/14186 [==============================] - 214s 15ms/step - loss: 0.0127 - val_loss: 0.0110\n",
      "Epoch 10/50\n",
      "14186/14186 [==============================] - 217s 15ms/step - loss: 0.0120 - val_loss: 0.0110\n",
      "Epoch 11/50\n",
      "14186/14186 [==============================] - 221s 16ms/step - loss: 0.0116 - val_loss: 0.0107\n",
      "Epoch 12/50\n",
      "14186/14186 [==============================] - 217s 15ms/step - loss: 0.0114 - val_loss: 0.0123\n",
      "Epoch 13/50\n",
      "14186/14186 [==============================] - 214s 15ms/step - loss: 0.0112 - val_loss: 0.0098\n",
      "Epoch 14/50\n",
      "14186/14186 [==============================] - 213s 15ms/step - loss: 0.0106 - val_loss: 0.0101\n",
      "Epoch 15/50\n",
      "14186/14186 [==============================] - 220s 16ms/step - loss: 0.0104 - val_loss: 0.0103\n",
      "Epoch 16/50\n",
      "14186/14186 [==============================] - 213s 15ms/step - loss: 0.0104 - val_loss: 0.0194\n",
      "Epoch 17/50\n",
      "14186/14186 [==============================] - 210s 15ms/step - loss: 0.0102 - val_loss: 0.0109\n",
      "Epoch 18/50\n",
      "14186/14186 [==============================] - 220s 16ms/step - loss: 0.0101 - val_loss: 0.0096\n",
      "Epoch 19/50\n",
      "14186/14186 [==============================] - 219s 15ms/step - loss: 0.0099 - val_loss: 0.0091\n",
      "Epoch 20/50\n",
      "14186/14186 [==============================] - 215s 15ms/step - loss: 0.0101 - val_loss: 0.0096\n",
      "Epoch 21/50\n",
      "14186/14186 [==============================] - 214s 15ms/step - loss: 0.0098 - val_loss: 0.0085\n",
      "Epoch 22/50\n",
      "14186/14186 [==============================] - 211s 15ms/step - loss: 0.0095 - val_loss: 0.0097\n",
      "Epoch 23/50\n",
      "14186/14186 [==============================] - 222s 16ms/step - loss: 0.0099 - val_loss: 0.0089\n",
      "Epoch 24/50\n",
      "14186/14186 [==============================] - 220s 15ms/step - loss: 0.0095 - val_loss: 0.0102\n",
      "Epoch 25/50\n",
      "14186/14186 [==============================] - 214s 15ms/step - loss: 0.0093 - val_loss: 0.0088\n",
      "Epoch 26/50\n",
      "14186/14186 [==============================] - 218s 15ms/step - loss: 0.0094 - val_loss: 0.0093\n",
      "Epoch 27/50\n",
      "14186/14186 [==============================] - 216s 15ms/step - loss: 0.0093 - val_loss: 0.0086\n",
      "Epoch 28/50\n",
      "14186/14186 [==============================] - 217s 15ms/step - loss: 0.0093 - val_loss: 0.0082\n",
      "Epoch 29/50\n",
      "14186/14186 [==============================] - 215s 15ms/step - loss: 0.0091 - val_loss: 0.0090\n",
      "Epoch 30/50\n",
      "14186/14186 [==============================] - 212s 15ms/step - loss: 0.0091 - val_loss: 0.0088\n",
      "Epoch 31/50\n",
      "14186/14186 [==============================] - 212s 15ms/step - loss: 0.0090 - val_loss: 0.0079\n",
      "Epoch 32/50\n",
      "14186/14186 [==============================] - 215s 15ms/step - loss: 0.0090 - val_loss: 0.0088\n",
      "Epoch 33/50\n",
      "14186/14186 [==============================] - 220s 16ms/step - loss: 0.0089 - val_loss: 0.0088\n",
      "Epoch 34/50\n",
      "14186/14186 [==============================] - 223s 16ms/step - loss: 0.0106 - val_loss: 0.0094\n",
      "Epoch 35/50\n",
      "14186/14186 [==============================] - 211s 15ms/step - loss: 0.0091 - val_loss: 0.0092\n",
      "Epoch 36/50\n",
      "14186/14186 [==============================] - 212s 15ms/step - loss: 0.0092 - val_loss: 0.0113\n",
      "Epoch 37/50\n",
      "14186/14186 [==============================] - 222s 16ms/step - loss: 0.0090 - val_loss: 0.0086\n",
      "Epoch 38/50\n",
      "14186/14186 [==============================] - 216s 15ms/step - loss: 0.0088 - val_loss: 0.0096\n",
      "Epoch 39/50\n",
      "14186/14186 [==============================] - 221s 16ms/step - loss: 0.0090 - val_loss: 0.0085\n",
      "Epoch 40/50\n",
      "14186/14186 [==============================] - 217s 15ms/step - loss: 0.0088 - val_loss: 0.0084\n",
      "Epoch 41/50\n",
      "14186/14186 [==============================] - 212s 15ms/step - loss: 0.0087 - val_loss: 0.0089\n",
      "Epoch 42/50\n",
      "14186/14186 [==============================] - 216s 15ms/step - loss: 0.0088 - val_loss: 0.0081\n",
      "Epoch 43/50\n",
      "14186/14186 [==============================] - 215s 15ms/step - loss: 0.0087 - val_loss: 0.0077\n",
      "Epoch 44/50\n",
      "14186/14186 [==============================] - 223s 16ms/step - loss: 0.0088 - val_loss: 0.0083\n",
      "Epoch 45/50\n",
      "14186/14186 [==============================] - 217s 15ms/step - loss: 0.0087 - val_loss: 0.0089\n",
      "Epoch 46/50\n",
      "14186/14186 [==============================] - 216s 15ms/step - loss: 0.0085 - val_loss: 0.0075\n",
      "Epoch 47/50\n",
      "14186/14186 [==============================] - 212s 15ms/step - loss: 0.0087 - val_loss: 0.0087\n",
      "Epoch 48/50\n",
      "14186/14186 [==============================] - 213s 15ms/step - loss: 0.0087 - val_loss: 0.0075\n",
      "Epoch 49/50\n",
      "14186/14186 [==============================] - 213s 15ms/step - loss: 0.0086 - val_loss: 0.0081\n",
      "Epoch 50/50\n",
      "14186/14186 [==============================] - 220s 15ms/step - loss: 0.0085 - val_loss: 0.0180\n",
      "Initialization Complete!\n",
      "Initializing Maverick...\n",
      "Training Autoencoder\n",
      "Epoch 1/50\n",
      "14186/14186 [==============================] - 289s 16ms/step - loss: 0.0306 - val_loss: 0.0203\n",
      "Epoch 2/50\n",
      "14186/14186 [==============================] - 227s 16ms/step - loss: 0.0178 - val_loss: 0.0156\n",
      "Epoch 3/50\n",
      "14186/14186 [==============================] - 224s 16ms/step - loss: 0.0152 - val_loss: 0.0147\n",
      "Epoch 4/50\n",
      "14186/14186 [==============================] - 219s 15ms/step - loss: 0.0138 - val_loss: 0.0130\n",
      "Epoch 5/50\n",
      "14186/14186 [==============================] - 213s 15ms/step - loss: 0.0131 - val_loss: 0.0117\n",
      "Epoch 6/50\n",
      "14186/14186 [==============================] - 217s 15ms/step - loss: 0.0123 - val_loss: 0.0126\n",
      "Epoch 7/50\n",
      "14186/14186 [==============================] - 229s 16ms/step - loss: 0.0119 - val_loss: 0.0111\n",
      "Epoch 8/50\n",
      "14186/14186 [==============================] - 222s 16ms/step - loss: 0.0113 - val_loss: 0.0145\n",
      "Epoch 9/50\n",
      "14186/14186 [==============================] - 217s 15ms/step - loss: 0.0113 - val_loss: 0.0101\n",
      "Epoch 10/50\n",
      "14186/14186 [==============================] - 222s 16ms/step - loss: 0.0107 - val_loss: 0.0105\n",
      "Epoch 11/50\n",
      "14186/14186 [==============================] - 223s 16ms/step - loss: 0.0105 - val_loss: 0.0111\n",
      "Epoch 12/50\n",
      "14186/14186 [==============================] - 224s 16ms/step - loss: 0.0105 - val_loss: 0.0103\n",
      "Epoch 13/50\n",
      "14186/14186 [==============================] - 225s 16ms/step - loss: 0.0101 - val_loss: 0.0107\n",
      "Epoch 14/50\n",
      "14186/14186 [==============================] - 215s 15ms/step - loss: 0.0098 - val_loss: 0.0093\n",
      "Epoch 15/50\n",
      "14186/14186 [==============================] - 215s 15ms/step - loss: 0.0098 - val_loss: 0.0092\n",
      "Epoch 16/50\n",
      "14186/14186 [==============================] - 215s 15ms/step - loss: 0.0099 - val_loss: 0.0090\n",
      "Epoch 17/50\n",
      "14186/14186 [==============================] - 222s 16ms/step - loss: 0.0095 - val_loss: 0.0181\n",
      "Epoch 18/50\n",
      "14186/14186 [==============================] - 224s 16ms/step - loss: 0.0095 - val_loss: 0.0085\n",
      "Epoch 19/50\n",
      "14186/14186 [==============================] - 215s 15ms/step - loss: 0.0094 - val_loss: 0.0094\n",
      "Epoch 20/50\n",
      "14186/14186 [==============================] - 216s 15ms/step - loss: 0.0093 - val_loss: 0.0083\n",
      "Epoch 21/50\n",
      "14186/14186 [==============================] - 221s 16ms/step - loss: 0.0091 - val_loss: 0.0089\n",
      "Epoch 22/50\n",
      "14186/14186 [==============================] - 220s 15ms/step - loss: 0.0090 - val_loss: 0.0082\n",
      "Epoch 23/50\n",
      "14186/14186 [==============================] - 213s 15ms/step - loss: 0.0089 - val_loss: 0.0085\n",
      "Epoch 24/50\n",
      "14186/14186 [==============================] - 211s 15ms/step - loss: 0.0089 - val_loss: 0.0081\n",
      "Epoch 25/50\n",
      "14186/14186 [==============================] - 212s 15ms/step - loss: 0.0088 - val_loss: 0.0084\n",
      "Epoch 26/50\n",
      "14186/14186 [==============================] - 222s 16ms/step - loss: 0.0086 - val_loss: 0.0080\n",
      "Epoch 27/50\n",
      "14186/14186 [==============================] - 220s 15ms/step - loss: 0.0087 - val_loss: 0.0079\n",
      "Epoch 28/50\n",
      "14186/14186 [==============================] - 212s 15ms/step - loss: 0.0086 - val_loss: 0.0111\n",
      "Epoch 29/50\n",
      "14186/14186 [==============================] - 218s 15ms/step - loss: 0.0088 - val_loss: 0.0078\n",
      "Epoch 30/50\n",
      "14186/14186 [==============================] - 224s 16ms/step - loss: 0.0085 - val_loss: 0.0085\n",
      "Epoch 31/50\n",
      "14186/14186 [==============================] - 219s 15ms/step - loss: 0.0085 - val_loss: 0.0120\n",
      "Epoch 32/50\n",
      "14186/14186 [==============================] - 215s 15ms/step - loss: 0.0083 - val_loss: 0.0072\n",
      "Epoch 33/50\n",
      "14186/14186 [==============================] - 211s 15ms/step - loss: 0.0083 - val_loss: 0.0135\n",
      "Epoch 34/50\n",
      "14186/14186 [==============================] - 213s 15ms/step - loss: 0.0082 - val_loss: 0.0082\n",
      "Epoch 35/50\n",
      "14186/14186 [==============================] - 219s 15ms/step - loss: 0.0081 - val_loss: 0.0081\n",
      "Epoch 36/50\n",
      "14186/14186 [==============================] - 219s 15ms/step - loss: 0.0080 - val_loss: 0.0080\n",
      "Epoch 37/50\n",
      "14186/14186 [==============================] - 212s 15ms/step - loss: 0.0080 - val_loss: 0.0075\n",
      "Epoch 38/50\n",
      "14186/14186 [==============================] - 211s 15ms/step - loss: 0.0079 - val_loss: 0.0071\n",
      "Epoch 39/50\n",
      "14186/14186 [==============================] - 215s 15ms/step - loss: 0.0080 - val_loss: 0.0076\n",
      "Epoch 40/50\n",
      "14186/14186 [==============================] - 223s 16ms/step - loss: 0.0078 - val_loss: 0.0078\n",
      "Epoch 41/50\n",
      "14186/14186 [==============================] - 225s 16ms/step - loss: 0.0078 - val_loss: 0.0067\n",
      "Epoch 42/50\n",
      "14186/14186 [==============================] - 214s 15ms/step - loss: 0.0077 - val_loss: 0.0069\n",
      "Epoch 43/50\n",
      "14186/14186 [==============================] - 217s 15ms/step - loss: 0.0077 - val_loss: 0.0080\n",
      "Epoch 44/50\n",
      "14186/14186 [==============================] - 217s 15ms/step - loss: 0.0077 - val_loss: 0.0071\n",
      "Epoch 45/50\n",
      "14186/14186 [==============================] - 225s 16ms/step - loss: 0.0078 - val_loss: 0.0071\n",
      "Epoch 46/50\n",
      "14186/14186 [==============================] - 217s 15ms/step - loss: 0.0077 - val_loss: 0.0074\n",
      "Epoch 47/50\n",
      "14186/14186 [==============================] - 215s 15ms/step - loss: 0.0076 - val_loss: 0.0067\n",
      "Epoch 48/50\n",
      "14186/14186 [==============================] - 216s 15ms/step - loss: 0.0074 - val_loss: 0.0071\n",
      "Epoch 49/50\n",
      "14186/14186 [==============================] - 219s 15ms/step - loss: 0.0075 - val_loss: 0.0067\n",
      "Epoch 50/50\n",
      "14186/14186 [==============================] - 221s 16ms/step - loss: 0.0073 - val_loss: 0.0068\n",
      "Initialization Complete!\n"
     ]
    }
   ],
   "source": [
    "mav = {}\n",
    "experiments_dir = Path(\"maverick-experiments\")\n",
    "experiments_dir.mkdir(exist_ok=True)\n",
    "\n",
    "for fold in range(5):\n",
    "    ids = eval(f\"model{fold}\")\n",
    "    save_filename = experiments_dir / f\"autoencoder_fd_{fold}.h5\"\n",
    "    mav[fold] = Maverick(ids, X_train[fold], y_train[fold], save_filename=str(save_filename))"
   ]
  },
  {
   "cell_type": "code",
   "execution_count": 31,
   "metadata": {},
   "outputs": [
    {
     "name": "stdout",
     "output_type": "stream",
     "text": [
      "277/277 [==============================] - 20s 8ms/step\n",
      "213/213 [==============================] - 2s 6ms/step\n",
      "213/213 [==============================] - 4s 13ms/step\n",
      "191/191 [==============================] - 3s 7ms/step\n",
      "28/28 [==============================] - 2s 45ms/step\n"
     ]
    },
    {
     "data": {
      "image/png": "[encoded data removed]",
      "text/plain": [
       "<Figure size 1000x600 with 1 Axes>"
      ]
     },
     "metadata": {},
     "output_type": "display_data"
    }
   ],
   "source": [
    "R = {}\n",
    "\n",
    "for fold in range(5):\n",
    "    R[fold] = mav[fold].anomaly_scores(test_set[fold])\n",
    "    \n",
    "colors = ['blue', 'green', 'orange', 'red', 'purple']\n",
    "plt.figure(figsize=(10, 6))\n",
    "\n",
    "for fold in range(5):\n",
    "    plt.plot(R[fold], label=f'Fold {fold}', color=colors[fold], markersize=1)\n",
    "    plt.axvline(x=Counter(test_lab_sym[fold])[0], color=colors[fold], linestyle='--', linewidth=1)\n",
    "plt.title('Maverick Anomaly Scores for Each Sample')\n",
    "plt.xlabel('Sample Index')\n",
    "plt.ylabel('RMSE')\n",
    "plt.legend(title=\"Folds\")\n",
    "plt.grid(True)\n",
    "plt.legend()\n",
    "plt.show()"
   ]
  },
  {
   "cell_type": "code",
   "execution_count": 51,
   "metadata": {},
   "outputs": [
    {
     "name": "stdout",
     "output_type": "stream",
     "text": [
      "191/191 [==============================] - 1s 6ms/step\n"
     ]
    },
    {
     "data": {
      "image/png": "[encoded data removed]",
      "text/plain": [
       "<Figure size 1000x600 with 1 Axes>"
      ]
     },
     "metadata": {},
     "output_type": "display_data"
    },
    {
     "name": "stdout",
     "output_type": "stream",
     "text": [
      "191/191 [==============================] - 1s 5ms/step\n",
      "0.08832537130175744\n"
     ]
    }
   ],
   "source": [
    "index = 3\n",
    "mav[index].plot_rmse_scores(pd.DataFrame(test_set[index], columns = X_test[index].columns), test_lab_sym[index])\n",
    "#mav[index].get_roc_curve(pd.DataFrame(test_set[index], columns = X_test[index].columns), test_lab_sym[index])\n",
    "scores = mav[index].anomaly_scores(pd.DataFrame(test_set[index], columns = X_test[index].columns))\n",
    "fpr, tpr, thresholds = roc_curve(test_lab_sym[index], scores, pos_label=1)\n",
    "optimal_idx = np.argmax(tpr - fpr)\n",
    "threshold = thresholds[optimal_idx]\n",
    "print(threshold)"
   ]
  },
  {
   "cell_type": "code",
   "execution_count": 78,
   "metadata": {},
   "outputs": [
    {
     "name": "stdout",
     "output_type": "stream",
     "text": [
      "277/277 [==============================] - 2s 5ms/step\n",
      "213/213 [==============================] - 1s 6ms/step\n",
      "213/213 [==============================] - 1s 5ms/step\n",
      "191/191 [==============================] - 1s 5ms/step\n",
      "28/28 [==============================] - 0s 6ms/step\n",
      "   Fold   Acc.  F1-Sc.    MCC    AUC    TPR    TNR    FPR    FNR\n",
      "0     0  1.000   1.000  0.999  0.999  1.000  0.999  0.001  0.000\n",
      "1     1  1.000   1.000  0.999  1.000  1.000  0.999  0.001  0.000\n",
      "2     2  1.000   1.000  1.000  1.000  1.000  1.000  0.000  0.000\n",
      "3     3  0.998   0.998  0.995  0.997  0.998  0.997  0.003  0.002\n",
      "4     4  1.000   1.000  1.000  1.000  1.000  1.000  0.000  0.000\n"
     ]
    }
   ],
   "source": [
    "metrics = []\n",
    "threshold = {0:0.07, 1:0.11, 2:0.18, 3:0.088, 4:0.09}\n",
    "columns = [\"Fold\", \"Acc.\", \"F1-Sc.\", \"MCC\", \"AUC\", \"TPR\", \"TNR\", \"FPR\", \"FNR\"]\n",
    "\n",
    "for fold in range(5):\n",
    "    predictions = []\n",
    "    ids = eval(f\"model{fold}\")\n",
    "    Rf = mav[fold].anomaly_scores(test_set[fold])\n",
    "    preds = ids.predict(test_set[fold])\n",
    "    predictions = np.where(Rf <= threshold[fold], preds, np.abs(1 - preds))  \n",
    "    accuracy = round(accuracy_score(predictions, test_lab[fold]), 3)\n",
    "    f1 = round(f1_score(predictions, test_lab[fold]), 3)\n",
    "    mcc = round(matthews_corrcoef(predictions, test_lab[fold]), 3)\n",
    "    auc = round(roc_auc_score(predictions, test_lab[fold]), 3)\n",
    "    tn, fp, fn, tp = confusion_matrix(predictions, test_lab[fold]).ravel()\n",
    "    tpr = round(tp / (tp + fn), 3)  # True positive rate\n",
    "    tnr = round(tn / (tn + fp), 3)  # True negative rate\n",
    "    fpr = round(fp / (fp + tn), 3)  # False positive rate\n",
    "    fnr = round(fn / (fn + tp), 3)  # False negative rate\n",
    "    metrics.append([fold, accuracy, f1, mcc, auc, tpr, tnr, fpr, fnr])\n",
    "metrics_df = pd.DataFrame(metrics, columns=columns)\n",
    "print(metrics_df)"
   ]
  },
  {
   "cell_type": "code",
   "execution_count": 85,
   "metadata": {},
   "outputs": [
    {
     "name": "stdout",
     "output_type": "stream",
     "text": [
      "\n",
      "Summary:\n",
      "                Value\n",
      "Acc.    0.999 ± 0.001\n",
      "F1-Sc.  0.999 ± 0.001\n",
      "MCC     0.998 ± 0.002\n",
      "AUC     0.999 ± 0.001\n",
      "TPR     0.999 ± 0.001\n",
      "TNR     0.999 ± 0.001\n",
      "FPR     0.001 ± 0.001\n",
      "FNR     0.000 ± 0.001\n"
     ]
    }
   ],
   "source": [
    "summary = {col: f\"{str(metrics_df[col].mean())[:5]} ± {metrics_df[col].std():.3f}\" for col in columns[1:]}\n",
    "summary_df = pd.DataFrame(summary, index=[\"Summary\"]).T\n",
    "summary_df.columns = [\"Value\"]\n",
    "print(\"\\nSummary:\")\n",
    "print(summary_df)"
   ]
  },
  {
   "cell_type": "code",
   "execution_count": 86,
   "metadata": {},
   "outputs": [
    {
     "ename": "SystemExit",
     "evalue": "The bottom timing experiments take too long (30 seconds for Maverick and 6 hours for OC-Score)",
     "output_type": "error",
     "traceback": [
      "An exception has occurred, use %tb to see the full traceback.\n",
      "\u001b[0;31mSystemExit\u001b[0m\u001b[0;31m:\u001b[0m The bottom timing experiments take too long (30 seconds for Maverick and 6 hours for OC-Score)\n"
     ]
    }
   ],
   "source": [
    "raise SystemExit(\"The bottom timing experiments take too long (30 seconds for Maverick and 6 hours for OC-Score)\")"
   ]
  },
  {
   "cell_type": "markdown",
   "metadata": {},
   "source": [
    "Maverick: Computing min, max, average and standard deviation!"
   ]
  },
  {
   "cell_type": "markdown",
   "metadata": {},
   "source": [
    "Finding the fold with the largest test set"
   ]
  },
  {
   "cell_type": "code",
   "execution_count": 57,
   "metadata": {},
   "outputs": [
    {
     "name": "stdout",
     "output_type": "stream",
     "text": [
      "Fold ID: 0\n"
     ]
    }
   ],
   "source": [
    "test_set = [test_set[0], test_set[1], test_set[2], test_set[3], test_set[4]]\n",
    "index = np.array([len(item) for item in test_set]).argmax()\n",
    "print(\"Fold ID:\", index)"
   ]
  },
  {
   "cell_type": "code",
   "execution_count": 58,
   "metadata": {},
   "outputs": [
    {
     "name": "stdout",
     "output_type": "stream",
     "text": [
      "277/277 [==============================] - 2s 6ms/step\n",
      "277/277 [==============================] - 2s 6ms/step\n",
      "277/277 [==============================] - 2s 6ms/step\n",
      "277/277 [==============================] - 2s 6ms/step\n",
      "277/277 [==============================] - 2s 6ms/step\n",
      "277/277 [==============================] - 2s 6ms/step\n",
      "277/277 [==============================] - 2s 6ms/step\n",
      "277/277 [==============================] - 2s 6ms/step\n",
      "277/277 [==============================] - 2s 6ms/step\n",
      "277/277 [==============================] - 2s 6ms/step\n",
      "Min time: 52.562 μs\n",
      "Max time: 63.063 μs\n",
      "Average time: 55.774 μs\n",
      "Standard deviation: 2.998 μs\n"
     ]
    }
   ],
   "source": [
    "times = []\n",
    "\n",
    "for _ in range(10):\n",
    "    start_time = time.time()\n",
    "    y_pred = mav[index].predict(test_set[index], threshold=0.09)\n",
    "    end_time = time.time()\n",
    "    times.append(convert((end_time - start_time)/len(test_set[index])))\n",
    "    \n",
    "# Calculate statistics\n",
    "min_time = min(times)\n",
    "max_time = max(times)\n",
    "avg_time_mav = np.mean(times)\n",
    "std_dev_time = np.std(times)\n",
    "\n",
    "# Output the results\n",
    "print(f\"Min time: {round(min_time,3)} μs\")\n",
    "print(f\"Max time: {round(max_time,3)} μs\")\n",
    "print(f\"Average time: {round(avg_time_mav,3)} μs\")\n",
    "print(f\"Standard deviation: {round(std_dev_time,3)} μs\")"
   ]
  },
  {
   "cell_type": "markdown",
   "metadata": {},
   "source": [
    "OC-Score: Computing min, max, average and standard deviation!"
   ]
  },
  {
   "cell_type": "code",
   "execution_count": 59,
   "metadata": {},
   "outputs": [
    {
     "name": "stdout",
     "output_type": "stream",
     "text": [
      "[+] OC-Score: Predictions Completed\n",
      "[+] OC-Score: Predictions Completed\n",
      "[+] OC-Score: Predictions Completed\n",
      "[+] OC-Score: Predictions Completed\n",
      "[+] OC-Score: Predictions Completed\n",
      "[+] OC-Score: Predictions Completed\n",
      "[+] OC-Score: Predictions Completed\n",
      "[+] OC-Score: Predictions Completed\n",
      "[+] OC-Score: Predictions Completed\n",
      "[+] OC-Score: Predictions Completed\n",
      "Min time: 29795.603 μs\n",
      "Max time: 33560.072 μs\n",
      "Average time: 31538.583 μs\n",
      "Standard deviation: 1138.425 μs\n"
     ]
    }
   ],
   "source": [
    "times = []\n",
    "\n",
    "for _ in range(10):\n",
    "    start_time = time.time()\n",
    "    S = ocscore.ocscores(idref[index], idquery[index])\n",
    "    end_time = time.time()\n",
    "    print(\"[+] OC-Score: Predictions Completed\")\n",
    "    times.append(convert((end_time - start_time)/len(test_set[index])))\n",
    "    \n",
    "# Calculate statistics\n",
    "min_time = min(times)\n",
    "max_time = max(times)\n",
    "avg_time_oc = np.mean(times)\n",
    "std_dev_time = np.std(times)\n",
    "\n",
    "# Output the results\n",
    "print(f\"Min time: {round(min_time,3)} μs\")\n",
    "print(f\"Max time: {round(max_time,3)} μs\")\n",
    "print(f\"Average time: {round(avg_time_oc,3)} μs\")\n",
    "print(f\"Standard deviation: {round(std_dev_time,3)} μs\")"
   ]
  }
 ],
 "metadata": {
  "kernelspec": {
   "display_name": "Python 3",
   "language": "python",
   "name": "python3"
  },
  "language_info": {
   "codemirror_mode": {
    "name": "ipython",
    "version": 3
   },
   "file_extension": ".py",
   "mimetype": "text/x-python",
   "name": "python",
   "nbconvert_exporter": "python",
   "pygments_lexer": "ipython3",
   "version": "3.8.10"
  }
 },
 "nbformat": 4,
 "nbformat_minor": 2
}
